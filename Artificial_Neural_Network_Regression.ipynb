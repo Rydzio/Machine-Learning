{
  "nbformat": 4,
  "nbformat_minor": 0,
  "metadata": {
    "colab": {
      "provenance": [],
      "include_colab_link": true
    },
    "kernelspec": {
      "name": "python3",
      "display_name": "Python 3"
    }
  },
  "cells": [
    {
      "cell_type": "markdown",
      "metadata": {
        "id": "view-in-github",
        "colab_type": "text"
      },
      "source": [
        "<a href=\"https://colab.research.google.com/github/Rydzio/Machine-Learning/blob/main/Artificial_Neural_Network_Regression.ipynb\" target=\"_parent\"><img src=\"https://colab.research.google.com/assets/colab-badge.svg\" alt=\"Open In Colab\"/></a>"
      ]
    },
    {
      "cell_type": "markdown",
      "metadata": {
        "id": "3cbb7fRy-eyr"
      },
      "source": [
        "# Artificial Neural Network"
      ]
    },
    {
      "cell_type": "markdown",
      "source": [
        "Link to the picture:\n",
        "https://drive.google.com/file/d/1PfDfForXZd0_kOp2G2Box4BvEhN_HIhc/view?usp=share_link\n",
        "\n",
        "Now we need to copy JUST the image id:\n",
        "1PfDfForXZd0_kOp2G2Box4BvEhN_HIhc\n",
        "\n",
        "We will use this base link to generate your link with the image id:\n",
        "https://drive.google.com/uc?export=view&id=your_id\n",
        "\n",
        "We then copy the id in the link:\n",
        "https://drive.google.com/uc?export=view&id=1PfDfForXZd0_kOp2G2Box4BvEhN_HIhc\n",
        "\n",
        "Finally, to place as an image in Google Colab:\n",
        "![](https://drive.google.com/uc?export=view&id=1PfDfForXZd0_kOp2G2Box4BvEhN_HIhc\n",
        ")"
      ],
      "metadata": {
        "id": "qiliANKEoK1H"
      }
    },
    {
      "cell_type": "code",
      "source": [
        "![](https://drive.google.com/uc?id=1PfDfForXZd0_kOp2G2Box4BvEhN_HIhc)"
      ],
      "metadata": {
        "colab": {
          "base_uri": "https://localhost:8080/"
        },
        "id": "RHmkJ_2epClR",
        "outputId": "4ce316fb-1151-4c06-aa19-808e4440a79a"
      },
      "execution_count": null,
      "outputs": [
        {
          "output_type": "stream",
          "name": "stdout",
          "text": [
            "/bin/bash: -c: line 0: syntax error near unexpected token `https://drive.google.com/uc?id=1PfDfForXZd0_kOp2G2Box4BvEhN_HIhc'\n",
            "/bin/bash: -c: line 0: `[](https://drive.google.com/uc?id=1PfDfForXZd0_kOp2G2Box4BvEhN_HIhc)'\n"
          ]
        }
      ]
    },
    {
      "cell_type": "markdown",
      "metadata": {
        "id": "8sNDnxE2-pwE"
      },
      "source": [
        "### Importing the libraries"
      ]
    },
    {
      "cell_type": "code",
      "source": [
        "import pandas as pd\n",
        "import numpy as np\n",
        "import tensorflow as tf"
      ],
      "metadata": {
        "id": "IBsoFbpIeJpv"
      },
      "execution_count": null,
      "outputs": []
    },
    {
      "cell_type": "code",
      "source": [
        "tf.__version__"
      ],
      "metadata": {
        "colab": {
          "base_uri": "https://localhost:8080/",
          "height": 37
        },
        "id": "oNcB0X5SfBt7",
        "outputId": "8dc4b6da-bb79-4c03-9445-96bcf7a6c7a4"
      },
      "execution_count": null,
      "outputs": [
        {
          "output_type": "execute_result",
          "data": {
            "text/plain": [
              "'2.11.0'"
            ],
            "application/vnd.google.colaboratory.intrinsic+json": {
              "type": "string"
            }
          },
          "metadata": {},
          "execution_count": 3
        }
      ]
    },
    {
      "cell_type": "markdown",
      "metadata": {
        "id": "AG3FQEch-yuA"
      },
      "source": [
        "## Part 1 - Data Preprocessing"
      ]
    },
    {
      "cell_type": "markdown",
      "metadata": {
        "id": "-4zq8Mza_D9O"
      },
      "source": [
        "### Importing the dataset"
      ]
    },
    {
      "cell_type": "code",
      "source": [
        "from google.colab import drive\n",
        "drive.mount('/content/gdrive/', force_remount = True)"
      ],
      "metadata": {
        "colab": {
          "base_uri": "https://localhost:8080/"
        },
        "id": "XVwBC2rQef_J",
        "outputId": "85897629-aaac-48e9-dd07-d4210c52f626"
      },
      "execution_count": null,
      "outputs": [
        {
          "output_type": "stream",
          "name": "stdout",
          "text": [
            "Mounted at /content/gdrive/\n"
          ]
        }
      ]
    },
    {
      "cell_type": "code",
      "source": [
        "data = '/content/gdrive/MyDrive/Machine Learning A-Z (Codes and Datasets)/Part 8 - Deep Learning/Bonus - Artificial Neural Networks (ANN) for Regression/Dataset/Folds5x2_pp.xlsx'\n",
        "dataset = pd.read_excel(data)\n",
        "X = dataset.iloc[:, :-1].values\n",
        "y = dataset.iloc[:, -1].values"
      ],
      "metadata": {
        "id": "Yc1BbwzYfuGV"
      },
      "execution_count": null,
      "outputs": []
    },
    {
      "cell_type": "markdown",
      "metadata": {
        "id": "VC6omXel_Up0"
      },
      "source": [
        "### Splitting the dataset into the Training set and Test set"
      ]
    },
    {
      "cell_type": "code",
      "source": [
        "from sklearn.model_selection import train_test_split\n",
        "X_train, X_test, y_train, y_test = train_test_split(X, y, train_size=0.8, random_state=0)"
      ],
      "metadata": {
        "id": "DwjVnCXNlOxD"
      },
      "execution_count": null,
      "outputs": []
    },
    {
      "cell_type": "code",
      "source": [
        "print(X_train)"
      ],
      "metadata": {
        "colab": {
          "base_uri": "https://localhost:8080/"
        },
        "id": "1-ahVFV8lqCj",
        "outputId": "54de8116-5e58-432d-bb78-7ba6ecb651bd"
      },
      "execution_count": null,
      "outputs": [
        {
          "output_type": "stream",
          "name": "stdout",
          "text": [
            "[[  11.22   43.13 1017.24   80.9 ]\n",
            " [  13.67   54.3  1015.92   75.42]\n",
            " [  32.84   77.95 1014.68   45.8 ]\n",
            " ...\n",
            " [  16.81   38.52 1018.26   75.21]\n",
            " [  12.8    41.16 1022.43   86.19]\n",
            " [  32.32   67.9  1006.08   37.93]]\n"
          ]
        }
      ]
    },
    {
      "cell_type": "code",
      "source": [
        "print(X_test)"
      ],
      "metadata": {
        "colab": {
          "base_uri": "https://localhost:8080/"
        },
        "id": "vT95ddyllru8",
        "outputId": "b3a38ca5-d17f-4106-8255-2c0c114abc2a"
      },
      "execution_count": null,
      "outputs": [
        {
          "output_type": "stream",
          "name": "stdout",
          "text": [
            "[[  28.66   77.95 1009.56   69.07]\n",
            " [  17.48   49.39 1021.51   84.53]\n",
            " [  14.86   43.14 1019.21   99.14]\n",
            " ...\n",
            " [  12.24   44.92 1023.74   88.21]\n",
            " [  27.28   47.93 1003.46   59.22]\n",
            " [  17.28   39.99 1007.09   74.25]]\n"
          ]
        }
      ]
    },
    {
      "cell_type": "code",
      "source": [
        "print(y_train)"
      ],
      "metadata": {
        "colab": {
          "base_uri": "https://localhost:8080/"
        },
        "id": "hgAovfBdlt6A",
        "outputId": "9d41c110-6fad-4a28-9ecf-4ae445c18357"
      },
      "execution_count": null,
      "outputs": [
        {
          "output_type": "stream",
          "name": "stdout",
          "text": [
            "[473.93 467.87 431.97 ... 459.01 462.72 428.12]\n"
          ]
        }
      ]
    },
    {
      "cell_type": "code",
      "source": [
        "print(y_test)"
      ],
      "metadata": {
        "colab": {
          "base_uri": "https://localhost:8080/"
        },
        "id": "qUFQLCaLlwPA",
        "outputId": "2839d094-3eed-4c85-ed3c-f9a7402cd1f8"
      },
      "execution_count": null,
      "outputs": [
        {
          "output_type": "stream",
          "name": "stdout",
          "text": [
            "[431.23 460.01 461.14 ... 473.26 438.   463.28]\n"
          ]
        }
      ]
    },
    {
      "cell_type": "markdown",
      "metadata": {
        "id": "_mSLlAT9_eyI"
      },
      "source": [
        "## Part 2 - Building the ANN"
      ]
    },
    {
      "cell_type": "markdown",
      "metadata": {
        "id": "CsBULd_f_wLY"
      },
      "source": [
        "### Initializing the ANN"
      ]
    },
    {
      "cell_type": "code",
      "source": [
        "ann = tf.keras.models.Sequential()"
      ],
      "metadata": {
        "id": "jVGF122_mVMr"
      },
      "execution_count": null,
      "outputs": []
    },
    {
      "cell_type": "markdown",
      "metadata": {
        "id": "iitAFJS_ABUn"
      },
      "source": [
        "### Adding the input layer and the first hidden layer"
      ]
    },
    {
      "cell_type": "code",
      "source": [
        "ann.add(tf.keras.layers.Dense(units=6, activation='relu'))"
      ],
      "metadata": {
        "id": "PSKz33YtmV05"
      },
      "execution_count": null,
      "outputs": []
    },
    {
      "cell_type": "markdown",
      "metadata": {
        "id": "-lb4kK_wAKbs"
      },
      "source": [
        "### Adding the second hidden layer"
      ]
    },
    {
      "cell_type": "code",
      "source": [
        "ann.add(tf.keras.layers.Dense(units=6, activation='relu'))"
      ],
      "metadata": {
        "id": "0oBGlljZmWaL"
      },
      "execution_count": null,
      "outputs": []
    },
    {
      "cell_type": "markdown",
      "metadata": {
        "id": "jwMOmKb3AdBY"
      },
      "source": [
        "### Adding the output layer"
      ]
    },
    {
      "cell_type": "code",
      "source": [
        "# if doing classification with only two categories (yes/no) -> activation = 'sigmoid'\n",
        "# if doing classification with more than two categories -> activation = 'softmax'\n",
        "# if doing regression -> no activation function\n",
        "ann.add(tf.keras.layers.Dense(units=1))"
      ],
      "metadata": {
        "id": "Z0PCSI2-mXHU"
      },
      "execution_count": null,
      "outputs": []
    },
    {
      "cell_type": "markdown",
      "metadata": {
        "id": "fq7e4fF6A1yy"
      },
      "source": [
        "## Part 3 - Training the ANN"
      ]
    },
    {
      "cell_type": "markdown",
      "metadata": {
        "id": "qDeylAs2An25"
      },
      "source": [
        "### Compiling the ANN"
      ]
    },
    {
      "cell_type": "code",
      "source": [
        "ann.compile(optimizer='adam', loss='mean_squared_error')\n",
        "# for stochastic gradient descent -> optimizer='adam'\n",
        "# for regression -> loss='mean_squared_error'"
      ],
      "metadata": {
        "id": "sqdH4vjiuIP3"
      },
      "execution_count": null,
      "outputs": []
    },
    {
      "cell_type": "markdown",
      "metadata": {
        "id": "YjVuiybYOo7r"
      },
      "source": [
        "### Training the ANN model on the Training set"
      ]
    },
    {
      "cell_type": "code",
      "source": [
        "ann.fit(X_train, y_train, batch_size=32, epochs=100)"
      ],
      "metadata": {
        "colab": {
          "base_uri": "https://localhost:8080/"
        },
        "id": "1Fjx5CzIuI87",
        "outputId": "51c5e8cb-61f0-4e56-bdca-1705c156bb9d"
      },
      "execution_count": null,
      "outputs": [
        {
          "output_type": "stream",
          "name": "stdout",
          "text": [
            "Epoch 1/100\n",
            "240/240 [==============================] - 3s 4ms/step - loss: 36374.9180\n",
            "Epoch 2/100\n",
            "240/240 [==============================] - 1s 4ms/step - loss: 287.9074\n",
            "Epoch 3/100\n",
            "240/240 [==============================] - 1s 3ms/step - loss: 277.1739\n",
            "Epoch 4/100\n",
            "240/240 [==============================] - 1s 3ms/step - loss: 263.9195\n",
            "Epoch 5/100\n",
            "240/240 [==============================] - 1s 4ms/step - loss: 248.1610\n",
            "Epoch 6/100\n",
            "240/240 [==============================] - 1s 5ms/step - loss: 230.8770\n",
            "Epoch 7/100\n",
            "240/240 [==============================] - 2s 6ms/step - loss: 211.8290\n",
            "Epoch 8/100\n",
            "240/240 [==============================] - 1s 6ms/step - loss: 192.0406\n",
            "Epoch 9/100\n",
            "240/240 [==============================] - 1s 4ms/step - loss: 172.0952\n",
            "Epoch 10/100\n",
            "240/240 [==============================] - 1s 3ms/step - loss: 151.5406\n",
            "Epoch 11/100\n",
            "240/240 [==============================] - 1s 3ms/step - loss: 132.0096\n",
            "Epoch 12/100\n",
            "240/240 [==============================] - 1s 2ms/step - loss: 113.5506\n",
            "Epoch 13/100\n",
            "240/240 [==============================] - 1s 3ms/step - loss: 96.4021\n",
            "Epoch 14/100\n",
            "240/240 [==============================] - 1s 3ms/step - loss: 81.6060\n",
            "Epoch 15/100\n",
            "240/240 [==============================] - 1s 4ms/step - loss: 69.5780\n",
            "Epoch 16/100\n",
            "240/240 [==============================] - 1s 4ms/step - loss: 59.5441\n",
            "Epoch 17/100\n",
            "240/240 [==============================] - 1s 4ms/step - loss: 51.9840\n",
            "Epoch 18/100\n",
            "240/240 [==============================] - 1s 3ms/step - loss: 46.4537\n",
            "Epoch 19/100\n",
            "240/240 [==============================] - 1s 3ms/step - loss: 42.2497\n",
            "Epoch 20/100\n",
            "240/240 [==============================] - 1s 3ms/step - loss: 39.5333\n",
            "Epoch 21/100\n",
            "240/240 [==============================] - 1s 3ms/step - loss: 37.0919\n",
            "Epoch 22/100\n",
            "240/240 [==============================] - 1s 5ms/step - loss: 35.7211\n",
            "Epoch 23/100\n",
            "240/240 [==============================] - 1s 2ms/step - loss: 34.4698\n",
            "Epoch 24/100\n",
            "240/240 [==============================] - 1s 3ms/step - loss: 33.5244\n",
            "Epoch 25/100\n",
            "240/240 [==============================] - 1s 2ms/step - loss: 32.5411\n",
            "Epoch 26/100\n",
            "240/240 [==============================] - 1s 2ms/step - loss: 32.0583\n",
            "Epoch 27/100\n",
            "240/240 [==============================] - 1s 3ms/step - loss: 31.5254\n",
            "Epoch 28/100\n",
            "240/240 [==============================] - 0s 2ms/step - loss: 31.0133\n",
            "Epoch 29/100\n",
            "240/240 [==============================] - 0s 2ms/step - loss: 30.4624\n",
            "Epoch 30/100\n",
            "240/240 [==============================] - 0s 2ms/step - loss: 30.4855\n",
            "Epoch 31/100\n",
            "240/240 [==============================] - 0s 2ms/step - loss: 29.9103\n",
            "Epoch 32/100\n",
            "240/240 [==============================] - 0s 2ms/step - loss: 29.5636\n",
            "Epoch 33/100\n",
            "240/240 [==============================] - 0s 2ms/step - loss: 29.1322\n",
            "Epoch 34/100\n",
            "240/240 [==============================] - 0s 2ms/step - loss: 29.9252\n",
            "Epoch 35/100\n",
            "240/240 [==============================] - 0s 2ms/step - loss: 28.9621\n",
            "Epoch 36/100\n",
            "240/240 [==============================] - 0s 2ms/step - loss: 29.1472\n",
            "Epoch 37/100\n",
            "240/240 [==============================] - 0s 2ms/step - loss: 28.5157\n",
            "Epoch 38/100\n",
            "240/240 [==============================] - 0s 2ms/step - loss: 28.4334\n",
            "Epoch 39/100\n",
            "240/240 [==============================] - 0s 2ms/step - loss: 27.6306\n",
            "Epoch 40/100\n",
            "240/240 [==============================] - 0s 2ms/step - loss: 27.5425\n",
            "Epoch 41/100\n",
            "240/240 [==============================] - 0s 2ms/step - loss: 27.9125\n",
            "Epoch 42/100\n",
            "240/240 [==============================] - 0s 2ms/step - loss: 29.8068\n",
            "Epoch 43/100\n",
            "240/240 [==============================] - 0s 2ms/step - loss: 28.1380\n",
            "Epoch 44/100\n",
            "240/240 [==============================] - 0s 2ms/step - loss: 27.2987\n",
            "Epoch 45/100\n",
            "240/240 [==============================] - 0s 2ms/step - loss: 27.4135\n",
            "Epoch 46/100\n",
            "240/240 [==============================] - 0s 2ms/step - loss: 27.1160\n",
            "Epoch 47/100\n",
            "240/240 [==============================] - 0s 2ms/step - loss: 27.4348\n",
            "Epoch 48/100\n",
            "240/240 [==============================] - 0s 2ms/step - loss: 28.3407\n",
            "Epoch 49/100\n",
            "240/240 [==============================] - 0s 2ms/step - loss: 27.3089\n",
            "Epoch 50/100\n",
            "240/240 [==============================] - 0s 2ms/step - loss: 27.0210\n",
            "Epoch 51/100\n",
            "240/240 [==============================] - 0s 2ms/step - loss: 27.3934\n",
            "Epoch 52/100\n",
            "240/240 [==============================] - 0s 2ms/step - loss: 27.8939\n",
            "Epoch 53/100\n",
            "240/240 [==============================] - 1s 2ms/step - loss: 27.3387\n",
            "Epoch 54/100\n",
            "240/240 [==============================] - 1s 2ms/step - loss: 26.7588\n",
            "Epoch 55/100\n",
            "240/240 [==============================] - 1s 2ms/step - loss: 27.2031\n",
            "Epoch 56/100\n",
            "240/240 [==============================] - 1s 3ms/step - loss: 26.8817\n",
            "Epoch 57/100\n",
            "240/240 [==============================] - 1s 2ms/step - loss: 26.8687\n",
            "Epoch 58/100\n",
            "240/240 [==============================] - 1s 2ms/step - loss: 26.9601\n",
            "Epoch 59/100\n",
            "240/240 [==============================] - 1s 2ms/step - loss: 27.7595\n",
            "Epoch 60/100\n",
            "240/240 [==============================] - 1s 2ms/step - loss: 27.1391\n",
            "Epoch 61/100\n",
            "240/240 [==============================] - 0s 2ms/step - loss: 27.9420\n",
            "Epoch 62/100\n",
            "240/240 [==============================] - 0s 2ms/step - loss: 27.3592\n",
            "Epoch 63/100\n",
            "240/240 [==============================] - 0s 2ms/step - loss: 26.6672\n",
            "Epoch 64/100\n",
            "240/240 [==============================] - 0s 2ms/step - loss: 26.9571\n",
            "Epoch 65/100\n",
            "240/240 [==============================] - 0s 2ms/step - loss: 26.9274\n",
            "Epoch 66/100\n",
            "240/240 [==============================] - 0s 2ms/step - loss: 27.9690\n",
            "Epoch 67/100\n",
            "240/240 [==============================] - 0s 2ms/step - loss: 26.9706\n",
            "Epoch 68/100\n",
            "240/240 [==============================] - 0s 2ms/step - loss: 27.6997\n",
            "Epoch 69/100\n",
            "240/240 [==============================] - 0s 2ms/step - loss: 27.3655\n",
            "Epoch 70/100\n",
            "240/240 [==============================] - 0s 2ms/step - loss: 27.2029\n",
            "Epoch 71/100\n",
            "240/240 [==============================] - 0s 2ms/step - loss: 27.4585\n",
            "Epoch 72/100\n",
            "240/240 [==============================] - 0s 2ms/step - loss: 27.7651\n",
            "Epoch 73/100\n",
            "240/240 [==============================] - 0s 2ms/step - loss: 27.0807\n",
            "Epoch 74/100\n",
            "240/240 [==============================] - 0s 2ms/step - loss: 27.0136\n",
            "Epoch 75/100\n",
            "240/240 [==============================] - 0s 2ms/step - loss: 26.9699\n",
            "Epoch 76/100\n",
            "240/240 [==============================] - 0s 2ms/step - loss: 27.8230\n",
            "Epoch 77/100\n",
            "240/240 [==============================] - 0s 2ms/step - loss: 28.0090\n",
            "Epoch 78/100\n",
            "240/240 [==============================] - 0s 2ms/step - loss: 26.8858\n",
            "Epoch 79/100\n",
            "240/240 [==============================] - 0s 2ms/step - loss: 26.8991\n",
            "Epoch 80/100\n",
            "240/240 [==============================] - 0s 2ms/step - loss: 27.4764\n",
            "Epoch 81/100\n",
            "240/240 [==============================] - 0s 2ms/step - loss: 27.0494\n",
            "Epoch 82/100\n",
            "240/240 [==============================] - 0s 2ms/step - loss: 27.2494\n",
            "Epoch 83/100\n",
            "240/240 [==============================] - 0s 2ms/step - loss: 26.8875\n",
            "Epoch 84/100\n",
            "240/240 [==============================] - 0s 2ms/step - loss: 26.7352\n",
            "Epoch 85/100\n",
            "240/240 [==============================] - 1s 2ms/step - loss: 27.0323\n",
            "Epoch 86/100\n",
            "240/240 [==============================] - 1s 3ms/step - loss: 27.0660\n",
            "Epoch 87/100\n",
            "240/240 [==============================] - 1s 2ms/step - loss: 26.9502\n",
            "Epoch 88/100\n",
            "240/240 [==============================] - 1s 2ms/step - loss: 27.0750\n",
            "Epoch 89/100\n",
            "240/240 [==============================] - 1s 2ms/step - loss: 27.3173\n",
            "Epoch 90/100\n",
            "240/240 [==============================] - 1s 2ms/step - loss: 27.6487\n",
            "Epoch 91/100\n",
            "240/240 [==============================] - 1s 2ms/step - loss: 27.3220\n",
            "Epoch 92/100\n",
            "240/240 [==============================] - 1s 2ms/step - loss: 26.6377\n",
            "Epoch 93/100\n",
            "240/240 [==============================] - 0s 2ms/step - loss: 27.4801\n",
            "Epoch 94/100\n",
            "240/240 [==============================] - 0s 2ms/step - loss: 27.3071\n",
            "Epoch 95/100\n",
            "240/240 [==============================] - 0s 2ms/step - loss: 26.7282\n",
            "Epoch 96/100\n",
            "240/240 [==============================] - 0s 2ms/step - loss: 26.9805\n",
            "Epoch 97/100\n",
            "240/240 [==============================] - 0s 2ms/step - loss: 27.4217\n",
            "Epoch 98/100\n",
            "240/240 [==============================] - 0s 2ms/step - loss: 27.9933\n",
            "Epoch 99/100\n",
            "240/240 [==============================] - 0s 2ms/step - loss: 27.3388\n",
            "Epoch 100/100\n",
            "240/240 [==============================] - 0s 2ms/step - loss: 27.3886\n"
          ]
        },
        {
          "output_type": "execute_result",
          "data": {
            "text/plain": [
              "<keras.callbacks.History at 0x7f8ed37eb640>"
            ]
          },
          "metadata": {},
          "execution_count": 16
        }
      ]
    },
    {
      "cell_type": "markdown",
      "metadata": {
        "id": "0H0zKKNEBLD5"
      },
      "source": [
        "### Predicting the results of the Test set"
      ]
    },
    {
      "cell_type": "code",
      "source": [
        "y_pred = ann.predict(X_test)\n",
        "np.set_printoptions(precision=2)\n",
        "print(np.concatenate((y_pred.reshape(len(y_pred), 1), y_test.reshape(len(y_test), 1)), 1))"
      ],
      "metadata": {
        "colab": {
          "base_uri": "https://localhost:8080/"
        },
        "id": "0AEy2LqMuJdg",
        "outputId": "ca2d24b3-5c2b-456a-f4bb-92f5a5cc0581"
      },
      "execution_count": null,
      "outputs": [
        {
          "output_type": "stream",
          "name": "stdout",
          "text": [
            "60/60 [==============================] - 0s 1ms/step\n",
            "[[431.37 431.23]\n",
            " [462.38 460.01]\n",
            " [465.86 461.14]\n",
            " ...\n",
            " [473.11 473.26]\n",
            " [439.91 438.  ]\n",
            " [459.1  463.28]]\n"
          ]
        }
      ]
    }
  ]
}