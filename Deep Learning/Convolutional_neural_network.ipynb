{
  "nbformat": 4,
  "nbformat_minor": 0,
  "metadata": {
    "colab": {
      "provenance": [],
      "include_colab_link": true
    },
    "kernelspec": {
      "name": "python3",
      "display_name": "Python 3"
    }
  },
  "cells": [
    {
      "cell_type": "markdown",
      "metadata": {
        "id": "view-in-github",
        "colab_type": "text"
      },
      "source": [
        "<a href=\"https://colab.research.google.com/github/Rydzio/Machine-Learning/blob/main/Convolutional_Neural_Network.ipynb\" target=\"_parent\"><img src=\"https://colab.research.google.com/assets/colab-badge.svg\" alt=\"Open In Colab\"/></a>"
      ]
    },
    {
      "cell_type": "markdown",
      "metadata": {
        "id": "3DR-eO17geWu"
      },
      "source": [
        "# Convolutional Neural Network"
      ]
    },
    {
      "cell_type": "markdown",
      "metadata": {
        "id": "EMefrVPCg-60"
      },
      "source": [
        "### Importing the libraries"
      ]
    },
    {
      "cell_type": "code",
      "source": [
        "import tensorflow as tf\n",
        "import numpy as np\n",
        "from keras.preprocessing.image import ImageDataGenerator\n",
        "from google.colab import drive"
      ],
      "metadata": {
        "id": "rfGzfs-a6XWM"
      },
      "execution_count": null,
      "outputs": []
    },
    {
      "cell_type": "code",
      "source": [
        "tf.__version__"
      ],
      "metadata": {
        "colab": {
          "base_uri": "https://localhost:8080/",
          "height": 37
        },
        "id": "YcEpSYwQ6z3y",
        "outputId": "116c565f-0448-4c3d-b2a2-b7d75b318094"
      },
      "execution_count": null,
      "outputs": [
        {
          "output_type": "execute_result",
          "data": {
            "text/plain": [
              "'2.11.0'"
            ],
            "application/vnd.google.colaboratory.intrinsic+json": {
              "type": "string"
            }
          },
          "metadata": {},
          "execution_count": 2
        }
      ]
    },
    {
      "cell_type": "code",
      "source": [
        "drive.mount('/content/gdrive/', force_remount = True)"
      ],
      "metadata": {
        "colab": {
          "base_uri": "https://localhost:8080/"
        },
        "id": "4I2DZzletZQy",
        "outputId": "1cd1122b-4ab9-44c7-b0dd-4f1bd2953bb8"
      },
      "execution_count": null,
      "outputs": [
        {
          "output_type": "stream",
          "name": "stdout",
          "text": [
            "Mounted at /content/gdrive/\n"
          ]
        }
      ]
    },
    {
      "cell_type": "markdown",
      "metadata": {
        "id": "oxQxCBWyoGPE"
      },
      "source": [
        "## Part 1 - Data Preprocessing"
      ]
    },
    {
      "cell_type": "markdown",
      "metadata": {
        "id": "MvE-heJNo3GG"
      },
      "source": [
        "### Preprocessing the Training set"
      ]
    },
    {
      "cell_type": "code",
      "source": [
        "training_dataset = '/content/gdrive/MyDrive/Machine Learning A-Z (Codes and Datasets)/Part 8 - Deep Learning/Section 40 - Convolutional Neural Networks (CNN)/Python/dataset/training_set'"
      ],
      "metadata": {
        "id": "cSHNPCwex0s0"
      },
      "execution_count": null,
      "outputs": []
    },
    {
      "cell_type": "code",
      "source": [
        "train_datagen = ImageDataGenerator(\n",
        "    rescale = 1./255,\n",
        "    shear_range = 0.2,\n",
        "    zoom_range = 0.2,\n",
        "    horizontal_flip = True\n",
        ")"
      ],
      "metadata": {
        "id": "4d5TCDCKuLEr"
      },
      "execution_count": null,
      "outputs": []
    },
    {
      "cell_type": "code",
      "source": [
        "training_set = train_datagen.flow_from_directory(\n",
        "    training_dataset,\n",
        "    target_size = (64, 64),\n",
        "    batch_size = 32,\n",
        "    class_mode = 'binary'\n",
        ")"
      ],
      "metadata": {
        "colab": {
          "base_uri": "https://localhost:8080/"
        },
        "id": "vYVUczSnxNWa",
        "outputId": "18c83613-0f5a-48f7-a688-797dd26b0cac"
      },
      "execution_count": null,
      "outputs": [
        {
          "output_type": "stream",
          "name": "stdout",
          "text": [
            "Found 8148 images belonging to 2 classes.\n"
          ]
        }
      ]
    },
    {
      "cell_type": "markdown",
      "metadata": {
        "id": "mrCMmGw9pHys"
      },
      "source": [
        "### Preprocessing the Test set"
      ]
    },
    {
      "cell_type": "code",
      "source": [
        "test_dataset = '/content/gdrive/MyDrive/Machine Learning A-Z (Codes and Datasets)/Part 8 - Deep Learning/Section 40 - Convolutional Neural Networks (CNN)/Python/dataset/test_set'"
      ],
      "metadata": {
        "id": "BWUQxDiMzH07"
      },
      "execution_count": null,
      "outputs": []
    },
    {
      "cell_type": "code",
      "source": [
        "test_datagen = ImageDataGenerator(rescale = 1./255)"
      ],
      "metadata": {
        "id": "8IiJA6p2ydpL"
      },
      "execution_count": null,
      "outputs": []
    },
    {
      "cell_type": "code",
      "source": [
        "test_set = test_datagen.flow_from_directory(\n",
        "    test_dataset,\n",
        "    target_size = (64, 64),\n",
        "    batch_size = 32,\n",
        "    class_mode = 'binary'\n",
        ")"
      ],
      "metadata": {
        "colab": {
          "base_uri": "https://localhost:8080/"
        },
        "id": "VrEgbaiby-vD",
        "outputId": "ea3ac6cd-4c74-4b42-a5e6-82c96be19fe6"
      },
      "execution_count": null,
      "outputs": [
        {
          "output_type": "stream",
          "name": "stdout",
          "text": [
            "Found 2000 images belonging to 2 classes.\n"
          ]
        }
      ]
    },
    {
      "cell_type": "markdown",
      "metadata": {
        "id": "af8O4l90gk7B"
      },
      "source": [
        "## Part 2 - Building the CNN"
      ]
    },
    {
      "cell_type": "markdown",
      "metadata": {
        "id": "ces1gXY2lmoX"
      },
      "source": [
        "### Initialising the CNN"
      ]
    },
    {
      "cell_type": "code",
      "source": [
        "cnn = tf.keras.models.Sequential()"
      ],
      "metadata": {
        "id": "p73y5o1n03ds"
      },
      "execution_count": null,
      "outputs": []
    },
    {
      "cell_type": "markdown",
      "metadata": {
        "id": "u5YJj_XMl5LF"
      },
      "source": [
        "### Step 1 - Convolution"
      ]
    },
    {
      "cell_type": "code",
      "source": [
        "cnn.add(\n",
        "    tf.keras.layers.Conv2D(\n",
        "      filters = 32,\n",
        "      kernel_size = 3,\n",
        "      activation = 'relu',\n",
        "      input_shape = [64, 64, 3]\n",
        "    )\n",
        ")"
      ],
      "metadata": {
        "id": "8Ton5MJo1H14"
      },
      "execution_count": null,
      "outputs": []
    },
    {
      "cell_type": "markdown",
      "metadata": {
        "id": "tf87FpvxmNOJ"
      },
      "source": [
        "### Step 2 - Pooling"
      ]
    },
    {
      "cell_type": "code",
      "source": [
        "cnn.add(\n",
        "    tf.keras.layers.MaxPool2D(\n",
        "        pool_size = 2,\n",
        "        strides = 2,\n",
        "        padding = 'valid'\n",
        "    )\n",
        ")"
      ],
      "metadata": {
        "id": "ZTqfWYgA2kYS"
      },
      "execution_count": null,
      "outputs": []
    },
    {
      "cell_type": "markdown",
      "metadata": {
        "id": "xaTOgD8rm4mU"
      },
      "source": [
        "### Adding a second convolutional layer"
      ]
    },
    {
      "cell_type": "code",
      "source": [
        "cnn.add(\n",
        "    tf.keras.layers.Conv2D(\n",
        "        filters = 32,\n",
        "        kernel_size = 3,\n",
        "        activation = 'relu'\n",
        "    )\n",
        ")"
      ],
      "metadata": {
        "id": "2eEPZT8B3pOw"
      },
      "execution_count": null,
      "outputs": []
    },
    {
      "cell_type": "code",
      "source": [
        "cnn.add(\n",
        "    tf.keras.layers.MaxPool2D(\n",
        "        pool_size = 2,\n",
        "        strides = 2,\n",
        "        padding = 'valid'\n",
        "    )\n",
        ")"
      ],
      "metadata": {
        "id": "5pBF0OuP36RV"
      },
      "execution_count": null,
      "outputs": []
    },
    {
      "cell_type": "markdown",
      "metadata": {
        "id": "tmiEuvTunKfk"
      },
      "source": [
        "### Step 3 - Flattening"
      ]
    },
    {
      "cell_type": "code",
      "source": [
        "cnn.add(\n",
        "    tf.keras.layers.Flatten()\n",
        ")"
      ],
      "metadata": {
        "id": "vBVMeHYO4F1R"
      },
      "execution_count": null,
      "outputs": []
    },
    {
      "cell_type": "markdown",
      "metadata": {
        "id": "dAoSECOm203v"
      },
      "source": [
        "### Step 4 - Full Connection"
      ]
    },
    {
      "cell_type": "code",
      "source": [
        "cnn.add(\n",
        "    tf.keras.layers.Dense(\n",
        "        units = 128,\n",
        "        activation = 'relu'\n",
        "    )\n",
        ")"
      ],
      "metadata": {
        "id": "5-blUfx44_Xs"
      },
      "execution_count": null,
      "outputs": []
    },
    {
      "cell_type": "markdown",
      "metadata": {
        "id": "yTldFvbX28Na"
      },
      "source": [
        "### Step 5 - Output Layer"
      ]
    },
    {
      "cell_type": "code",
      "source": [
        "cnn.add(\n",
        "    tf.keras.layers.Dense(\n",
        "        units = 1,\n",
        "        activation = 'sigmoid'\n",
        "    )\n",
        ")"
      ],
      "metadata": {
        "id": "KWyscnsn7Jbn"
      },
      "execution_count": null,
      "outputs": []
    },
    {
      "cell_type": "markdown",
      "metadata": {
        "id": "D6XkI90snSDl"
      },
      "source": [
        "## Part 3 - Training the CNN"
      ]
    },
    {
      "cell_type": "markdown",
      "metadata": {
        "id": "vfrFQACEnc6i"
      },
      "source": [
        "### Compiling the CNN"
      ]
    },
    {
      "cell_type": "code",
      "source": [
        "cnn.compile(\n",
        "    optimizer = 'adam',\n",
        "    loss = 'binary_crossentropy',\n",
        "    metrics = ['accuracy']\n",
        ")"
      ],
      "metadata": {
        "id": "5PUz_Mns7cUC"
      },
      "execution_count": null,
      "outputs": []
    },
    {
      "cell_type": "markdown",
      "metadata": {
        "id": "ehS-v3MIpX2h"
      },
      "source": [
        "### Training the CNN on the Training set and evaluating it on the Test set"
      ]
    },
    {
      "cell_type": "code",
      "source": [
        "cnn.fit(\n",
        "    x = training_set,\n",
        "    validation_data = test_set,\n",
        "    epochs = 25\n",
        ")"
      ],
      "metadata": {
        "colab": {
          "base_uri": "https://localhost:8080/"
        },
        "id": "YNX0c0Ua8SSV",
        "outputId": "2a9399bf-df08-43b3-fb60-95adcb3bfa97"
      },
      "execution_count": null,
      "outputs": [
        {
          "output_type": "stream",
          "name": "stdout",
          "text": [
            "Epoch 1/25\n",
            "255/255 [==============================] - 1334s 5s/step - loss: 0.6636 - accuracy: 0.5925 - val_loss: 0.5926 - val_accuracy: 0.6925\n",
            "Epoch 2/25\n",
            "255/255 [==============================] - 106s 417ms/step - loss: 0.5879 - accuracy: 0.6823 - val_loss: 0.5482 - val_accuracy: 0.7325\n",
            "Epoch 3/25\n",
            "255/255 [==============================] - 104s 408ms/step - loss: 0.5444 - accuracy: 0.7225 - val_loss: 0.5047 - val_accuracy: 0.7595\n",
            "Epoch 4/25\n",
            "255/255 [==============================] - 111s 436ms/step - loss: 0.5155 - accuracy: 0.7485 - val_loss: 0.5534 - val_accuracy: 0.7310\n",
            "Epoch 5/25\n",
            "255/255 [==============================] - 110s 431ms/step - loss: 0.4980 - accuracy: 0.7575 - val_loss: 0.4930 - val_accuracy: 0.7605\n",
            "Epoch 6/25\n",
            "255/255 [==============================] - 116s 454ms/step - loss: 0.4714 - accuracy: 0.7699 - val_loss: 0.4671 - val_accuracy: 0.7730\n",
            "Epoch 7/25\n",
            "255/255 [==============================] - 119s 468ms/step - loss: 0.4551 - accuracy: 0.7791 - val_loss: 0.4769 - val_accuracy: 0.7720\n",
            "Epoch 8/25\n",
            "255/255 [==============================] - 113s 442ms/step - loss: 0.4480 - accuracy: 0.7915 - val_loss: 0.4585 - val_accuracy: 0.7855\n",
            "Epoch 9/25\n",
            "255/255 [==============================] - 121s 476ms/step - loss: 0.4308 - accuracy: 0.7996 - val_loss: 0.5004 - val_accuracy: 0.7700\n",
            "Epoch 10/25\n",
            "255/255 [==============================] - 115s 451ms/step - loss: 0.4213 - accuracy: 0.8040 - val_loss: 0.4687 - val_accuracy: 0.7860\n",
            "Epoch 11/25\n",
            "255/255 [==============================] - 107s 419ms/step - loss: 0.4020 - accuracy: 0.8154 - val_loss: 0.4957 - val_accuracy: 0.7615\n",
            "Epoch 12/25\n",
            "255/255 [==============================] - 117s 460ms/step - loss: 0.3970 - accuracy: 0.8193 - val_loss: 0.4637 - val_accuracy: 0.7935\n",
            "Epoch 13/25\n",
            "255/255 [==============================] - 115s 450ms/step - loss: 0.3767 - accuracy: 0.8326 - val_loss: 0.4650 - val_accuracy: 0.7895\n",
            "Epoch 14/25\n",
            "255/255 [==============================] - 104s 407ms/step - loss: 0.3689 - accuracy: 0.8351 - val_loss: 0.4564 - val_accuracy: 0.7985\n",
            "Epoch 15/25\n",
            "255/255 [==============================] - 104s 407ms/step - loss: 0.3554 - accuracy: 0.8402 - val_loss: 0.4423 - val_accuracy: 0.8095\n",
            "Epoch 16/25\n",
            "255/255 [==============================] - 114s 447ms/step - loss: 0.3457 - accuracy: 0.8422 - val_loss: 0.4706 - val_accuracy: 0.8020\n",
            "Epoch 17/25\n",
            "255/255 [==============================] - 119s 468ms/step - loss: 0.3318 - accuracy: 0.8530 - val_loss: 0.5023 - val_accuracy: 0.8005\n",
            "Epoch 18/25\n",
            "255/255 [==============================] - 112s 437ms/step - loss: 0.3213 - accuracy: 0.8554 - val_loss: 0.4791 - val_accuracy: 0.8050\n",
            "Epoch 19/25\n",
            "255/255 [==============================] - 109s 429ms/step - loss: 0.3171 - accuracy: 0.8606 - val_loss: 0.4908 - val_accuracy: 0.7950\n",
            "Epoch 20/25\n",
            "255/255 [==============================] - 97s 381ms/step - loss: 0.2975 - accuracy: 0.8764 - val_loss: 0.4708 - val_accuracy: 0.8030\n",
            "Epoch 21/25\n",
            "255/255 [==============================] - 97s 381ms/step - loss: 0.2971 - accuracy: 0.8735 - val_loss: 0.4669 - val_accuracy: 0.8060\n",
            "Epoch 22/25\n",
            "255/255 [==============================] - 106s 416ms/step - loss: 0.2869 - accuracy: 0.8767 - val_loss: 0.4786 - val_accuracy: 0.8110\n",
            "Epoch 23/25\n",
            "255/255 [==============================] - 110s 433ms/step - loss: 0.2740 - accuracy: 0.8834 - val_loss: 0.5220 - val_accuracy: 0.7995\n",
            "Epoch 24/25\n",
            "255/255 [==============================] - 110s 433ms/step - loss: 0.2636 - accuracy: 0.8875 - val_loss: 0.5211 - val_accuracy: 0.7955\n",
            "Epoch 25/25\n",
            "255/255 [==============================] - 106s 415ms/step - loss: 0.2524 - accuracy: 0.8929 - val_loss: 0.5640 - val_accuracy: 0.7945\n"
          ]
        },
        {
          "output_type": "execute_result",
          "data": {
            "text/plain": [
              "<keras.callbacks.History at 0x7ff72911a4f0>"
            ]
          },
          "metadata": {},
          "execution_count": 19
        }
      ]
    },
    {
      "cell_type": "markdown",
      "metadata": {
        "id": "U3PZasO0006Z"
      },
      "source": [
        "## Part 4 - Making a single prediction"
      ]
    },
    {
      "cell_type": "code",
      "source": [
        "from keras import utils"
      ],
      "metadata": {
        "id": "xCOjz2aM9GP3"
      },
      "execution_count": null,
      "outputs": []
    },
    {
      "cell_type": "code",
      "source": [
        "image = '/content/gdrive/MyDrive/Machine Learning A-Z (Codes and Datasets)/Part 8 - Deep Learning/Section 40 - Convolutional Neural Networks (CNN)/Python/dataset/single_prediction/cat_or_dog_1.jpg'"
      ],
      "metadata": {
        "id": "4YdTo9YV_Y2s"
      },
      "execution_count": null,
      "outputs": []
    },
    {
      "cell_type": "code",
      "source": [
        "test_image = utils.load_img(\n",
        "    image,\n",
        "    target_size = (64, 64)\n",
        ")"
      ],
      "metadata": {
        "id": "gjJmrbGU-ENb"
      },
      "execution_count": null,
      "outputs": []
    },
    {
      "cell_type": "code",
      "source": [
        "test_image = utils.img_to_array(test_image)"
      ],
      "metadata": {
        "id": "YT6OkjEeAEEY"
      },
      "execution_count": null,
      "outputs": []
    },
    {
      "cell_type": "code",
      "source": [
        "test_image = np.expand_dims(\n",
        "    test_image,\n",
        "    axis = 0\n",
        ")"
      ],
      "metadata": {
        "id": "Ca2D5njwCGWr"
      },
      "execution_count": null,
      "outputs": []
    },
    {
      "cell_type": "code",
      "source": [
        "result = cnn.predict(\n",
        "    test_image\n",
        ")"
      ],
      "metadata": {
        "colab": {
          "base_uri": "https://localhost:8080/"
        },
        "id": "ldkujnfGC2K6",
        "outputId": "06090e85-6cf6-4161-c705-9763aadc4406"
      },
      "execution_count": null,
      "outputs": [
        {
          "output_type": "stream",
          "name": "stdout",
          "text": [
            "1/1 [==============================] - 0s 146ms/step\n"
          ]
        }
      ]
    },
    {
      "cell_type": "code",
      "source": [
        "print(training_set.class_indices)"
      ],
      "metadata": {
        "colab": {
          "base_uri": "https://localhost:8080/"
        },
        "id": "SR_yh6BWDIVH",
        "outputId": "619e32fb-ced8-4b02-d41c-da2ac80f3507"
      },
      "execution_count": null,
      "outputs": [
        {
          "output_type": "stream",
          "name": "stdout",
          "text": [
            "{'cats': 0, 'dogs': 1}\n"
          ]
        }
      ]
    },
    {
      "cell_type": "code",
      "source": [
        "if(result[0][0] == 1):\n",
        "  prediction = 'Dog'\n",
        "else:\n",
        "  prediction = 'Cat'"
      ],
      "metadata": {
        "id": "2C-ZzcrtDXVd"
      },
      "execution_count": null,
      "outputs": []
    },
    {
      "cell_type": "code",
      "source": [
        "print(prediction)"
      ],
      "metadata": {
        "colab": {
          "base_uri": "https://localhost:8080/"
        },
        "id": "iDTchNcbDyCr",
        "outputId": "9f482c24-5571-4108-cb1f-432ab25b74b0"
      },
      "execution_count": null,
      "outputs": [
        {
          "output_type": "stream",
          "name": "stdout",
          "text": [
            "Dog\n"
          ]
        }
      ]
    }
  ]
}