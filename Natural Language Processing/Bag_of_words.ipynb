{
 "nbformat": 4,
 "nbformat_minor": 0,
 "metadata": {
  "colab": {
   "provenance": [],
   "toc_visible": true,
   "include_colab_link": true
  },
  "kernelspec": {
   "name": "python3",
   "display_name": "Python 3"
  }
 },
 "cells": [
  {
   "cell_type": "markdown",
   "metadata": {
    "id": "view-in-github",
    "colab_type": "text"
   },
   "source": [
    "<a href=\"https://colab.research.google.com/github/Rydzio/Machine-Learning/blob/main/Natural_language_processing.ipynb\" target=\"_parent\"><img src=\"https://colab.research.google.com/assets/colab-badge.svg\" alt=\"Open In Colab\"/></a>"
   ]
  },
  {
   "cell_type": "markdown",
   "metadata": {
    "id": "VwK5-9FIB-lu"
   },
   "source": [
    "# Bag of Words"
   ]
  },
  {
   "cell_type": "markdown",
   "metadata": {
    "id": "X1kiO9kACE6s"
   },
   "source": [
    "## Importing the libraries"
   ]
  },
  {
   "cell_type": "code",
   "metadata": {
    "id": "7QG7sxmoCIvN"
   },
   "source": [
    "import numpy as np\n",
    "import matplotlib.pyplot as plt\n",
    "import pandas as pd"
   ],
   "execution_count": null,
   "outputs": []
  },
  {
   "cell_type": "code",
   "source": [
    "from sklearn.metrics import confusion_matrix, accuracy_score, precision_score, recall_score, f1_score"
   ],
   "metadata": {
    "id": "EKGzdBgvMVH_"
   },
   "execution_count": null,
   "outputs": []
  },
  {
   "cell_type": "markdown",
   "metadata": {
    "id": "wTfaCIzdCLPA"
   },
   "source": [
    "## Importing the dataset"
   ]
  },
  {
   "cell_type": "code",
   "source": [
    "from google.colab import drive\n",
    "drive.mount('/content/gdrive/', force_remount = True)"
   ],
   "metadata": {
    "colab": {
     "base_uri": "https://localhost:8080/"
    },
    "id": "Ey6436WcS8Cq",
    "outputId": "b3fae0c3-4a35-4bb6-9f3e-75ca02ec2672"
   },
   "execution_count": null,
   "outputs": [
    {
     "output_type": "stream",
     "name": "stdout",
     "text": [
      "Mounted at /content/gdrive/\n"
     ]
    }
   ]
  },
  {
   "cell_type": "code",
   "source": [
    "data = '/content/gdrive/MyDrive/Machine Learning A-Z (Codes and Datasets)/Part 7 - Natural Language Processing/Section 36 - Natural Language Processing/Python/Restaurant_Reviews.tsv'\n",
    "dataset = pd.read_csv(data, delimiter = '\\t', quoting = 3)"
   ],
   "metadata": {
    "id": "9rQr8hu1TLlg"
   },
   "execution_count": null,
   "outputs": []
  },
  {
   "cell_type": "markdown",
   "metadata": {
    "id": "Qekztq71CixT"
   },
   "source": [
    "## Cleaning the texts"
   ]
  },
  {
   "cell_type": "code",
   "source": [
    "import re\n",
    "import nltk\n",
    "\n",
    "nltk.download('stopwords')\n",
    "from nltk.corpus import stopwords\n",
    "from nltk.stem.porter import PorterStemmer"
   ],
   "metadata": {
    "id": "J2YcQM3Ff8zz",
    "colab": {
     "base_uri": "https://localhost:8080/"
    },
    "outputId": "b127135b-aeae-4e60-e683-d73ef0e7ca0e"
   },
   "execution_count": null,
   "outputs": [
    {
     "output_type": "stream",
     "name": "stderr",
     "text": [
      "[nltk_data] Downloading package stopwords to /root/nltk_data...\n",
      "[nltk_data]   Package stopwords is already up-to-date!\n"
     ]
    }
   ]
  },
  {
   "cell_type": "code",
   "source": [
    "corpus = []\n",
    "for i in range(0, 1000):\n",
    "  review = re.sub('[^a-zA-Z]', ' ', dataset['Review'][i])\n",
    "  review = review.lower()\n",
    "  review = review.split()\n",
    "  ps = PorterStemmer()\n",
    "  all_stopwords = stopwords.words('english')\n",
    "  all_stopwords.remove('not')\n",
    "  review = [ps.stem(word) for word in review if not word in set(all_stopwords)]\n",
    "  review = ' '.join(review)\n",
    "  corpus.append(review)"
   ],
   "metadata": {
    "id": "LPsGvO8GWMgR"
   },
   "execution_count": null,
   "outputs": []
  },
  {
   "cell_type": "code",
   "source": [
    "print(corpus)"
   ],
   "metadata": {
    "colab": {
     "base_uri": "https://localhost:8080/"
    },
    "id": "wVWLqzsNertu",
    "outputId": "b81b1b9e-cc47-4f77-8820-2d82cf8ea12d"
   },
   "execution_count": null,
   "outputs": [
    {
     "output_type": "stream",
     "name": "stdout",
     "text": [
      "['wow love place', 'crust not good', 'not tasti textur nasti', 'stop late may bank holiday rick steve recommend love', 'select menu great price', 'get angri want damn pho', 'honeslti tast fresh', 'potato like rubber could tell made ahead time kept warmer', 'fri great', 'great touch', 'servic prompt', 'would not go back', 'cashier care ever say still end wayyy overpr', 'tri cape cod ravoli chicken cranberri mmmm', 'disgust pretti sure human hair', 'shock sign indic cash', 'highli recommend', 'waitress littl slow servic', 'place not worth time let alon vega', 'not like', 'burritto blah', 'food amaz', 'servic also cute', 'could care less interior beauti', 'perform', 'right red velvet cake ohhh stuff good', 'never brought salad ask', 'hole wall great mexican street taco friendli staff', 'took hour get food tabl restaur food luke warm sever run around like total overwhelm', 'worst salmon sashimi', 'also combo like burger fri beer decent deal', 'like final blow', 'found place accid could not happier', 'seem like good quick place grab bite familiar pub food favor look elsewher', 'overal like place lot', 'redeem qualiti restaur inexpens', 'ampl portion good price', 'poor servic waiter made feel like stupid everi time came tabl', 'first visit hiro delight', 'servic suck', 'shrimp tender moist', 'not deal good enough would drag establish', 'hard judg whether side good gross melt styrofoam want eat fear get sick', 'posit note server attent provid great servic', 'frozen puck disgust worst peopl behind regist', 'thing like prime rib dessert section', 'bad food damn gener', 'burger good beef cook right', 'want sandwich go firehous', 'side greek salad greek dress tasti pita hummu refresh', 'order duck rare pink tender insid nice char outsid', 'came run us realiz husband left sunglass tabl', 'chow mein good', 'horribl attitud toward custom talk one custom enjoy food', 'portion huge', 'love friendli server great food wonder imagin menu', 'heart attack grill downtown vega absolut flat line excus restaur', 'not much seafood like string pasta bottom', 'salad right amount sauc not power scallop perfectli cook', 'rip banana not rip petrifi tasteless', 'least think refil water struggl wave minut', 'place receiv star appet', 'cocktail handmad delici', 'definit go back', 'glad found place', 'great food servic huge portion give militari discount', 'alway great time do gringo', 'updat went back second time still amaz', 'got food appar never heard salt batter fish chewi', 'great way finish great', 'deal includ tast drink jeff went beyond expect', 'realli realli good rice time', 'servic meh', 'took min get milkshak noth chocol milk', 'guess known place would suck insid excalibur use common sens', 'scallop dish quit appal valu well', 'time bad custom servic', 'sweet potato fri good season well', 'today second time lunch buffet pretti good', 'much good food vega feel cheat wast eat opportun go rice compani', 'come like experienc underwhelm relationship parti wait person ask break', 'walk place smell like old greas trap other eat', 'turkey roast beef bland', 'place', 'pan cake everyon rave tast like sugari disast tailor palat six year old', 'love pho spring roll oh yummi tri', 'poor batter meat ratio made chicken tender unsatisfi', 'say food amaz', 'omelet die', 'everyth fresh delici', 'summari larg disappoint dine experi', 'like realli sexi parti mouth outrag flirt hottest person parti', 'never hard rock casino never ever step forward', 'best breakfast buffet', 'say bye bye tip ladi', 'never go', 'back', 'food arriv quickli', 'not good', 'side cafe serv realli good food', 'server fantast found wife love roast garlic bone marrow ad extra meal anoth marrow go', 'good thing waiter help kept bloddi mari come', 'best buffet town price cannot beat', 'love mussel cook wine reduct duck tender potato dish delici', 'one better buffet', 'went tigerlilli fantast afternoon', 'food delici bartend attent person got great deal', 'ambienc wonder music play', 'go back next trip', 'sooooo good', 'real sushi lover let honest yama not good', 'least min pass us order food arriv busi', 'realli fantast thai restaur definit worth visit', 'nice spici tender', 'good price', 'check', 'pretti gross', 'better atmospher', 'kind hard mess steak', 'although much like look sound place actual experi bit disappoint', 'know place manag serv blandest food ever eaten prepar indian cuisin', 'worst servic boot least worri', 'servic fine waitress friendli', 'guy steak steak love son steak best worst place said best steak ever eaten', 'thought ventur away get good sushi place realli hit spot night', 'host staff lack better word bitch', 'bland not like place number reason want wast time bad review leav', 'phenomen food servic ambianc', 'return', 'definit worth ventur strip pork belli return next time vega', 'place way overpr mediocr food', 'penn vodka excel', 'good select food includ massiv meatloaf sandwich crispi chicken wrap delish tuna melt tasti burger', 'manag rude', 'delici nyc bagel good select cream chees real lox caper even', 'great subway fact good come everi subway not meet expect', 'serious solid breakfast', 'one best bar food vega', 'extrem rude realli mani restaur would love dine weekend vega', 'drink never empti made realli great menu suggest', '', 'waiter help friendli rare check us', 'husband ate lunch disappoint food servic', 'red curri much bamboo shoot tasti', 'nice blanket moz top feel like done cover subpar food', 'bathroom clean place well decor', 'menu alway chang food qualiti go servic extrem slow', 'servic littl slow consid serv peopl server food come slow pace', 'give thumb', 'watch waiter pay lot attent tabl ignor us', 'fianc came middl day greet seat right away', 'great restaur mandalay bay', 'wait forti five minut vain', 'crostini came salad stale', 'highlight great qualiti nigiri', 'staff friendli joint alway clean', 'differ cut piec day still wonder tender well well flavor', 'order voodoo pasta first time realli excel pasta sinc go gluten free sever year ago', 'place good', 'unfortun must hit bakeri leftov day everyth order stale', 'came back today sinc reloc still not impress', 'seat immedi', 'menu divers reason price', 'avoid cost', 'restaur alway full never wait', 'delici', 'place hand one best place eat phoenix metro area', 'go look good food', 'never treat bad', 'bacon hella salti', 'also order spinach avocado salad ingredi sad dress liter zero tast', 'realli vega fine dine use right menu hand ladi price list', 'waitress friendli', 'lordi khao soi dish not miss curri lover', 'everyth menu terrif also thrill made amaz accommod vegetarian daughter', 'perhap caught night judg review not inspir go back', 'servic leav lot desir', 'atmospher modern hip maintain touch cozi', 'not weekli haunt definit place come back everi', 'liter sat minut one ask take order', 'burger absolut flavor meat total bland burger overcook charcoal flavor', 'also decid not send back waitress look like verg heart attack', 'dress treat rude', 'probabl dirt', 'love place hit spot want someth healthi not lack quantiti flavor', 'order lemon raspberri ice cocktail also incred', 'food suck expect suck could imagin', 'interest decor', 'realli like crepe station', 'also serv hot bread butter home made potato chip bacon bit top origin good', 'watch prepar delici food', 'egg roll fantast', 'order arriv one gyro miss', 'salad wing ice cream dessert left feel quit satisfi', 'not realli sure joey vote best hot dog valley reader phoenix magazin', 'best place go tasti bowl pho', 'live music friday total blow', 'never insult felt disrespect', 'friendli staff', 'worth drive', 'heard good thing place exceed everi hope could dream', 'food great serivc', 'warm beer help', 'great brunch spot', 'servic friendli invit', 'good lunch spot', 'live sinc first last time step foot place', 'worst experi ever', 'must night place', 'side delish mix mushroom yukon gold pure white corn beateou', 'bug never show would given sure side wall bug climb kitchen', 'minut wait salad realiz come time soon', 'friend love salmon tartar', 'go back', 'extrem tasti', 'waitress good though', 'soggi not good', 'jamaican mojito delici', 'small not worth price', 'food rich order accordingli', 'shower area outsid rins not take full shower unless mind nude everyon see', 'servic bit lack', 'lobster bisqu bussel sprout risotto filet need salt pepper cours none tabl', 'hope bode go busi someon cook come', 'either cold not enough flavor bad', 'love bacon wrap date', 'unbeliev bargain', 'folk otto alway make us feel welcom special', 'main also uninspir', 'place first pho amaz', 'wonder experi made place must stop whenev town', 'food bad enough enjoy deal world worst annoy drunk peopl', 'fun chef', 'order doubl cheeseburg got singl patti fall apart pictur upload yeah still suck', 'great place coupl drink watch sport event wall cover tv', 'possibl give zero star', 'descript said yum yum sauc anoth said eel sauc yet anoth said spici mayo well none roll sauc', 'say would hardest decis honestli dish tast suppos tast amaz', 'not roll eye may stay not sure go back tri', 'everyon attent provid excel custom servic', 'horribl wast time money', 'dish quit flavour', 'time side restaur almost empti excus', 'busi either also build freez cold', 'like review said pay eat place', 'drink took close minut come one point', 'serious flavor delight folk', 'much better ayc sushi place went vega', 'light dark enough set mood', 'base sub par servic receiv effort show gratitud busi go back', 'owner realli great peopl', 'noth privileg work eat', 'greek dress creami flavor', 'overal think would take parent place made similar complaint silent felt', 'pizza good peanut sauc tasti', 'tabl servic pretti fast', 'fantast servic', 'well would given godfath zero star possibl', 'know make', 'tough short flavor', 'hope place stick around', 'bar vega not ever recal charg tap water', 'restaur atmospher exquisit', 'good servic clean inexpens boot', 'seafood fresh gener portion', 'plu buck', 'servic not par either', 'thu far visit twice food absolut delici time', 'good year ago', 'self proclaim coffe cafe wildli disappoint', 'veggitarian platter world', 'cant go wrong food', 'beat', 'stop place madison ironman friendli kind staff', 'chef friendli good job', 'better not dedic boba tea spot even jenni pho', 'like patio servic outstand', 'goat taco skimp meat wow flavor', 'think not', 'mac salad pretti bland not get', 'went bachi burger friend recommend not disappoint', 'servic stink', 'wait wait', 'place not qualiti sushi not qualiti restaur', 'would definit recommend wing well pizza', 'great pizza salad', 'thing went wrong burn saganaki', 'wait hour breakfast could done time better home', 'place amaz', 'hate disagre fellow yelper husband disappoint place', 'wait hour never got either pizza mani around us came later', 'know slow', 'staff great food delish incred beer select', 'live neighborhood disappoint back conveni locat', 'know pull pork could soooo delici', 'get incred fresh fish prepar care', 'go gave star rate pleas know third time eat bachi burger write review', 'love fact everyth menu worth', 'never dine place', 'food excel servic good', 'good beer drink select good food select', 'pleas stay away shrimp stir fri noodl', 'potato chip order sad could probabl count mani chip box probabl around', 'food realli bore', 'good servic check', 'greedi corpor never see anoth dime', 'never ever go back', 'much like go back get pass atroci servic never return', 'summer dine charm outdoor patio delight', 'not expect good', 'fantast food', 'order toast english muffin came untoast', 'food good', 'never go back', 'great food price high qualiti hous made', 'bu boy hand rude', 'point friend basic figur place joke mind make publicli loudli known', 'back good bbq lighter fare reason price tell public back old way', 'consid two us left full happi go wrong', 'bread made hous', 'downsid servic', 'also fri without doubt worst fri ever', 'servic except food good review', 'coupl month later return amaz meal', 'favorit place town shawarrrrrrma', 'black eye pea sweet potato unreal', 'disappoint', 'could serv vinaigrett may make better overal dish still good', 'go far mani place never seen restaur serv egg breakfast especi', 'mom got home immedi got sick bite salad', 'server not pleasant deal alway honor pizza hut coupon', 'truli unbeliev good glad went back', 'fantast servic pleas atmospher', 'everyth gross', 'love place', 'great servic food', 'first bathroom locat dirti seat cover not replenish plain yucki', 'burger got gold standard burger kind disappoint', 'omg food delicioso', 'noth authent place', 'spaghetti noth special whatsoev', 'dish salmon best great', 'veget fresh sauc feel like authent thai', 'worth drive tucson', 'select probabl worst seen vega none', 'pretti good beer select', 'place like chipotl better', 'classi warm atmospher fun fresh appet succul steak basebal steak', 'star brick oven bread app', 'eaten multipl time time food delici', 'sat anoth ten minut final gave left', 'terribl', 'everyon treat equal special', 'take min pancak egg', 'delici', 'good side staff genuin pleasant enthusiast real treat', 'sadli gordon ramsey steak place shall sharpli avoid next trip vega', 'alway even wonder food delici', 'best fish ever life', 'bathroom next door nice', 'buffet small food offer bland', 'outstand littl restaur best food ever tast', 'pretti cool would say', 'definit turn doubt back unless someon els buy', 'server great job handl larg rowdi tabl', 'find wast food despic food', 'wife lobster bisqu soup lukewarm', 'would come back sushi crave vega', 'staff great ambianc great', 'deserv star', 'left stomach ach felt sick rest day', 'drop ball', 'dine space tini elegantli decor comfort', 'custom order way like usual eggplant green bean stir fri love', 'bean rice mediocr best', 'best taco town far', 'took back money got outta', 'interest part town place amaz', 'rude inconsider manag', 'staff not friendli wait time serv horribl one even say hi first minut', 'back', 'great dinner', 'servic outshin definit recommend halibut', 'food terribl', 'never ever go back told mani peopl happen', 'recommend unless car break front starv', 'come back everi time vega', 'place deserv one star food', 'disgrac', 'def come back bowl next time', 'want healthi authent ethic food tri place', 'continu come ladi night andddd date night highli recommend place anyon area', 'sever time past experi alway great', 'walk away stuf happi first vega buffet experi', 'servic excel price pretti reason consid vega locat insid crystal shop mall aria', 'summar food incred nay transcend noth bring joy quit like memori pneumat condiment dispens', 'probabl one peopl ever go ian not like', 'kid pizza alway hit lot great side dish option kiddo', 'servic perfect famili atmospher nice see', 'cook perfect servic impecc', 'one simpli disappoint', 'overal disappoint qualiti food bouchon', 'account know get screw', 'great place eat remind littl mom pop shop san francisco bay area', 'today first tast buldogi gourmet hot dog tell ever thought possibl', 'left frustrat', 'definit soon', 'food realli good got full petti fast', 'servic fantast', 'total wast time', 'know kind best ice tea', 'come hungri leav happi stuf', 'servic give star', 'assur disappoint', 'take littl bad servic food suck', 'gave tri eat crust teeth still sore', 'complet gross', 'realli enjoy eat', 'first time go think quickli becom regular', 'server nice even though look littl overwhelm need stay profession friendli end', 'dinner companion told everyth fresh nice textur tast', 'ground right next tabl larg smear step track everywher pile green bird poop', 'furthermor even find hour oper websit', 'tri like place time think done', 'mistak', 'complaint', 'serious good pizza expert connisseur topic', 'waiter jerk', 'strike want rush', 'nicest restaur owner ever come across', 'never come', 'love biscuit', 'servic quick friendli', 'order appet took minut pizza anoth minut', 'absolutley fantast', 'huge awkward lb piec cow th gristl fat', 'definit come back', 'like steiner dark feel like bar', 'wow spici delici', 'not familiar check', 'take busi dinner dollar elsewher', 'love go back', 'anyway fs restaur wonder breakfast lunch', 'noth special', 'day week differ deal delici', 'not mention combin pear almond bacon big winner', 'not back', 'sauc tasteless', 'food delici spici enough sure ask spicier prefer way', 'ribey steak cook perfectli great mesquit flavor', 'think go back anytim soon', 'food gooodd', 'far sushi connoisseur definit tell differ good food bad food certainli bad food', 'insult', 'last time lunch bad', 'chicken wing contain driest chicken meat ever eaten', 'food good enjoy everi mouth enjoy relax venu coupl small famili group etc', 'nargil think great', 'best tater tot southwest', 'love place', 'definit not worth paid', 'vanilla ice cream creami smooth profiterol choux pastri fresh enough', 'im az time new spot', 'manag worst', 'insid realli quit nice clean', 'food outstand price reason', 'think run back carli anytim soon food', 'due fact took minut acknowledg anoth minut get food kept forget thing', 'love margarita', 'first vega buffet not disappoint', 'good though', 'one note ventil could use upgrad', 'great pork sandwich', 'wast time', 'total letdown would much rather go camelback flower shop cartel coffe', 'third chees friend burger cold', 'enjoy pizza brunch', 'steak well trim also perfectli cook', 'group claim would handl us beauti', 'love', 'ask bill leav without eat bring either', 'place jewel la vega exactli hope find nearli ten year live', 'seafood limit boil shrimp crab leg crab leg definit not tast fresh', 'select food not best', 'delici absolut back', 'small famili restaur fine dine establish', 'toro tartar cavier extraordinari like thinli slice wagyu white truffl', 'dont think back long time', 'attach ga station rare good sign', 'awesom', 'back mani time soon', 'menu much good stuff could not decid', 'wors humili worker right front bunch horribl name call', 'conclus fill meal', 'daili special alway hit group', 'tragedi struck', 'pancak also realli good pretti larg', 'first crawfish experi delici', 'monster chicken fri steak egg time favorit', 'waitress sweet funni', 'also tast mom multi grain pumpkin pancak pecan butter amaz fluffi delici', 'rather eat airlin food serious', 'cant say enough good thing place', 'ambianc incred', 'waitress manag friendli', 'would not recommend place', 'overal impress noca', 'gyro basic lettuc', 'terribl servic', 'thoroughli disappoint', 'much pasta love homemad hand made pasta thin pizza', 'give tri happi', 'far best cheesecurd ever', 'reason price also', 'everyth perfect night', 'food good typic bar food', 'drive get', 'first glanc love bakeri cafe nice ambianc clean friendli staff', 'anyway not think go back', 'point finger item menu order disappoint', 'oh thing beauti restaur', 'gone go', 'greasi unhealthi meal', 'first time might last', 'burger amaz', 'similarli deliveri man not say word apolog food minut late', 'way expens', 'sure order dessert even need pack go tiramisu cannoli die', 'first time wait next', 'bartend also nice', 'everyth good tasti', 'place two thumb way', 'best place vega breakfast check sat sun', 'love authent mexican food want whole bunch interest yet delici meat choos need tri place', 'terribl manag', 'excel new restaur experienc frenchman', 'zero star would give zero star', 'great steak great side great wine amaz dessert', 'worst martini ever', 'steak shrimp opinion best entre gc', 'opportun today sampl amaz pizza', 'wait thirti minut seat although vacant tabl folk wait', 'yellowtail carpaccio melt mouth fresh', 'tri go back even empti', 'go eat potato found stranger hair', 'spici enough perfect actual', 'last night second time dine happi decid go back', 'not even hello right', 'dessert bit strang', 'boyfriend came first time recent trip vega could not pleas qualiti food servic', 'realli recommend place go wrong donut place', 'nice ambianc', 'would recommend save room', 'guess mayb went night disgrac', 'howev recent experi particular locat not good', 'know not like restaur someth', 'avoid establish', 'think restaur suffer not tri hard enough', 'tapa dish delici', 'heart place', 'salad bland vinegrett babi green heart palm', 'two felt disgust', 'good time', 'believ place great stop huge belli hanker sushi', 'gener portion great tast', 'never go back place never ever recommend place anyon', 'server went back forth sever time not even much help', 'food delici', 'hour serious', 'consid theft', 'eew locat need complet overhaul', 'recent wit poor qualiti manag toward guest well', 'wait wait wait', 'also came back check us regularli excel servic', 'server super nice check us mani time', 'pizza tast old super chewi not good way', 'swung give tri deepli disappoint', 'servic good compani better', 'staff also friendli effici', 'servic fan quick serv nice folk', 'boy sucker dri', 'rate', 'look authent thai food go els', 'steak recommend', 'pull car wait anoth minut acknowledg', 'great food great servic clean friendli set', 'assur back', 'hate thing much cheap qualiti black oliv', 'breakfast perpar great beauti present giant slice toast lightli dust powder sugar', 'kid play area nasti', 'great place fo take eat', 'waitress friendli happi accomod vegan veggi option', 'omg felt like never eaten thai food dish', 'extrem crumbi pretti tasteless', 'pale color instead nice char flavor', 'crouton also tast homemad extra plu', 'got home see driest damn wing ever', 'regular stop trip phoenix', 'realli enjoy crema caf expand even told friend best breakfast', 'not good money', 'miss wish one philadelphia', 'got sit fairli fast end wait minut place order anoth minut food arriv', 'also best chees crisp town', 'good valu great food great servic', 'ask satisfi meal', 'food good', 'awesom', 'want leav', 'made drive way north scottsdal not one bit disappoint', 'not eat', 'owner realli realli need quit soooooo cheap let wrap freak sandwich two paper not one', 'check place coupl year ago not impress', 'chicken got definit reheat ok wedg cold soggi', 'sorri not get food anytim soon', 'absolut must visit', 'cow tongu cheek taco amaz', 'friend not like bloodi mari', 'despit hard rate busi actual rare give star', 'realli want make experi good one', 'not return', 'chicken pho tast bland', 'disappoint', 'grill chicken tender yellow saffron season', 'drive thru mean not want wait around half hour food somehow end go make us wait wait', 'pretti awesom place', 'ambienc perfect', 'best luck rude non custom servic focus new manag', 'grandmoth make roast chicken better one', 'ask multipl time wine list time ignor went hostess got one', 'staff alway super friendli help especi cool bring two small boy babi', 'four star food guy blue shirt great vibe still let us eat', 'roast beef sandwich tast realli good', 'even drastic sick', 'high qualiti chicken chicken caesar salad', 'order burger rare came done', 'promptli greet seat', 'tri go lunch madhous', 'proven dead wrong sushi bar not qualiti great servic fast food impecc', 'wait hour seat not greatest mood', 'good joint', 'macaron insan good', 'not eat', 'waiter attent friendli inform', 'mayb cold would somewhat edibl', 'place lot promis fail deliv', 'bad experi', 'mistak', 'food averag best', 'great food', 'go back anytim soon', 'disappoint order big bay plater', 'great place relax awesom burger beer', 'perfect sit famili meal get togeth friend', 'not much flavor poorli construct', 'patio seat comfort', 'fri rice dri well', 'hand favorit italian restaur', 'scream legit book somethat also pretti rare vega', 'not fun experi', 'atmospher great love duo violinist play song request', 'person love hummu pita baklava falafel baba ganoush amaz eggplant', 'conveni sinc stay mgm', 'owner super friendli staff courteou', 'great', 'eclect select', 'sweet potato tot good onion ring perfect close', 'staff attent', 'chef gener time even came around twice take pictur', 'owner use work nobu place realli similar half price', 'googl mediocr imagin smashburg pop', 'dont go', 'promis disappoint', 'sushi lover avoid place mean', 'great doubl cheeseburg', 'awesom servic food', 'fantast neighborhood gem', 'wait go back', 'plantain worst ever tast', 'great place highli recommend', 'servic slow not attent', 'gave star give star', 'staff spend time talk', 'dessert panna cotta amaz', 'good food great atmospher', 'damn good steak', 'total brunch fail', 'price reason flavor spot sauc home made slaw not drench mayo', 'decor nice piano music soundtrack pleasant', 'steak amaz rge fillet relleno best seafood plate ever', 'good food good servic', 'absolut amaz', 'probabl back honest', 'definit back', 'sergeant pepper beef sandwich auju sauc excel sandwich well', 'hawaiian breez mango magic pineappl delight smoothi tri far good', 'went lunch servic slow', 'much say place walk expect amaz quickli disappoint', 'mortifi', 'needless say never back', 'anyway food definit not fill price pay expect', 'chip came drip greas mostli not edibl', 'realli impress strip steak', 'go sinc everi meal awesom', 'server nice attent serv staff', 'cashier friendli even brought food', 'work hospit industri paradis valley refrain recommend cibo longer', 'atmospher fun', 'would not recommend other', 'servic quick even go order like like', 'mean realli get famou fish chip terribl', 'said mouth belli still quit pleas', 'not thing', 'thumb', 'read pleas go', 'love grill pizza remind legit italian pizza', 'pro larg seat area nice bar area great simpl drink menu best brick oven pizza homemad dough', 'realli nice atmospher', 'tonight elk filet special suck', 'one bite hook', 'order old classic new dish go time sore disappoint everyth', 'cute quaint simpl honest', 'chicken delici season perfect fri outsid moist chicken insid', 'food great alway compliment chef', 'special thank dylan recommend order yummi tummi', 'awesom select beer', 'great food awesom servic', 'one nice thing ad gratuiti bill sinc parti larger expect tip', 'fli appl juic fli', 'han nan chicken also tasti', 'servic thought good', 'food bare lukewarm must sit wait server bring us', 'ryan bar definit one edinburgh establish revisit', 'nicest chines restaur', 'overal like food servic', 'also serv indian naan bread hummu spici pine nut sauc world', 'probabl never come back recommend', 'friend pasta also bad bare touch', 'tri airport experi tasti food speedi friendli servic', 'love decor chines calligraphi wall paper', 'never anyth complain', 'restaur clean famili restaur feel', 'way fri', 'not sure long stood long enough begin feel awkwardli place', 'open sandwich impress not good way', 'not back', 'warm feel servic felt like guest special treat', 'extens menu provid lot option breakfast', 'alway order vegetarian menu dinner wide array option choos', 'watch price inflat portion get smaller manag attitud grow rapidli', 'wonder lil tapa ambienc made feel warm fuzzi insid', 'got enjoy seafood salad fabul vinegrett', 'wonton thin not thick chewi almost melt mouth', 'level spici perfect spice whelm soup', 'sat right time server get go fantast', 'main thing enjoy crowd older crowd around mid', 'side town definit spot hit', 'wait minut get drink longer get arepa', 'great place eat', 'jalapeno bacon soooo good', 'servic poor that nice', 'food good servic good price good', 'place not clean food oh stale', 'chicken dish ok beef like shoe leather', 'servic beyond bad', 'happi', 'tast like dirt', 'one place phoenix would defin go back', 'block amaz', 'close hous low key non fanci afford price good food', 'hot sour egg flower soup absolut star', 'sashimi poor qualiti soggi tasteless', 'great time famili dinner sunday night', 'food not tasti not say real tradit hunan style', 'bother slow servic', 'flair bartend absolut amaz', 'frozen margarita way sugari tast', 'good order twice', 'nutshel restaraunt smell like combin dirti fish market sewer', 'girlfriend veal bad', 'unfortun not good', 'pretti satifi experi', 'join club get awesom offer via email', 'perfect someon like beer ice cold case even colder', 'bland flavorless good way describ bare tepid meat', 'chain fan beat place easili', 'nacho must', 'not come back', 'mani word say place everyth pretti well', 'staff super nice quick even crazi crowd downtown juri lawyer court staff', 'great atmospher friendli fast servic', 'receiv pita huge lot meat thumb', 'food arriv meh', 'pay hot dog fri look like came kid meal wienerschnitzel not idea good meal', 'classic main lobster roll fantast', 'brother law work mall ate day guess sick night', 'good go review place twice herea tribut place tribut event held last night', 'chip salsa realli good salsa fresh', 'place great', 'mediocr food', 'get insid impress place', 'super pissd', 'servic super friendli', 'sad littl veget overcook', 'place nice surpris', 'golden crispi delici', 'high hope place sinc burger cook charcoal grill unfortun tast fell flat way flat', 'could eat bruschetta day devin', 'not singl employe came see ok even need water refil final serv us food', 'lastli mozzarella stick best thing order', 'first time ever came amaz experi still tell peopl awesom duck', 'server neglig need made us feel unwelcom would not suggest place', 'servic terribl though', 'place overpr not consist boba realli overpr', 'pack', 'love place', 'say dessert yummi', 'food terribl', 'season fruit fresh white peach pure', 'kept get wors wors offici done', 'place honestli blown', 'definit would not eat', 'not wast money', 'love put food nice plastic contain oppos cram littl paper takeout box', 'cr pe delic thin moist', 'aw servic', 'ever go', 'food qualiti horribl', 'price think place would much rather gone', 'servic fair best', 'love sushi found kabuki price hip servic', 'favor stay away dish', 'poor servic', 'one tabl thought food averag worth wait', 'best servic food ever maria server good friendli made day', 'excel', 'paid bill not tip felt server terribl job', 'lunch great experi', 'never bland food surpris consid articl read focus much spice flavor', 'food way overpr portion fuck small', 'recent tri caballero back everi week sinc', 'buck head realli expect better food', 'food came good pace', 'ate twice last visit especi enjoy salmon salad', 'back', 'could not believ dirti oyster', 'place deserv star', 'would not recommend place', 'fact go round star awesom', 'disbelief dish qualifi worst version food ever tast', 'bad day not low toler rude custom servic peopl job nice polit wash dish otherwis', 'potato great biscuit', 'probabl would not go', 'flavor perfect amount heat', 'price reason servic great', 'wife hate meal coconut shrimp friend realli not enjoy meal either', 'fella got huevo ranchero look appeal', 'went happi hour great list wine', 'may say buffet pricey think get pay place get quit lot', 'probabl come back', 'worst food servic', 'place pretti good nice littl vibe restaur', 'talk great custom servic cours back', 'hot dish not hot cold dish close room temp watch staff prepar food bare hand glove everyth deep fri oil', 'love fri bean', 'alway pleasur deal', 'plethora salad sandwich everyth tri get seal approv', 'place awesom want someth light healthi summer', 'sushi strip place go', 'servic great even manag came help tabl', 'feel dine room colleg cook cours high class dine servic slow best', 'start review two star edit give one', 'worst sushi ever eat besid costco', 'excel restaur highlight great servic uniqu menu beauti set', 'boyfriend sat bar complet delight experi', 'weird vibe owner', 'hardli meat', 'better bagel groceri store', 'go place gyro', 'love owner chef one authent japanes cool dude', 'burger good pizza use amaz doughi flavorless', 'found six inch long piec wire salsa', 'servic terribl food mediocr', 'defin enjoy', 'order albondiga soup warm tast like tomato soup frozen meatbal', 'three differ occas ask well done medium well three time got bloodiest piec meat plate', 'two bite refus eat anymor', 'servic extrem slow', 'minut wait got tabl', 'serious killer hot chai latt', 'allergi warn menu waitress absolut clue meal not contain peanut', 'boyfriend tri mediterranean chicken salad fell love', 'rotat beer tap also highlight place', 'price bit concern mellow mushroom', 'worst thai ever', 'stay vega must get breakfast least', 'want first say server great perfect servic', 'pizza select good', 'strawberri tea good', 'highli unprofession rude loyal patron', 'overal great experi', 'spend money elsewher', 'regular toast bread equal satisfi occasion pat butter mmmm', 'buffet bellagio far anticip', 'drink weak peopl', 'order not correct', 'also feel like chip bought not made hous', 'disappoint dinner went elsewher dessert', 'chip sal amaz', 'return', 'new fav vega buffet spot', 'serious cannot believ owner mani unexperienc employe run around like chicken head cut', 'sad', 'felt insult disrespect could talk judg anoth human like', 'call steakhous properli cook steak understand', 'not impress concept food', 'thing crazi guacamol like pur ed', 'realli noth postino hope experi better', 'got food poison buffet', 'brought fresh batch fri think yay someth warm', 'hilari yummi christma eve dinner rememb biggest fail entir trip us', 'needless say go back anytim soon', 'place disgust', 'everi time eat see care teamwork profession degre', 'ri style calamari joke', 'howev much garlic fondu bare edibl', 'could bare stomach meal complain busi lunch', 'bad lost heart finish', 'also took forev bring us check ask', 'one make scene restaur get definit lost love one', 'disappoint experi', 'food par denni say not good', 'want wait mediocr food downright terribl servic place', 'waaaaaayyyyyyyyyi rate say', 'go back', 'place fairli clean food simpli worth', 'place lack style', 'sangria half glass wine full ridicul', 'bother come', 'meat pretti dri slice brisket pull pork', 'build seem pretti neat bathroom pretti trippi eat', 'equal aw', 'probabl not hurri go back', 'slow seat even reserv', 'not good stretch imagin', 'cashew cream sauc bland veget undercook', 'chipolt ranch dip saus tasteless seem thin water heat', 'bit sweet not realli spici enough lack flavor', 'disappoint', 'place horribl way overpr', 'mayb vegetarian fare twice thought averag best', 'busi know', 'tabl outsid also dirti lot time worker not alway friendli help menu', 'ambianc not feel like buffet set douchey indoor garden tea biscuit', 'con spotti servic', 'fri not hot neither burger', 'came back cold', 'food came disappoint ensu', 'real disappoint waiter', 'husband said rude not even apolog bad food anyth', 'reason eat would fill night bing drink get carb stomach', 'insult profound deuchebaggeri go outsid smoke break serv solidifi', 'someon order two taco think may part custom servic ask combo ala cart', 'quit disappoint although blame need place door', 'rave review wait eat disappoint', 'del taco pretti nasti avoid possibl', 'not hard make decent hamburg', 'like', 'hell go back', 'gotten much better servic pizza place next door servic receiv restaur', 'know big deal place back ya', 'immedi said want talk manag not want talk guy shot firebal behind bar', 'ambianc much better', 'unfortun set us disapppoint entre', 'food good', 'server suck wait correct server heimer suck', 'happen next pretti put', 'bad caus know famili own realli want like place', 'overpr get', 'vomit bathroom mid lunch', 'kept look time soon becom minut yet still food', 'place eat circumst would ever return top list', 'start tuna sashimi brownish color obvious fresh', 'food averag', 'sure beat nacho movi would expect littl bit come restaur', 'ha long bay bit flop', 'problem charg sandwich bigger subway sub offer better amount veget', 'shrimp unwrap live mile brushfir liter ice cold', 'lack flavor seem undercook dri', 'realli impress place close', 'would avoid place stay mirag', 'refri bean came meal dri crusti food bland', 'spend money time place els', 'ladi tabl next us found live green caterpillar salad', 'present food aw', 'tell disappoint', 'think food flavor textur lack', 'appetit instantli gone', 'overal not impress would not go back', 'whole experi underwhelm think go ninja sushi next time', 'wast enough life pour salt wound draw time took bring check']\n"
     ]
    }
   ]
  },
  {
   "cell_type": "markdown",
   "metadata": {
    "id": "CLqmAkANCp1-"
   },
   "source": [
    "## Creating the Bag of Words model"
   ]
  },
  {
   "cell_type": "code",
   "source": [
    "from sklearn.feature_extraction.text import CountVectorizer\n",
    "cv = CountVectorizer(max_features = 1500)\n",
    "X = cv.fit_transform(corpus).toarray()\n",
    "y = dataset.iloc[:, -1].values"
   ],
   "metadata": {
    "id": "Ydo7qt08d4DO"
   },
   "execution_count": null,
   "outputs": []
  },
  {
   "cell_type": "code",
   "source": [
    "len(X[0])"
   ],
   "metadata": {
    "colab": {
     "base_uri": "https://localhost:8080/"
    },
    "id": "Y_1U1KvaiXDM",
    "outputId": "25d7f942-0aca-4d62-d0ce-a3c2ccfb7b12"
   },
   "execution_count": null,
   "outputs": [
    {
     "output_type": "execute_result",
     "data": {
      "text/plain": [
       "1500"
      ]
     },
     "metadata": {},
     "execution_count": 878
    }
   ]
  },
  {
   "cell_type": "code",
   "source": [
    "from sklearn.feature_extraction.text import CountVectorizer\n",
    "vec = CountVectorizer().fit(corpus)\n",
    "bag_of_words = vec.transform(corpus)\n",
    "sum_words = bag_of_words.sum(axis=0)\n",
    "words_freq = [(word, sum_words[0, idx]) for word, idx in vec.vocabulary_.items()]\n",
    "words_freq =sorted(words_freq, key = lambda x: x[1], reverse=True)"
   ],
   "metadata": {
    "id": "yr90h31Ujxma"
   },
   "execution_count": null,
   "outputs": []
  },
  {
   "cell_type": "code",
   "source": [
    "print(words_freq)"
   ],
   "metadata": {
    "colab": {
     "base_uri": "https://localhost:8080/"
    },
    "id": "EYp5bB3Cllrk",
    "outputId": "c4a28371-31f3-4e00-9f5f-3e72a0052a01"
   },
   "execution_count": null,
   "outputs": [
    {
     "output_type": "stream",
     "name": "stdout",
     "text": [
      "[('food', 127), ('not', 116), ('place', 112), ('good', 95), ('servic', 87), ('great', 70), ('go', 62), ('back', 61), ('time', 55), ('like', 51), ('realli', 36), ('love', 33), ('disappoint', 30), ('best', 30), ('would', 29), ('wait', 29), ('get', 28), ('ever', 28), ('restaur', 28), ('order', 28), ('also', 27), ('friendli', 27), ('eat', 27), ('one', 27), ('never', 26), ('nice', 25), ('amaz', 24), ('delici', 24), ('price', 22), ('tast', 22), ('vega', 22), ('come', 21), ('even', 21), ('pretti', 20), ('came', 20), ('experi', 20), ('staff', 19), ('us', 19), ('minut', 19), ('definit', 19), ('recommend', 18), ('say', 18), ('chicken', 18), ('server', 18), ('bad', 18), ('much', 18), ('star', 18), ('got', 18), ('steak', 18), ('flavor', 18), ('pizza', 18), ('want', 17), ('made', 17), ('tri', 17), ('salad', 17), ('first', 17), ('think', 17), ('dish', 17), ('menu', 16), ('could', 16), ('fri', 16), ('burger', 16), ('way', 16), ('better', 16), ('worst', 15), ('feel', 15), ('alway', 15), ('well', 15), ('fresh', 14), ('tabl', 14), ('qualiti', 14), ('meal', 14), ('thing', 13), ('went', 13), ('sushi', 13), ('select', 12), ('enough', 12), ('enjoy', 12), ('buffet', 12), ('everyth', 12), ('serv', 12), ('fantast', 12), ('night', 12), ('perfect', 12), ('awesom', 12), ('tasti', 11), ('still', 11), ('slow', 11), ('sauc', 11), ('bland', 11), ('next', 11), ('atmospher', 11), ('know', 11), ('manag', 11), ('littl', 10), ('worth', 10), ('ask', 10), ('side', 10), ('cook', 10), ('sandwich', 10), ('give', 10), ('lunch', 10), ('meat', 10), ('dine', 10), ('breakfast', 10), ('anoth', 10), ('check', 10), ('excel', 10), ('probabl', 10), ('terribl', 10), ('potato', 9), ('waitress', 9), ('right', 9), ('beer', 9), ('deal', 9), ('look', 9), ('lot', 9), ('everi', 9), ('suck', 9), ('peopl', 9), ('custom', 9), ('absolut', 9), ('drink', 9), ('expect', 9), ('quit', 9), ('bit', 9), ('spot', 9), ('reason', 9), ('rude', 9), ('bar', 9), ('mani', 9), ('clean', 9), ('day', 9), ('seat', 9), ('impress', 9), ('hot', 9), ('soon', 9), ('friend', 9), ('need', 9), ('cold', 9), ('make', 9), ('sure', 8), ('took', 8), ('hour', 8), ('around', 8), ('overal', 8), ('attent', 8), ('dessert', 8), ('wast', 8), ('busi', 8), ('spici', 8), ('said', 8), ('review', 8), ('sinc', 8), ('take', 8), ('chip', 8), ('felt', 8), ('special', 8), ('owner', 8), ('two', 8), ('happi', 8), ('overpr', 7), ('warm', 7), ('found', 7), ('portion', 7), ('waiter', 7), ('tender', 7), ('insid', 7), ('wonder', 7), ('noth', 7), ('help', 7), ('town', 7), ('lack', 7), ('ambianc', 7), ('return', 7), ('serious', 7), ('must', 7), ('area', 7), ('stay', 7), ('far', 7), ('dinner', 7), ('famili', 7), ('super', 7), ('pho', 6), ('tell', 6), ('taco', 6), ('total', 6), ('poor', 6), ('shrimp', 6), ('hard', 6), ('rare', 6), ('left', 6), ('horribl', 6), ('talk', 6), ('pasta', 6), ('hit', 6), ('mediocr', 6), ('done', 6), ('avoid', 6), ('hand', 6), ('ice', 6), ('live', 6), ('hope', 6), ('last', 6), ('small', 6), ('see', 6), ('either', 6), ('money', 6), ('twice', 6), ('pleas', 6), ('authent', 6), ('bring', 6), ('bare', 6), ('stop', 5), ('may', 5), ('kept', 5), ('beauti', 5), ('quick', 5), ('visit', 5), ('delight', 5), ('sick', 5), ('beef', 5), ('outsid', 5), ('huge', 5), ('heart', 5), ('seafood', 5), ('tasteless', 5), ('fish', 5), ('use', 5), ('sweet', 5), ('old', 5), ('year', 5), ('roll', 5), ('larg', 5), ('mouth', 5), ('arriv', 5), ('wine', 5), ('trip', 5), ('real', 5), ('thai', 5), ('eaten', 5), ('thought', 5), ('away', 5), ('leav', 5), ('extrem', 5), ('bathroom', 5), ('decor', 5), ('consid', 5), ('watch', 5), ('pay', 5), ('full', 5), ('treat', 5), ('bacon', 5), ('zero', 5), ('sat', 5), ('incred', 5), ('bread', 5), ('home', 5), ('egg', 5), ('drive', 5), ('chef', 5), ('close', 5), ('set', 5), ('fast', 5), ('wrong', 5), ('locat', 5), ('soup', 5), ('anytim', 5), ('new', 5), ('long', 5), ('dri', 5), ('damn', 4), ('care', 4), ('end', 4), ('disgust', 4), ('highli', 4), ('let', 4), ('wall', 4), ('sever', 4), ('run', 4), ('salmon', 4), ('seem', 4), ('bite', 4), ('elsewher', 4), ('establish', 4), ('gross', 4), ('melt', 4), ('gener', 4), ('dress', 4), ('husband', 4), ('imagin', 4), ('grill', 4), ('least', 4), ('water', 4), ('receiv', 4), ('rice', 4), ('season', 4), ('today', 4), ('parti', 4), ('person', 4), ('roast', 4), ('everyon', 4), ('yummi', 4), ('ladi', 4), ('beat', 4), ('kind', 4), ('prepar', 4), ('pork', 4), ('cream', 4), ('fact', 4), ('thumb', 4), ('bay', 4), ('differ', 4), ('piec', 4), ('unfortun', 4), ('phoenix', 4), ('sad', 4), ('list', 4), ('someth', 4), ('wing', 4), ('insult', 4), ('though', 4), ('someon', 4), ('folk', 4), ('fun', 4), ('coupl', 4), ('possibl', 4), ('work', 4), ('job', 4), ('tea', 4), ('gave', 4), ('rate', 4), ('high', 4), ('hous', 4), ('dirti', 4), ('veget', 4), ('green', 4), ('bean', 4), ('option', 4), ('thin', 4), ('recent', 4), ('averag', 4), ('wow', 3), ('textur', 3), ('nasti', 3), ('touch', 3), ('brought', 3), ('sashimi', 3), ('final', 3), ('moist', 3), ('judg', 3), ('provid', 3), ('frozen', 3), ('greek', 3), ('pita', 3), ('hummu', 3), ('duck', 3), ('flat', 3), ('amount', 3), ('perfectli', 3), ('appet', 3), ('second', 3), ('salt', 3), ('chewi', 3), ('min', 3), ('guess', 3), ('break', 3), ('walk', 3), ('oh', 3), ('step', 3), ('tip', 3), ('quickli', 3), ('cafe', 3), ('wife', 3), ('bartend', 3), ('ambienc', 3), ('music', 3), ('play', 3), ('lover', 3), ('honest', 3), ('although', 3), ('actual', 3), ('fine', 3), ('guy', 3), ('word', 3), ('strip', 3), ('belli', 3), ('wrap', 3), ('delish', 3), ('chees', 3), ('subway', 3), ('empti', 3), ('ate', 3), ('top', 3), ('cover', 3), ('stale', 3), ('highlight', 3), ('ago', 3), ('immedi', 3), ('liter', 3), ('miss', 3), ('vegetarian', 3), ('decid', 3), ('healthi', 3), ('interest', 3), ('butter', 3), ('gyro', 3), ('satisfi', 3), ('dog', 3), ('brunch', 3), ('white', 3), ('soggi', 3), ('unless', 3), ('lobster', 3), ('cours', 3), ('none', 3), ('main', 3), ('world', 3), ('yet', 3), ('point', 3), ('par', 3), ('patio', 3), ('outstand', 3), ('hate', 3), ('pull', 3), ('toast', 3), ('boy', 3), ('favorit', 3), ('especi', 3), ('mom', 3), ('pleasant', 3), ('equal', 3), ('pancak', 3), ('door', 3), ('offer', 3), ('cool', 3), ('els', 3), ('find', 3), ('deserv', 3), ('stomach', 3), ('told', 3), ('shop', 3), ('kid', 3), ('complet', 3), ('regular', 3), ('biscuit', 3), ('anyway', 3), ('big', 3), ('contain', 3), ('group', 3), ('rather', 3), ('bill', 3), ('slice', 3), ('wors', 3), ('fill', 3), ('homemad', 3), ('gone', 3), ('boyfriend', 3), ('room', 3), ('mayb', 3), ('believ', 3), ('sit', 3), ('paper', 3), ('ok', 3), ('mean', 3), ('half', 3), ('vibe', 3), ('edibl', 3), ('fail', 3), ('spend', 3), ('crowd', 3), ('style', 3), ('salsa', 3), ('aw', 3), ('crust', 2), ('late', 2), ('cashier', 2), ('mmmm', 2), ('human', 2), ('hair', 2), ('sign', 2), ('cute', 2), ('red', 2), ('cake', 2), ('stuff', 2), ('mexican', 2), ('overwhelm', 2), ('combo', 2), ('decent', 2), ('blow', 2), ('familiar', 2), ('favor', 2), ('inexpens', 2), ('note', 2), ('behind', 2), ('char', 2), ('realiz', 2), ('attitud', 2), ('toward', 2), ('attack', 2), ('downtown', 2), ('excus', 2), ('scallop', 2), ('rip', 2), ('refil', 2), ('cocktail', 2), ('glad', 2), ('heard', 2), ('batter', 2), ('finish', 2), ('includ', 2), ('beyond', 2), ('meh', 2), ('known', 2), ('valu', 2), ('opportun', 2), ('compani', 2), ('experienc', 2), ('underwhelm', 2), ('smell', 2), ('greas', 2), ('other', 2), ('rave', 2), ('sugari', 2), ('six', 2), ('die', 2), ('bye', 2), ('garlic', 2), ('marrow', 2), ('ad', 2), ('extra', 2), ('mari', 2), ('cannot', 2), ('pass', 2), ('indian', 2), ('boot', 2), ('ventur', 2), ('crispi', 2), ('tuna', 2), ('bagel', 2), ('suggest', 2), ('curri', 2), ('pace', 2), ('ignor', 2), ('greet', 2), ('joint', 2), ('cut', 2), ('bakeri', 2), ('hip', 2), ('overcook', 2), ('charcoal', 2), ('dirt', 2), ('station', 2), ('valley', 2), ('bowl', 2), ('disrespect', 2), ('mushroom', 2), ('gold', 2), ('pure', 2), ('bug', 2), ('show', 2), ('given', 2), ('tartar', 2), ('shower', 2), ('mind', 2), ('bisqu', 2), ('filet', 2), ('pepper', 2), ('date', 2), ('unbeliev', 2), ('doubl', 2), ('cheeseburg', 2), ('singl', 2), ('pictur', 2), ('event', 2), ('yum', 2), ('mayo', 2), ('honestli', 2), ('eye', 2), ('almost', 2), ('build', 2), ('light', 2), ('dark', 2), ('mood', 2), ('sub', 2), ('creami', 2), ('similar', 2), ('complaint', 2), ('peanut', 2), ('stick', 2), ('charg', 2), ('tap', 2), ('plu', 2), ('buck', 2), ('coffe', 2), ('cant', 2), ('boba', 2), ('bachi', 2), ('later', 2), ('neighborhood', 2), ('conveni', 2), ('soooo', 2), ('third', 2), ('stir', 2), ('box', 2), ('summer', 2), ('basic', 2), ('joke', 2), ('fare', 2), ('without', 2), ('doubt', 2), ('black', 2), ('seen', 2), ('omg', 2), ('brick', 2), ('oven', 2), ('multipl', 2), ('ten', 2), ('life', 2), ('handl', 2), ('lukewarm', 2), ('comfort', 2), ('eggplant', 2), ('part', 2), ('happen', 2), ('car', 2), ('front', 2), ('disgrac', 2), ('anyon', 2), ('stuf', 2), ('mall', 2), ('impecc', 2), ('simpli', 2), ('remind', 2), ('pop', 2), ('assur', 2), ('sore', 2), ('becom', 2), ('profession', 2), ('mistak', 2), ('nicest', 2), ('cow', 2), ('week', 2), ('combin', 2), ('driest', 2), ('relax', 2), ('tot', 2), ('paid', 2), ('acknowledg', 2), ('margarita', 2), ('flower', 2), ('crab', 2), ('leg', 2), ('dont', 2), ('worker', 2), ('bunch', 2), ('call', 2), ('apolog', 2), ('pack', 2), ('whole', 2), ('choos', 2), ('entre', 2), ('howev', 2), ('tapa', 2), ('vinegrett', 2), ('babi', 2), ('guest', 2), ('fan', 2), ('cheap', 2), ('present', 2), ('color', 2), ('fairli', 2), ('non', 2), ('focus', 2), ('promis', 2), ('italian', 2), ('legit', 2), ('plate', 2), ('needless', 2), ('longer', 2), ('read', 2), ('simpl', 2), ('classic', 2), ('fli', 2), ('chines', 2), ('anyth', 2), ('complain', 2), ('spice', 2), ('mid', 2), ('defin', 2), ('low', 2), ('bother', 2), ('flavorless', 2), ('nacho', 2), ('crazi', 2), ('tribut', 2), ('surpris', 2), ('fell', 2), ('employe', 2), ('put', 2), ('head', 2), ('heat', 2), ('start', 2), ('three', 2), ('correct', 2), ('lost', 2), ('undercook', 2), ('bank', 1), ('holiday', 1), ('rick', 1), ('steve', 1), ('angri', 1), ('honeslti', 1), ('rubber', 1), ('ahead', 1), ('warmer', 1), ('prompt', 1), ('wayyy', 1), ('cape', 1), ('cod', 1), ('ravoli', 1), ('cranberri', 1), ('shock', 1), ('indic', 1), ('cash', 1), ('alon', 1), ('burritto', 1), ('blah', 1), ('less', 1), ('interior', 1), ('perform', 1), ('velvet', 1), ('ohhh', 1), ('hole', 1), ('street', 1), ('luke', 1), ('accid', 1), ('happier', 1), ('grab', 1), ('pub', 1), ('redeem', 1), ('ampl', 1), ('stupid', 1), ('hiro', 1), ('drag', 1), ('whether', 1), ('styrofoam', 1), ('fear', 1), ('posit', 1), ('puck', 1), ('regist', 1), ('prime', 1), ('rib', 1), ('section', 1), ('firehous', 1), ('refresh', 1), ('pink', 1), ('sunglass', 1), ('chow', 1), ('mein', 1), ('line', 1), ('string', 1), ('bottom', 1), ('power', 1), ('banana', 1), ('petrifi', 1), ('struggl', 1), ('wave', 1), ('handmad', 1), ('militari', 1), ('discount', 1), ('do', 1), ('gringo', 1), ('updat', 1), ('appar', 1), ('jeff', 1), ('milkshak', 1), ('chocol', 1), ('milk', 1), ('excalibur', 1), ('common', 1), ('sens', 1), ('appal', 1), ('cheat', 1), ('relationship', 1), ('trap', 1), ('turkey', 1), ('pan', 1), ('disast', 1), ('tailor', 1), ('palat', 1), ('spring', 1), ('ratio', 1), ('unsatisfi', 1), ('omelet', 1), ('summari', 1), ('sexi', 1), ('outrag', 1), ('flirt', 1), ('hottest', 1), ('rock', 1), ('casino', 1), ('forward', 1), ('bone', 1), ('bloddi', 1), ('mussel', 1), ('reduct', 1), ('tigerlilli', 1), ('afternoon', 1), ('sooooo', 1), ('yama', 1), ('mess', 1), ('sound', 1), ('blandest', 1), ('cuisin', 1), ('worri', 1), ('son', 1), ('host', 1), ('bitch', 1), ('number', 1), ('phenomen', 1), ('penn', 1), ('vodka', 1), ('massiv', 1), ('meatloaf', 1), ('nyc', 1), ('lox', 1), ('caper', 1), ('meet', 1), ('solid', 1), ('weekend', 1), ('bamboo', 1), ('shoot', 1), ('blanket', 1), ('moz', 1), ('subpar', 1), ('chang', 1), ('fianc', 1), ('middl', 1), ('mandalay', 1), ('forti', 1), ('five', 1), ('vain', 1), ('crostini', 1), ('nigiri', 1), ('voodoo', 1), ('gluten', 1), ('free', 1), ('leftov', 1), ('reloc', 1), ('divers', 1), ('cost', 1), ('metro', 1), ('hella', 1), ('salti', 1), ('spinach', 1), ('avocado', 1), ('ingredi', 1), ('lordi', 1), ('khao', 1), ('soi', 1), ('terrif', 1), ('thrill', 1), ('accommod', 1), ('daughter', 1), ('perhap', 1), ('caught', 1), ('inspir', 1), ('desir', 1), ('modern', 1), ('maintain', 1), ('cozi', 1), ('weekli', 1), ('haunt', 1), ('send', 1), ('verg', 1), ('quantiti', 1), ('lemon', 1), ('raspberri', 1), ('crepe', 1), ('origin', 1), ('joey', 1), ('vote', 1), ('reader', 1), ('magazin', 1), ('friday', 1), ('exceed', 1), ('dream', 1), ('serivc', 1), ('invit', 1), ('foot', 1), ('mix', 1), ('yukon', 1), ('corn', 1), ('beateou', 1), ('climb', 1), ('kitchen', 1), ('jamaican', 1), ('mojito', 1), ('rich', 1), ('accordingli', 1), ('rins', 1), ('nude', 1), ('bussel', 1), ('sprout', 1), ('risotto', 1), ('bode', 1), ('bargain', 1), ('otto', 1), ('welcom', 1), ('uninspir', 1), ('whenev', 1), ('annoy', 1), ('drunk', 1), ('patti', 1), ('fall', 1), ('apart', 1), ('upload', 1), ('yeah', 1), ('sport', 1), ('tv', 1), ('descript', 1), ('eel', 1), ('hardest', 1), ('decis', 1), ('suppos', 1), ('flavour', 1), ('freez', 1), ('ayc', 1), ('base', 1), ('effort', 1), ('gratitud', 1), ('privileg', 1), ('parent', 1), ('silent', 1), ('godfath', 1), ('tough', 1), ('short', 1), ('recal', 1), ('exquisit', 1), ('thu', 1), ('self', 1), ('proclaim', 1), ('wildli', 1), ('veggitarian', 1), ('platter', 1), ('madison', 1), ('ironman', 1), ('dedic', 1), ('jenni', 1), ('goat', 1), ('skimp', 1), ('mac', 1), ('stink', 1), ('burn', 1), ('saganaki', 1), ('disagre', 1), ('fellow', 1), ('yelper', 1), ('write', 1), ('noodl', 1), ('count', 1), ('bore', 1), ('greedi', 1), ('corpor', 1), ('dime', 1), ('atroci', 1), ('charm', 1), ('outdoor', 1), ('english', 1), ('muffin', 1), ('untoast', 1), ('bu', 1), ('figur', 1), ('publicli', 1), ('loudli', 1), ('bbq', 1), ('lighter', 1), ('public', 1), ('downsid', 1), ('except', 1), ('month', 1), ('shawarrrrrrma', 1), ('pea', 1), ('unreal', 1), ('vinaigrett', 1), ('honor', 1), ('hut', 1), ('coupon', 1), ('truli', 1), ('replenish', 1), ('plain', 1), ('yucki', 1), ('standard', 1), ('delicioso', 1), ('spaghetti', 1), ('whatsoev', 1), ('tucson', 1), ('chipotl', 1), ('classi', 1), ('succul', 1), ('basebal', 1), ('app', 1), ('genuin', 1), ('enthusiast', 1), ('sadli', 1), ('gordon', 1), ('ramsey', 1), ('shall', 1), ('sharpli', 1), ('turn', 1), ('buy', 1), ('rowdi', 1), ('despic', 1), ('crave', 1), ('ach', 1), ('rest', 1), ('drop', 1), ('ball', 1), ('space', 1), ('tini', 1), ('elegantli', 1), ('usual', 1), ('outta', 1), ('inconsider', 1), ('hi', 1), ('outshin', 1), ('halibut', 1), ('starv', 1), ('def', 1), ('ethic', 1), ('continu', 1), ('andddd', 1), ('past', 1), ('crystal', 1), ('aria', 1), ('summar', 1), ('nay', 1), ('transcend', 1), ('joy', 1), ('memori', 1), ('pneumat', 1), ('condiment', 1), ('dispens', 1), ('ian', 1), ('kiddo', 1), ('bouchon', 1), ('account', 1), ('screw', 1), ('san', 1), ('francisco', 1), ('buldogi', 1), ('gourmet', 1), ('frustrat', 1), ('petti', 1), ('hungri', 1), ('teeth', 1), ('companion', 1), ('ground', 1), ('smear', 1), ('track', 1), ('everywher', 1), ('pile', 1), ('bird', 1), ('poop', 1), ('furthermor', 1), ('oper', 1), ('websit', 1), ('expert', 1), ('connisseur', 1), ('topic', 1), ('jerk', 1), ('strike', 1), ('rush', 1), ('across', 1), ('absolutley', 1), ('awkward', 1), ('lb', 1), ('th', 1), ('gristl', 1), ('fat', 1), ('steiner', 1), ('dollar', 1), ('fs', 1), ('mention', 1), ('pear', 1), ('almond', 1), ('winner', 1), ('spicier', 1), ('prefer', 1), ('ribey', 1), ('mesquit', 1), ('gooodd', 1), ('connoisseur', 1), ('certainli', 1), ('venu', 1), ('etc', 1), ('nargil', 1), ('tater', 1), ('southwest', 1), ('vanilla', 1), ('smooth', 1), ('profiterol', 1), ('choux', 1), ('pastri', 1), ('im', 1), ('az', 1), ('carli', 1), ('due', 1), ('forget', 1), ('ventil', 1), ('upgrad', 1), ('letdown', 1), ('camelback', 1), ('cartel', 1), ('trim', 1), ('claim', 1), ('jewel', 1), ('la', 1), ('exactli', 1), ('nearli', 1), ('limit', 1), ('boil', 1), ('toro', 1), ('cavier', 1), ('extraordinari', 1), ('thinli', 1), ('wagyu', 1), ('truffl', 1), ('attach', 1), ('ga', 1), ('humili', 1), ('name', 1), ('conclus', 1), ('daili', 1), ('tragedi', 1), ('struck', 1), ('crawfish', 1), ('monster', 1), ('funni', 1), ('multi', 1), ('grain', 1), ('pumpkin', 1), ('pecan', 1), ('fluffi', 1), ('airlin', 1), ('noca', 1), ('lettuc', 1), ('thoroughli', 1), ('cheesecurd', 1), ('typic', 1), ('glanc', 1), ('finger', 1), ('item', 1), ('greasi', 1), ('unhealthi', 1), ('might', 1), ('similarli', 1), ('deliveri', 1), ('man', 1), ('expens', 1), ('tiramisu', 1), ('cannoli', 1), ('sun', 1), ('frenchman', 1), ('martini', 1), ('opinion', 1), ('gc', 1), ('sampl', 1), ('thirti', 1), ('vacant', 1), ('yellowtail', 1), ('carpaccio', 1), ('stranger', 1), ('hello', 1), ('strang', 1), ('donut', 1), ('save', 1), ('particular', 1), ('suffer', 1), ('palm', 1), ('hanker', 1), ('forth', 1), ('theft', 1), ('eew', 1), ('overhaul', 1), ('wit', 1), ('regularli', 1), ('swung', 1), ('deepli', 1), ('effici', 1), ('sucker', 1), ('oliv', 1), ('perpar', 1), ('giant', 1), ('lightli', 1), ('dust', 1), ('powder', 1), ('sugar', 1), ('fo', 1), ('accomod', 1), ('vegan', 1), ('veggi', 1), ('crumbi', 1), ('pale', 1), ('instead', 1), ('crouton', 1), ('crema', 1), ('caf', 1), ('expand', 1), ('wish', 1), ('philadelphia', 1), ('crisp', 1), ('north', 1), ('scottsdal', 1), ('soooooo', 1), ('freak', 1), ('reheat', 1), ('wedg', 1), ('sorri', 1), ('tongu', 1), ('cheek', 1), ('bloodi', 1), ('despit', 1), ('yellow', 1), ('saffron', 1), ('thru', 1), ('somehow', 1), ('luck', 1), ('grandmoth', 1), ('hostess', 1), ('four', 1), ('blue', 1), ('shirt', 1), ('drastic', 1), ('caesar', 1), ('promptli', 1), ('madhous', 1), ('proven', 1), ('dead', 1), ('greatest', 1), ('macaron', 1), ('insan', 1), ('inform', 1), ('somewhat', 1), ('deliv', 1), ('plater', 1), ('togeth', 1), ('poorli', 1), ('construct', 1), ('scream', 1), ('book', 1), ('somethat', 1), ('duo', 1), ('violinist', 1), ('song', 1), ('request', 1), ('baklava', 1), ('falafel', 1), ('baba', 1), ('ganoush', 1), ('mgm', 1), ('courteou', 1), ('eclect', 1), ('onion', 1), ('ring', 1), ('nobu', 1), ('googl', 1), ('smashburg', 1), ('gem', 1), ('plantain', 1), ('panna', 1), ('cotta', 1), ('slaw', 1), ('drench', 1), ('piano', 1), ('soundtrack', 1), ('rge', 1), ('fillet', 1), ('relleno', 1), ('sergeant', 1), ('auju', 1), ('hawaiian', 1), ('breez', 1), ('mango', 1), ('magic', 1), ('pineappl', 1), ('smoothi', 1), ('mortifi', 1), ('drip', 1), ('mostli', 1), ('hospit', 1), ('industri', 1), ('paradis', 1), ('refrain', 1), ('cibo', 1), ('famou', 1), ('pro', 1), ('dough', 1), ('tonight', 1), ('elk', 1), ('hook', 1), ('quaint', 1), ('compliment', 1), ('thank', 1), ('dylan', 1), ('tummi', 1), ('gratuiti', 1), ('larger', 1), ('appl', 1), ('juic', 1), ('han', 1), ('nan', 1), ('ryan', 1), ('edinburgh', 1), ('revisit', 1), ('naan', 1), ('pine', 1), ('nut', 1), ('airport', 1), ('speedi', 1), ('calligraphi', 1), ('stood', 1), ('begin', 1), ('awkwardli', 1), ('open', 1), ('extens', 1), ('wide', 1), ('array', 1), ('inflat', 1), ('smaller', 1), ('grow', 1), ('rapidli', 1), ('lil', 1), ('fuzzi', 1), ('fabul', 1), ('wonton', 1), ('thick', 1), ('level', 1), ('whelm', 1), ('older', 1), ('arepa', 1), ('jalapeno', 1), ('that', 1), ('shoe', 1), ('leather', 1), ('block', 1), ('key', 1), ('fanci', 1), ('afford', 1), ('sour', 1), ('sunday', 1), ('tradit', 1), ('hunan', 1), ('flair', 1), ('nutshel', 1), ('restaraunt', 1), ('market', 1), ('sewer', 1), ('girlfriend', 1), ('veal', 1), ('satifi', 1), ('join', 1), ('club', 1), ('via', 1), ('email', 1), ('case', 1), ('colder', 1), ('describ', 1), ('tepid', 1), ('chain', 1), ('easili', 1), ('juri', 1), ('lawyer', 1), ('court', 1), ('wienerschnitzel', 1), ('idea', 1), ('brother', 1), ('law', 1), ('herea', 1), ('held', 1), ('pissd', 1), ('golden', 1), ('bruschetta', 1), ('devin', 1), ('lastli', 1), ('mozzarella', 1), ('neglig', 1), ('unwelcom', 1), ('consist', 1), ('fruit', 1), ('peach', 1), ('offici', 1), ('blown', 1), ('plastic', 1), ('oppos', 1), ('cram', 1), ('takeout', 1), ('cr', 1), ('pe', 1), ('delic', 1), ('fair', 1), ('kabuki', 1), ('maria', 1), ('articl', 1), ('fuck', 1), ('caballero', 1), ('oyster', 1), ('round', 1), ('disbelief', 1), ('qualifi', 1), ('version', 1), ('toler', 1), ('polit', 1), ('wash', 1), ('otherwis', 1), ('coconut', 1), ('fella', 1), ('huevo', 1), ('ranchero', 1), ('appeal', 1), ('pricey', 1), ('temp', 1), ('glove', 1), ('deep', 1), ('oil', 1), ('pleasur', 1), ('plethora', 1), ('seal', 1), ('approv', 1), ('colleg', 1), ('class', 1), ('edit', 1), ('besid', 1), ('costco', 1), ('uniqu', 1), ('weird', 1), ('hardli', 1), ('groceri', 1), ('store', 1), ('japanes', 1), ('dude', 1), ('doughi', 1), ('inch', 1), ('wire', 1), ('albondiga', 1), ('tomato', 1), ('meatbal', 1), ('occas', 1), ('medium', 1), ('bloodiest', 1), ('refus', 1), ('anymor', 1), ('killer', 1), ('chai', 1), ('latt', 1), ('allergi', 1), ('warn', 1), ('clue', 1), ('mediterranean', 1), ('rotat', 1), ('concern', 1), ('mellow', 1), ('strawberri', 1), ('unprofession', 1), ('loyal', 1), ('patron', 1), ('occasion', 1), ('pat', 1), ('bellagio', 1), ('anticip', 1), ('weak', 1), ('bought', 1), ('sal', 1), ('fav', 1), ('unexperienc', 1), ('steakhous', 1), ('properli', 1), ('understand', 1), ('concept', 1), ('guacamol', 1), ('pur', 1), ('ed', 1), ('postino', 1), ('poison', 1), ('batch', 1), ('yay', 1), ('hilari', 1), ('christma', 1), ('eve', 1), ('rememb', 1), ('biggest', 1), ('entir', 1), ('teamwork', 1), ('degre', 1), ('ri', 1), ('calamari', 1), ('fondu', 1), ('forev', 1), ('scene', 1), ('denni', 1), ('downright', 1), ('waaaaaayyyyyyyyyi', 1), ('sangria', 1), ('glass', 1), ('ridicul', 1), ('brisket', 1), ('neat', 1), ('trippi', 1), ('hurri', 1), ('reserv', 1), ('stretch', 1), ('cashew', 1), ('chipolt', 1), ('ranch', 1), ('dip', 1), ('saus', 1), ('douchey', 1), ('indoor', 1), ('garden', 1), ('con', 1), ('spotti', 1), ('neither', 1), ('ensu', 1), ('bing', 1), ('carb', 1), ('profound', 1), ('deuchebaggeri', 1), ('smoke', 1), ('solidifi', 1), ('ala', 1), ('cart', 1), ('blame', 1), ('del', 1), ('hamburg', 1), ('hell', 1), ('gotten', 1), ('ya', 1), ('shot', 1), ('firebal', 1), ('disapppoint', 1), ('heimer', 1), ('caus', 1), ('own', 1), ('vomit', 1), ('circumst', 1), ('brownish', 1), ('obvious', 1), ('movi', 1), ('ha', 1), ('flop', 1), ('problem', 1), ('bigger', 1), ('unwrap', 1), ('mile', 1), ('brushfir', 1), ('mirag', 1), ('refri', 1), ('crusti', 1), ('caterpillar', 1), ('appetit', 1), ('instantli', 1), ('ninja', 1), ('pour', 1), ('wound', 1), ('draw', 1)]\n"
     ]
    }
   ]
  },
  {
   "cell_type": "markdown",
   "metadata": {
    "id": "DH_VjgPzC2cd"
   },
   "source": [
    "## Splitting the dataset into the Training set and Test set"
   ]
  },
  {
   "cell_type": "code",
   "source": [
    "from sklearn.model_selection import train_test_split\n",
    "X_train, X_test, y_train, y_test = train_test_split(X, y, test_size = 0.2, random_state = 0)"
   ],
   "metadata": {
    "id": "RxrY3X-BKxNx"
   },
   "execution_count": null,
   "outputs": []
  },
  {
   "cell_type": "code",
   "source": [
    "print(X_train)"
   ],
   "metadata": {
    "colab": {
     "base_uri": "https://localhost:8080/"
    },
    "id": "5zKqy123LQo7",
    "outputId": "7710995c-3edb-4662-af9f-13460429ce1f"
   },
   "execution_count": null,
   "outputs": [
    {
     "output_type": "stream",
     "name": "stdout",
     "text": [
      "[[0 0 0 ... 0 0 0]\n",
      " [0 0 0 ... 0 0 0]\n",
      " [0 0 0 ... 0 0 0]\n",
      " ...\n",
      " [0 0 0 ... 0 0 0]\n",
      " [0 0 0 ... 0 0 0]\n",
      " [0 0 0 ... 0 0 0]]\n"
     ]
    }
   ]
  },
  {
   "cell_type": "code",
   "source": [
    "print(X_test)"
   ],
   "metadata": {
    "colab": {
     "base_uri": "https://localhost:8080/"
    },
    "id": "S7VkvoDYLSAG",
    "outputId": "3d1a8dff-2eec-47e7-80d0-7b3a0c57f37e"
   },
   "execution_count": null,
   "outputs": [
    {
     "output_type": "stream",
     "name": "stdout",
     "text": [
      "[[0 0 0 ... 0 0 0]\n",
      " [0 0 0 ... 0 0 0]\n",
      " [0 0 0 ... 0 0 0]\n",
      " ...\n",
      " [0 0 0 ... 0 0 0]\n",
      " [0 0 0 ... 0 0 0]\n",
      " [0 0 0 ... 0 0 0]]\n"
     ]
    }
   ]
  },
  {
   "cell_type": "code",
   "source": [
    "print(y_train)"
   ],
   "metadata": {
    "colab": {
     "base_uri": "https://localhost:8080/"
    },
    "id": "u9T6JcZhLSp5",
    "outputId": "053d5220-495a-405f-9fc1-e1b12f00c50c"
   },
   "execution_count": null,
   "outputs": [
    {
     "output_type": "stream",
     "name": "stdout",
     "text": [
      "[1 1 1 0 1 0 1 0 0 0 1 0 0 1 1 0 1 1 1 1 0 1 0 0 1 1 1 0 0 1 1 1 1 0 1 0 1\n",
      " 1 1 0 1 1 1 1 0 1 0 0 1 0 0 1 1 0 0 0 1 1 0 1 0 1 1 0 0 1 1 0 1 0 0 0 1 1\n",
      " 0 1 1 1 0 1 0 0 1 1 1 0 1 0 1 0 0 0 1 0 0 0 0 0 1 1 1 0 1 1 1 1 0 0 1 0 0\n",
      " 0 0 0 0 0 1 1 1 1 0 0 0 0 0 0 1 1 1 1 1 0 1 0 1 0 1 0 0 1 0 1 0 0 1 0 1 0\n",
      " 0 0 1 1 1 0 0 0 1 1 1 0 0 0 0 0 1 0 0 1 0 0 0 0 1 0 0 0 0 0 1 1 1 1 1 1 0\n",
      " 0 1 0 1 1 1 1 0 0 1 0 0 0 0 0 1 1 1 0 1 1 0 1 1 1 0 1 1 0 0 0 1 1 0 1 0 1\n",
      " 0 0 0 0 0 1 0 1 0 0 1 0 1 0 1 1 0 1 1 1 0 0 1 1 1 1 1 0 1 1 0 0 0 1 0 0 1\n",
      " 0 0 0 1 0 0 0 0 1 1 1 0 0 1 0 1 1 0 0 1 0 1 0 0 1 0 1 1 0 1 0 1 1 0 1 1 0\n",
      " 1 1 1 1 1 1 1 1 0 1 0 1 1 1 1 0 1 0 1 0 1 0 1 1 1 0 1 0 1 1 1 1 1 1 1 0 0\n",
      " 1 1 1 0 0 1 1 0 1 0 1 0 0 0 1 1 1 0 1 1 1 1 1 1 0 0 1 0 1 0 0 1 0 0 0 1 0\n",
      " 0 1 1 1 1 0 0 0 0 1 0 1 0 0 0 1 1 0 0 0 1 1 0 0 0 0 0 0 0 1 1 0 1 0 0 0 1\n",
      " 1 1 0 0 0 0 0 0 1 1 1 1 1 1 1 1 1 1 1 0 1 1 1 0 0 1 1 0 1 1 1 0 0 0 1 1 1\n",
      " 1 0 0 0 0 1 0 0 0 0 0 0 0 1 0 1 1 0 0 0 1 1 1 0 0 1 1 0 0 1 0 0 0 1 0 1 0\n",
      " 0 1 0 1 0 1 1 0 0 1 0 1 1 1 0 0 0 0 0 0 0 1 0 0 0 0 0 1 0 1 0 0 0 1 1 0 1\n",
      " 1 0 0 0 0 1 0 0 1 0 1 1 0 1 1 1 1 0 1 0 1 0 1 0 0 1 0 1 1 1 0 0 1 0 0 1 0\n",
      " 1 0 1 0 1 0 0 0 1 0 1 1 1 1 1 0 0 1 1 0 1 0 1 1 1 0 1 0 0 0 0 1 1 0 0 0 0\n",
      " 1 1 1 0 1 1 0 0 0 1 0 0 1 1 1 1 1 0 1 1 1 0 1 0 0 0 0 0 1 0 1 1 1 1 0 0 0\n",
      " 1 1 0 1 0 0 1 0 0 1 0 0 0 0 1 0 0 1 0 1 0 1 1 1 1 0 1 0 1 1 1 0 1 0 0 1 0\n",
      " 0 0 1 0 1 1 0 0 0 1 0 1 1 1 1 0 0 0 0 1 0 0 0 1 1 0 0 1 1 0 0 0 1 1 0 1 1\n",
      " 1 1 0 1 0 0 1 1 1 0 0 0 0 0 0 0 0 0 1 0 1 0 0 0 1 1 0 0 1 1 0 0 0 0 0 0 0\n",
      " 1 1 1 1 1 0 1 0 0 1 0 1 1 0 0 0 1 1 0 1 1 1 1 1 1 0 1 1 0 0 0 0 1 0 0 0 1\n",
      " 1 1 1 0 1 0 1 1 1 0 1 0 1 1 1 1 0 0 0 0 1 1 1]\n"
     ]
    }
   ]
  },
  {
   "cell_type": "code",
   "source": [
    "print(y_test)"
   ],
   "metadata": {
    "colab": {
     "base_uri": "https://localhost:8080/"
    },
    "id": "Qu_vqkWYLSXt",
    "outputId": "f4de4d1b-6369-4c6f-fe6d-0e3fd04b6219"
   },
   "execution_count": null,
   "outputs": [
    {
     "output_type": "stream",
     "name": "stdout",
     "text": [
      "[0 0 0 0 0 0 1 0 0 1 1 1 0 1 1 1 0 0 0 1 0 1 1 0 0 1 1 1 1 0 1 1 1 1 1 0 0\n",
      " 0 0 1 1 0 1 0 0 0 0 0 0 0 1 1 1 1 0 0 1 1 0 1 0 0 0 0 1 0 1 1 1 0 1 1 1 1\n",
      " 0 0 1 1 0 1 0 1 1 0 1 1 0 0 1 0 0 1 0 0 0 1 0 1 1 0 1 1 1 0 1 0 1 1 0 1 1\n",
      " 1 0 0 1 0 1 1 1 1 1 0 1 0 0 0 1 0 0 1 0 1 0 0 1 1 1 1 1 0 1 1 1 0 0 0 0 1\n",
      " 1 1 1 1 1 1 0 0 1 1 1 0 0 0 1 1 0 0 0 0 0 1 0 1 1 0 0 1 0 1 0 1 1 0 0 0 0\n",
      " 1 0 1 0 1 1 0 0 0 1 0 1 1 0 1]\n"
     ]
    }
   ]
  },
  {
   "cell_type": "markdown",
   "source": [
    "# Training Models"
   ],
   "metadata": {
    "id": "XCtJzJXCN2D4"
   }
  },
  {
   "cell_type": "code",
   "source": [
    "performance = np.array([['Model', 'Accuracy', 'Precision', 'Recall', 'F1 Score']])"
   ],
   "metadata": {
    "id": "usYS0r81OBTF"
   },
   "execution_count": null,
   "outputs": []
  },
  {
   "cell_type": "markdown",
   "source": [
    "## Training the Logistic Regression model on the Training set"
   ],
   "metadata": {
    "id": "tV6hrVftHR0W"
   }
  },
  {
   "cell_type": "code",
   "source": [
    "from sklearn.linear_model import LogisticRegression\n",
    "classifier = LogisticRegression(random_state = 0)\n",
    "classifier.fit(X_train, y_train)"
   ],
   "metadata": {
    "colab": {
     "base_uri": "https://localhost:8080/",
     "height": 74
    },
    "id": "lw_eEdv0H4Ag",
    "outputId": "d4f8198b-299f-45d7-f420-389a3e0fa609"
   },
   "execution_count": null,
   "outputs": [
    {
     "output_type": "execute_result",
     "data": {
      "text/plain": [
       "LogisticRegression(random_state=0)"
      ],
      "text/html": [
       "<style>#sk-container-id-53 {color: black;background-color: white;}#sk-container-id-53 pre{padding: 0;}#sk-container-id-53 div.sk-toggleable {background-color: white;}#sk-container-id-53 label.sk-toggleable__label {cursor: pointer;display: block;width: 100%;margin-bottom: 0;padding: 0.3em;box-sizing: border-box;text-align: center;}#sk-container-id-53 label.sk-toggleable__label-arrow:before {content: \"▸\";float: left;margin-right: 0.25em;color: #696969;}#sk-container-id-53 label.sk-toggleable__label-arrow:hover:before {color: black;}#sk-container-id-53 div.sk-estimator:hover label.sk-toggleable__label-arrow:before {color: black;}#sk-container-id-53 div.sk-toggleable__content {max-height: 0;max-width: 0;overflow: hidden;text-align: left;background-color: #f0f8ff;}#sk-container-id-53 div.sk-toggleable__content pre {margin: 0.2em;color: black;border-radius: 0.25em;background-color: #f0f8ff;}#sk-container-id-53 input.sk-toggleable__control:checked~div.sk-toggleable__content {max-height: 200px;max-width: 100%;overflow: auto;}#sk-container-id-53 input.sk-toggleable__control:checked~label.sk-toggleable__label-arrow:before {content: \"▾\";}#sk-container-id-53 div.sk-estimator input.sk-toggleable__control:checked~label.sk-toggleable__label {background-color: #d4ebff;}#sk-container-id-53 div.sk-label input.sk-toggleable__control:checked~label.sk-toggleable__label {background-color: #d4ebff;}#sk-container-id-53 input.sk-hidden--visually {border: 0;clip: rect(1px 1px 1px 1px);clip: rect(1px, 1px, 1px, 1px);height: 1px;margin: -1px;overflow: hidden;padding: 0;position: absolute;width: 1px;}#sk-container-id-53 div.sk-estimator {font-family: monospace;background-color: #f0f8ff;border: 1px dotted black;border-radius: 0.25em;box-sizing: border-box;margin-bottom: 0.5em;}#sk-container-id-53 div.sk-estimator:hover {background-color: #d4ebff;}#sk-container-id-53 div.sk-parallel-item::after {content: \"\";width: 100%;border-bottom: 1px solid gray;flex-grow: 1;}#sk-container-id-53 div.sk-label:hover label.sk-toggleable__label {background-color: #d4ebff;}#sk-container-id-53 div.sk-serial::before {content: \"\";position: absolute;border-left: 1px solid gray;box-sizing: border-box;top: 0;bottom: 0;left: 50%;z-index: 0;}#sk-container-id-53 div.sk-serial {display: flex;flex-direction: column;align-items: center;background-color: white;padding-right: 0.2em;padding-left: 0.2em;position: relative;}#sk-container-id-53 div.sk-item {position: relative;z-index: 1;}#sk-container-id-53 div.sk-parallel {display: flex;align-items: stretch;justify-content: center;background-color: white;position: relative;}#sk-container-id-53 div.sk-item::before, #sk-container-id-53 div.sk-parallel-item::before {content: \"\";position: absolute;border-left: 1px solid gray;box-sizing: border-box;top: 0;bottom: 0;left: 50%;z-index: -1;}#sk-container-id-53 div.sk-parallel-item {display: flex;flex-direction: column;z-index: 1;position: relative;background-color: white;}#sk-container-id-53 div.sk-parallel-item:first-child::after {align-self: flex-end;width: 50%;}#sk-container-id-53 div.sk-parallel-item:last-child::after {align-self: flex-start;width: 50%;}#sk-container-id-53 div.sk-parallel-item:only-child::after {width: 0;}#sk-container-id-53 div.sk-dashed-wrapped {border: 1px dashed gray;margin: 0 0.4em 0.5em 0.4em;box-sizing: border-box;padding-bottom: 0.4em;background-color: white;}#sk-container-id-53 div.sk-label label {font-family: monospace;font-weight: bold;display: inline-block;line-height: 1.2em;}#sk-container-id-53 div.sk-label-container {text-align: center;}#sk-container-id-53 div.sk-container {/* jupyter's `normalize.less` sets `[hidden] { display: none; }` but bootstrap.min.css set `[hidden] { display: none !important; }` so we also need the `!important` here to be able to override the default hidden behavior on the sphinx rendered scikit-learn.org. See: https://github.com/scikit-learn/scikit-learn/issues/21755 */display: inline-block !important;position: relative;}#sk-container-id-53 div.sk-text-repr-fallback {display: none;}</style><div id=\"sk-container-id-53\" class=\"sk-top-container\"><div class=\"sk-text-repr-fallback\"><pre>LogisticRegression(random_state=0)</pre><b>In a Jupyter environment, please rerun this cell to show the HTML representation or trust the notebook. <br />On GitHub, the HTML representation is unable to render, please try loading this page with nbviewer.org.</b></div><div class=\"sk-container\" hidden><div class=\"sk-item\"><div class=\"sk-estimator sk-toggleable\"><input class=\"sk-toggleable__control sk-hidden--visually\" id=\"sk-estimator-id-53\" type=\"checkbox\" checked><label for=\"sk-estimator-id-53\" class=\"sk-toggleable__label sk-toggleable__label-arrow\">LogisticRegression</label><div class=\"sk-toggleable__content\"><pre>LogisticRegression(random_state=0)</pre></div></div></div></div></div>"
      ]
     },
     "metadata": {},
     "execution_count": 887
    }
   ]
  },
  {
   "cell_type": "markdown",
   "source": [
    "### Predicting the Test set results"
   ],
   "metadata": {
    "id": "Qa70lBGIJL_u"
   }
  },
  {
   "cell_type": "code",
   "source": [
    "y_pred = classifier.predict(X_test)\n",
    "prediction = np.concatenate((y_pred.reshape(len(y_pred), 1), y_test.reshape(len(y_test), 1)), 1)"
   ],
   "metadata": {
    "id": "YBpicRWSJOj6"
   },
   "execution_count": null,
   "outputs": []
  },
  {
   "cell_type": "code",
   "source": [
    "print(prediction)"
   ],
   "metadata": {
    "colab": {
     "base_uri": "https://localhost:8080/"
    },
    "id": "SqAQE3duJ-xP",
    "outputId": "97591ef4-66a0-4567-a1a6-1e40c463553e"
   },
   "execution_count": null,
   "outputs": [
    {
     "output_type": "stream",
     "name": "stdout",
     "text": [
      "[[0 0]\n",
      " [0 0]\n",
      " [0 0]\n",
      " [0 0]\n",
      " [0 0]\n",
      " [0 0]\n",
      " [1 1]\n",
      " [0 0]\n",
      " [0 0]\n",
      " [1 1]\n",
      " [1 1]\n",
      " [1 1]\n",
      " [1 0]\n",
      " [1 1]\n",
      " [1 1]\n",
      " [1 1]\n",
      " [0 0]\n",
      " [0 0]\n",
      " [0 0]\n",
      " [1 1]\n",
      " [0 0]\n",
      " [0 1]\n",
      " [1 1]\n",
      " [1 0]\n",
      " [1 0]\n",
      " [1 1]\n",
      " [0 1]\n",
      " [1 1]\n",
      " [1 1]\n",
      " [0 0]\n",
      " [1 1]\n",
      " [1 1]\n",
      " [0 1]\n",
      " [0 1]\n",
      " [1 1]\n",
      " [0 0]\n",
      " [0 0]\n",
      " [0 0]\n",
      " [0 0]\n",
      " [1 1]\n",
      " [1 1]\n",
      " [1 0]\n",
      " [1 1]\n",
      " [0 0]\n",
      " [0 0]\n",
      " [0 0]\n",
      " [1 0]\n",
      " [1 0]\n",
      " [1 0]\n",
      " [0 0]\n",
      " [1 1]\n",
      " [1 1]\n",
      " [1 1]\n",
      " [1 1]\n",
      " [0 0]\n",
      " [0 0]\n",
      " [0 1]\n",
      " [0 1]\n",
      " [0 0]\n",
      " [1 1]\n",
      " [1 0]\n",
      " [0 0]\n",
      " [0 0]\n",
      " [1 0]\n",
      " [0 1]\n",
      " [0 0]\n",
      " [1 1]\n",
      " [0 1]\n",
      " [1 1]\n",
      " [0 0]\n",
      " [1 1]\n",
      " [1 1]\n",
      " [1 1]\n",
      " [0 1]\n",
      " [0 0]\n",
      " [0 0]\n",
      " [0 1]\n",
      " [1 1]\n",
      " [0 0]\n",
      " [1 1]\n",
      " [0 0]\n",
      " [1 1]\n",
      " [1 1]\n",
      " [0 0]\n",
      " [1 1]\n",
      " [1 1]\n",
      " [1 0]\n",
      " [0 0]\n",
      " [1 1]\n",
      " [1 0]\n",
      " [0 0]\n",
      " [1 1]\n",
      " [0 0]\n",
      " [0 0]\n",
      " [0 0]\n",
      " [0 1]\n",
      " [0 0]\n",
      " [0 1]\n",
      " [0 1]\n",
      " [1 0]\n",
      " [0 1]\n",
      " [1 1]\n",
      " [1 1]\n",
      " [1 0]\n",
      " [1 1]\n",
      " [0 0]\n",
      " [1 1]\n",
      " [1 1]\n",
      " [0 0]\n",
      " [0 1]\n",
      " [0 1]\n",
      " [1 1]\n",
      " [0 0]\n",
      " [1 0]\n",
      " [0 1]\n",
      " [1 0]\n",
      " [1 1]\n",
      " [1 1]\n",
      " [1 1]\n",
      " [1 1]\n",
      " [0 1]\n",
      " [0 0]\n",
      " [1 1]\n",
      " [0 0]\n",
      " [0 0]\n",
      " [0 0]\n",
      " [0 1]\n",
      " [0 0]\n",
      " [0 0]\n",
      " [0 1]\n",
      " [0 0]\n",
      " [1 1]\n",
      " [0 0]\n",
      " [0 0]\n",
      " [1 1]\n",
      " [1 1]\n",
      " [1 1]\n",
      " [1 1]\n",
      " [1 1]\n",
      " [0 0]\n",
      " [1 1]\n",
      " [1 1]\n",
      " [1 1]\n",
      " [0 0]\n",
      " [0 0]\n",
      " [0 0]\n",
      " [0 0]\n",
      " [0 1]\n",
      " [0 1]\n",
      " [1 1]\n",
      " [0 1]\n",
      " [0 1]\n",
      " [1 1]\n",
      " [1 1]\n",
      " [0 0]\n",
      " [0 0]\n",
      " [1 1]\n",
      " [0 1]\n",
      " [1 1]\n",
      " [0 0]\n",
      " [0 0]\n",
      " [0 0]\n",
      " [1 1]\n",
      " [1 1]\n",
      " [1 0]\n",
      " [0 0]\n",
      " [0 0]\n",
      " [0 0]\n",
      " [0 0]\n",
      " [0 1]\n",
      " [0 0]\n",
      " [1 1]\n",
      " [1 1]\n",
      " [0 0]\n",
      " [0 0]\n",
      " [0 1]\n",
      " [0 0]\n",
      " [1 1]\n",
      " [0 0]\n",
      " [1 1]\n",
      " [1 1]\n",
      " [1 0]\n",
      " [0 0]\n",
      " [0 0]\n",
      " [0 0]\n",
      " [0 1]\n",
      " [0 0]\n",
      " [1 1]\n",
      " [0 0]\n",
      " [1 1]\n",
      " [1 1]\n",
      " [0 0]\n",
      " [0 0]\n",
      " [0 0]\n",
      " [1 1]\n",
      " [0 0]\n",
      " [1 1]\n",
      " [1 1]\n",
      " [0 0]\n",
      " [1 1]]\n"
     ]
    }
   ]
  },
  {
   "cell_type": "markdown",
   "source": [
    "### Evaluating Performance"
   ],
   "metadata": {
    "id": "7LagvUlNKBq-"
   }
  },
  {
   "cell_type": "code",
   "source": [
    "model = 'Logistic Regression'\n",
    "cm = confusion_matrix(y_test, y_pred)\n",
    "ac = round(accuracy_score(y_test, y_pred), 3)\n",
    "ps = round(precision_score(y_test, y_pred), 3)\n",
    "rs = round(recall_score(y_test, y_pred), 3)\n",
    "fs = round(f1_score(y_test, y_pred), 3)"
   ],
   "metadata": {
    "id": "nGCGiBtcKE6U"
   },
   "execution_count": null,
   "outputs": []
  },
  {
   "cell_type": "code",
   "source": [
    "print(cm)"
   ],
   "metadata": {
    "colab": {
     "base_uri": "https://localhost:8080/"
    },
    "id": "RH98LXY9KZrH",
    "outputId": "ae3094ba-18fb-455c-a7d0-1c88a876b155"
   },
   "execution_count": null,
   "outputs": [
    {
     "output_type": "stream",
     "name": "stdout",
     "text": [
      "[[80 17]\n",
      " [28 75]]\n"
     ]
    }
   ]
  },
  {
   "cell_type": "code",
   "source": [
    "print(ac)"
   ],
   "metadata": {
    "colab": {
     "base_uri": "https://localhost:8080/"
    },
    "id": "DU8v_8IGKatR",
    "outputId": "72934e71-ead4-4da0-e0bd-a09518142159"
   },
   "execution_count": null,
   "outputs": [
    {
     "output_type": "stream",
     "name": "stdout",
     "text": [
      "0.775\n"
     ]
    }
   ]
  },
  {
   "cell_type": "code",
   "source": [
    "print(ps)"
   ],
   "metadata": {
    "colab": {
     "base_uri": "https://localhost:8080/"
    },
    "id": "dsgOv7k6LZRy",
    "outputId": "70302f62-8464-4e81-bb2d-930403495fca"
   },
   "execution_count": null,
   "outputs": [
    {
     "output_type": "stream",
     "name": "stdout",
     "text": [
      "0.815\n"
     ]
    }
   ]
  },
  {
   "cell_type": "code",
   "source": [
    "print(rs)"
   ],
   "metadata": {
    "colab": {
     "base_uri": "https://localhost:8080/"
    },
    "id": "f7HrrPN-LaIV",
    "outputId": "4da44030-263d-47b2-967e-418e148170ca"
   },
   "execution_count": null,
   "outputs": [
    {
     "output_type": "stream",
     "name": "stdout",
     "text": [
      "0.728\n"
     ]
    }
   ]
  },
  {
   "cell_type": "code",
   "source": [
    "print(fs)"
   ],
   "metadata": {
    "colab": {
     "base_uri": "https://localhost:8080/"
    },
    "id": "-bfaHGaYLapK",
    "outputId": "f3b7cc90-4558-4438-ee85-56d1a52ace8c"
   },
   "execution_count": null,
   "outputs": [
    {
     "output_type": "stream",
     "name": "stdout",
     "text": [
      "0.769\n"
     ]
    }
   ]
  },
  {
   "cell_type": "code",
   "source": [
    "performance = np.concatenate((performance, [[model, ac, ps, rs, fs]]))"
   ],
   "metadata": {
    "id": "tMp9xxEWOPN_"
   },
   "execution_count": null,
   "outputs": []
  },
  {
   "cell_type": "code",
   "source": [
    "print(performance)"
   ],
   "metadata": {
    "colab": {
     "base_uri": "https://localhost:8080/"
    },
    "id": "Wn9wnTgJS-2b",
    "outputId": "3d6088ab-bf31-4387-d089-5e56fa60bcd1"
   },
   "execution_count": null,
   "outputs": [
    {
     "output_type": "stream",
     "name": "stdout",
     "text": [
      "[['Model' 'Accuracy' 'Precision' 'Recall' 'F1 Score']\n",
      " ['Logistic Regression' '0.775' '0.815' '0.728' '0.769']]\n"
     ]
    }
   ]
  },
  {
   "cell_type": "markdown",
   "source": [
    "## Training the K-Nearest Neighbors model on the Training set"
   ],
   "metadata": {
    "id": "_RQ2bwVwTW2-"
   }
  },
  {
   "cell_type": "code",
   "source": [
    "from sklearn.neighbors import KNeighborsClassifier\n",
    "classifier = KNeighborsClassifier(n_neighbors = 5, metric = 'minkowski', p = 2)\n",
    "classifier.fit(X_train, y_train)"
   ],
   "metadata": {
    "colab": {
     "base_uri": "https://localhost:8080/",
     "height": 74
    },
    "outputId": "0f0e4480-9f2d-4eb4-c721-583fa4e437ed",
    "id": "GvUv7QenTW2_"
   },
   "execution_count": null,
   "outputs": [
    {
     "output_type": "execute_result",
     "data": {
      "text/plain": [
       "KNeighborsClassifier()"
      ],
      "text/html": [
       "<style>#sk-container-id-54 {color: black;background-color: white;}#sk-container-id-54 pre{padding: 0;}#sk-container-id-54 div.sk-toggleable {background-color: white;}#sk-container-id-54 label.sk-toggleable__label {cursor: pointer;display: block;width: 100%;margin-bottom: 0;padding: 0.3em;box-sizing: border-box;text-align: center;}#sk-container-id-54 label.sk-toggleable__label-arrow:before {content: \"▸\";float: left;margin-right: 0.25em;color: #696969;}#sk-container-id-54 label.sk-toggleable__label-arrow:hover:before {color: black;}#sk-container-id-54 div.sk-estimator:hover label.sk-toggleable__label-arrow:before {color: black;}#sk-container-id-54 div.sk-toggleable__content {max-height: 0;max-width: 0;overflow: hidden;text-align: left;background-color: #f0f8ff;}#sk-container-id-54 div.sk-toggleable__content pre {margin: 0.2em;color: black;border-radius: 0.25em;background-color: #f0f8ff;}#sk-container-id-54 input.sk-toggleable__control:checked~div.sk-toggleable__content {max-height: 200px;max-width: 100%;overflow: auto;}#sk-container-id-54 input.sk-toggleable__control:checked~label.sk-toggleable__label-arrow:before {content: \"▾\";}#sk-container-id-54 div.sk-estimator input.sk-toggleable__control:checked~label.sk-toggleable__label {background-color: #d4ebff;}#sk-container-id-54 div.sk-label input.sk-toggleable__control:checked~label.sk-toggleable__label {background-color: #d4ebff;}#sk-container-id-54 input.sk-hidden--visually {border: 0;clip: rect(1px 1px 1px 1px);clip: rect(1px, 1px, 1px, 1px);height: 1px;margin: -1px;overflow: hidden;padding: 0;position: absolute;width: 1px;}#sk-container-id-54 div.sk-estimator {font-family: monospace;background-color: #f0f8ff;border: 1px dotted black;border-radius: 0.25em;box-sizing: border-box;margin-bottom: 0.5em;}#sk-container-id-54 div.sk-estimator:hover {background-color: #d4ebff;}#sk-container-id-54 div.sk-parallel-item::after {content: \"\";width: 100%;border-bottom: 1px solid gray;flex-grow: 1;}#sk-container-id-54 div.sk-label:hover label.sk-toggleable__label {background-color: #d4ebff;}#sk-container-id-54 div.sk-serial::before {content: \"\";position: absolute;border-left: 1px solid gray;box-sizing: border-box;top: 0;bottom: 0;left: 50%;z-index: 0;}#sk-container-id-54 div.sk-serial {display: flex;flex-direction: column;align-items: center;background-color: white;padding-right: 0.2em;padding-left: 0.2em;position: relative;}#sk-container-id-54 div.sk-item {position: relative;z-index: 1;}#sk-container-id-54 div.sk-parallel {display: flex;align-items: stretch;justify-content: center;background-color: white;position: relative;}#sk-container-id-54 div.sk-item::before, #sk-container-id-54 div.sk-parallel-item::before {content: \"\";position: absolute;border-left: 1px solid gray;box-sizing: border-box;top: 0;bottom: 0;left: 50%;z-index: -1;}#sk-container-id-54 div.sk-parallel-item {display: flex;flex-direction: column;z-index: 1;position: relative;background-color: white;}#sk-container-id-54 div.sk-parallel-item:first-child::after {align-self: flex-end;width: 50%;}#sk-container-id-54 div.sk-parallel-item:last-child::after {align-self: flex-start;width: 50%;}#sk-container-id-54 div.sk-parallel-item:only-child::after {width: 0;}#sk-container-id-54 div.sk-dashed-wrapped {border: 1px dashed gray;margin: 0 0.4em 0.5em 0.4em;box-sizing: border-box;padding-bottom: 0.4em;background-color: white;}#sk-container-id-54 div.sk-label label {font-family: monospace;font-weight: bold;display: inline-block;line-height: 1.2em;}#sk-container-id-54 div.sk-label-container {text-align: center;}#sk-container-id-54 div.sk-container {/* jupyter's `normalize.less` sets `[hidden] { display: none; }` but bootstrap.min.css set `[hidden] { display: none !important; }` so we also need the `!important` here to be able to override the default hidden behavior on the sphinx rendered scikit-learn.org. See: https://github.com/scikit-learn/scikit-learn/issues/21755 */display: inline-block !important;position: relative;}#sk-container-id-54 div.sk-text-repr-fallback {display: none;}</style><div id=\"sk-container-id-54\" class=\"sk-top-container\"><div class=\"sk-text-repr-fallback\"><pre>KNeighborsClassifier()</pre><b>In a Jupyter environment, please rerun this cell to show the HTML representation or trust the notebook. <br />On GitHub, the HTML representation is unable to render, please try loading this page with nbviewer.org.</b></div><div class=\"sk-container\" hidden><div class=\"sk-item\"><div class=\"sk-estimator sk-toggleable\"><input class=\"sk-toggleable__control sk-hidden--visually\" id=\"sk-estimator-id-54\" type=\"checkbox\" checked><label for=\"sk-estimator-id-54\" class=\"sk-toggleable__label sk-toggleable__label-arrow\">KNeighborsClassifier</label><div class=\"sk-toggleable__content\"><pre>KNeighborsClassifier()</pre></div></div></div></div></div>"
      ]
     },
     "metadata": {},
     "execution_count": 898
    }
   ]
  },
  {
   "cell_type": "markdown",
   "source": [
    "### Predicting the Test set results"
   ],
   "metadata": {
    "id": "Db5M3Rq_TW3A"
   }
  },
  {
   "cell_type": "code",
   "source": [
    "y_pred = classifier.predict(X_test)\n",
    "prediction = np.concatenate((y_pred.reshape(len(y_pred), 1), y_test.reshape(len(y_test), 1)), 1)"
   ],
   "metadata": {
    "id": "5hdgwnOCTW3A"
   },
   "execution_count": null,
   "outputs": []
  },
  {
   "cell_type": "code",
   "source": [
    "print(prediction)"
   ],
   "metadata": {
    "colab": {
     "base_uri": "https://localhost:8080/"
    },
    "outputId": "e7e504e6-8ff6-49ef-8ee0-915ba6a1336c",
    "id": "iHrNUjGhTW3B"
   },
   "execution_count": null,
   "outputs": [
    {
     "output_type": "stream",
     "name": "stdout",
     "text": [
      "[[0 0]\n",
      " [1 0]\n",
      " [1 0]\n",
      " [0 0]\n",
      " [1 0]\n",
      " [1 0]\n",
      " [1 1]\n",
      " [0 0]\n",
      " [0 0]\n",
      " [1 1]\n",
      " [0 1]\n",
      " [1 1]\n",
      " [1 0]\n",
      " [0 1]\n",
      " [0 1]\n",
      " [1 1]\n",
      " [0 0]\n",
      " [0 0]\n",
      " [0 0]\n",
      " [0 1]\n",
      " [0 0]\n",
      " [1 1]\n",
      " [1 1]\n",
      " [1 0]\n",
      " [0 0]\n",
      " [1 1]\n",
      " [0 1]\n",
      " [1 1]\n",
      " [1 1]\n",
      " [0 0]\n",
      " [1 1]\n",
      " [0 1]\n",
      " [1 1]\n",
      " [0 1]\n",
      " [0 1]\n",
      " [1 0]\n",
      " [0 0]\n",
      " [0 0]\n",
      " [0 0]\n",
      " [1 1]\n",
      " [1 1]\n",
      " [1 0]\n",
      " [1 1]\n",
      " [0 0]\n",
      " [0 0]\n",
      " [1 0]\n",
      " [1 0]\n",
      " [1 0]\n",
      " [1 0]\n",
      " [0 0]\n",
      " [0 1]\n",
      " [0 1]\n",
      " [1 1]\n",
      " [0 1]\n",
      " [1 0]\n",
      " [0 0]\n",
      " [0 1]\n",
      " [0 1]\n",
      " [0 0]\n",
      " [1 1]\n",
      " [0 0]\n",
      " [1 0]\n",
      " [1 0]\n",
      " [1 0]\n",
      " [0 1]\n",
      " [1 0]\n",
      " [0 1]\n",
      " [1 1]\n",
      " [0 1]\n",
      " [0 0]\n",
      " [1 1]\n",
      " [1 1]\n",
      " [1 1]\n",
      " [1 1]\n",
      " [0 0]\n",
      " [0 0]\n",
      " [0 1]\n",
      " [1 1]\n",
      " [0 0]\n",
      " [1 1]\n",
      " [0 0]\n",
      " [1 1]\n",
      " [0 1]\n",
      " [0 0]\n",
      " [1 1]\n",
      " [1 1]\n",
      " [0 0]\n",
      " [1 0]\n",
      " [1 1]\n",
      " [1 0]\n",
      " [0 0]\n",
      " [0 1]\n",
      " [1 0]\n",
      " [0 0]\n",
      " [0 0]\n",
      " [1 1]\n",
      " [0 0]\n",
      " [0 1]\n",
      " [0 1]\n",
      " [1 0]\n",
      " [1 1]\n",
      " [0 1]\n",
      " [1 1]\n",
      " [1 0]\n",
      " [0 1]\n",
      " [0 0]\n",
      " [0 1]\n",
      " [1 1]\n",
      " [0 0]\n",
      " [1 1]\n",
      " [0 1]\n",
      " [1 1]\n",
      " [0 0]\n",
      " [0 0]\n",
      " [0 1]\n",
      " [1 0]\n",
      " [1 1]\n",
      " [0 1]\n",
      " [1 1]\n",
      " [1 1]\n",
      " [0 1]\n",
      " [0 0]\n",
      " [1 1]\n",
      " [0 0]\n",
      " [0 0]\n",
      " [0 0]\n",
      " [1 1]\n",
      " [0 0]\n",
      " [0 0]\n",
      " [0 1]\n",
      " [0 0]\n",
      " [1 1]\n",
      " [0 0]\n",
      " [0 0]\n",
      " [0 1]\n",
      " [1 1]\n",
      " [1 1]\n",
      " [1 1]\n",
      " [0 1]\n",
      " [0 0]\n",
      " [1 1]\n",
      " [1 1]\n",
      " [1 1]\n",
      " [0 0]\n",
      " [0 0]\n",
      " [1 0]\n",
      " [0 0]\n",
      " [0 1]\n",
      " [1 1]\n",
      " [1 1]\n",
      " [0 1]\n",
      " [0 1]\n",
      " [1 1]\n",
      " [1 1]\n",
      " [0 0]\n",
      " [0 0]\n",
      " [1 1]\n",
      " [0 1]\n",
      " [1 1]\n",
      " [0 0]\n",
      " [1 0]\n",
      " [0 0]\n",
      " [1 1]\n",
      " [1 1]\n",
      " [1 0]\n",
      " [0 0]\n",
      " [0 0]\n",
      " [1 0]\n",
      " [0 0]\n",
      " [0 1]\n",
      " [1 0]\n",
      " [1 1]\n",
      " [1 1]\n",
      " [0 0]\n",
      " [1 0]\n",
      " [0 1]\n",
      " [0 0]\n",
      " [1 1]\n",
      " [0 0]\n",
      " [0 1]\n",
      " [1 1]\n",
      " [0 0]\n",
      " [0 0]\n",
      " [0 0]\n",
      " [0 0]\n",
      " [0 1]\n",
      " [0 0]\n",
      " [0 1]\n",
      " [0 0]\n",
      " [0 1]\n",
      " [1 1]\n",
      " [0 0]\n",
      " [0 0]\n",
      " [0 0]\n",
      " [1 1]\n",
      " [0 0]\n",
      " [1 1]\n",
      " [1 1]\n",
      " [0 0]\n",
      " [0 1]]\n"
     ]
    }
   ]
  },
  {
   "cell_type": "markdown",
   "source": [
    "### Evaluating Performance"
   ],
   "metadata": {
    "id": "SN8RRaFRTW3B"
   }
  },
  {
   "cell_type": "code",
   "source": [
    "model = 'K-NN'\n",
    "cm = confusion_matrix(y_test, y_pred)\n",
    "ac = round(accuracy_score(y_test, y_pred), 3)\n",
    "ps = round(precision_score(y_test, y_pred), 3)\n",
    "rs = round(recall_score(y_test, y_pred), 3)\n",
    "fs = round(f1_score(y_test, y_pred), 3)"
   ],
   "metadata": {
    "id": "b0Y5IZ8aTW3C"
   },
   "execution_count": null,
   "outputs": []
  },
  {
   "cell_type": "code",
   "source": [
    "print(cm)"
   ],
   "metadata": {
    "colab": {
     "base_uri": "https://localhost:8080/"
    },
    "outputId": "599b3695-08d4-440c-b0a9-9549d350ccc6",
    "id": "4nWY_HchTW3C"
   },
   "execution_count": null,
   "outputs": [
    {
     "output_type": "stream",
     "name": "stdout",
     "text": [
      "[[68 29]\n",
      " [42 61]]\n"
     ]
    }
   ]
  },
  {
   "cell_type": "code",
   "source": [
    "print(ac)"
   ],
   "metadata": {
    "colab": {
     "base_uri": "https://localhost:8080/"
    },
    "outputId": "84b125f8-fd43-40bc-b930-d99a435de2b4",
    "id": "y3GB0fBHTW3D"
   },
   "execution_count": null,
   "outputs": [
    {
     "output_type": "stream",
     "name": "stdout",
     "text": [
      "0.645\n"
     ]
    }
   ]
  },
  {
   "cell_type": "code",
   "source": [
    "print(ps)"
   ],
   "metadata": {
    "colab": {
     "base_uri": "https://localhost:8080/"
    },
    "outputId": "2b3d6cd6-0e5f-431e-b7e2-5816e09ad6c3",
    "id": "rFsGqewYTW3D"
   },
   "execution_count": null,
   "outputs": [
    {
     "output_type": "stream",
     "name": "stdout",
     "text": [
      "0.678\n"
     ]
    }
   ]
  },
  {
   "cell_type": "code",
   "source": [
    "print(rs)"
   ],
   "metadata": {
    "colab": {
     "base_uri": "https://localhost:8080/"
    },
    "outputId": "6d67df06-7d62-467a-8daf-ee9b4c9715d6",
    "id": "XhcNcWwYTW3E"
   },
   "execution_count": null,
   "outputs": [
    {
     "output_type": "stream",
     "name": "stdout",
     "text": [
      "0.592\n"
     ]
    }
   ]
  },
  {
   "cell_type": "code",
   "source": [
    "print(fs)"
   ],
   "metadata": {
    "colab": {
     "base_uri": "https://localhost:8080/"
    },
    "outputId": "652f57eb-c861-424b-aa13-69579c12d840",
    "id": "0q6a5A84TW3E"
   },
   "execution_count": null,
   "outputs": [
    {
     "output_type": "stream",
     "name": "stdout",
     "text": [
      "0.632\n"
     ]
    }
   ]
  },
  {
   "cell_type": "code",
   "source": [
    "performance = np.concatenate((performance, [[model, ac, ps, rs, fs]]))"
   ],
   "metadata": {
    "id": "r4N_-L0MTW3F"
   },
   "execution_count": null,
   "outputs": []
  },
  {
   "cell_type": "code",
   "source": [
    "print(performance)"
   ],
   "metadata": {
    "colab": {
     "base_uri": "https://localhost:8080/"
    },
    "id": "10TfU-yJTW3F",
    "outputId": "2f4974a0-98e0-4038-b3e9-048963f05eec"
   },
   "execution_count": null,
   "outputs": [
    {
     "output_type": "stream",
     "name": "stdout",
     "text": [
      "[['Model' 'Accuracy' 'Precision' 'Recall' 'F1 Score']\n",
      " ['Logistic Regression' '0.775' '0.815' '0.728' '0.769']\n",
      " ['K-NN' '0.645' '0.678' '0.592' '0.632']]\n"
     ]
    }
   ]
  },
  {
   "cell_type": "markdown",
   "source": [
    "## Training the Support Vector Machine model on the Training set"
   ],
   "metadata": {
    "id": "nMn8lA7sTX1G"
   }
  },
  {
   "cell_type": "code",
   "source": [
    "from sklearn.svm import SVC\n",
    "classifier = SVC(kernel = 'linear', random_state = 0)\n",
    "classifier.fit(X_train, y_train)"
   ],
   "metadata": {
    "colab": {
     "base_uri": "https://localhost:8080/",
     "height": 74
    },
    "outputId": "be67d58c-d3db-462f-80ac-e6c191ec07be",
    "id": "3G8BLBVdTX1H"
   },
   "execution_count": null,
   "outputs": [
    {
     "output_type": "execute_result",
     "data": {
      "text/plain": [
       "SVC(kernel='linear', random_state=0)"
      ],
      "text/html": [
       "<style>#sk-container-id-55 {color: black;background-color: white;}#sk-container-id-55 pre{padding: 0;}#sk-container-id-55 div.sk-toggleable {background-color: white;}#sk-container-id-55 label.sk-toggleable__label {cursor: pointer;display: block;width: 100%;margin-bottom: 0;padding: 0.3em;box-sizing: border-box;text-align: center;}#sk-container-id-55 label.sk-toggleable__label-arrow:before {content: \"▸\";float: left;margin-right: 0.25em;color: #696969;}#sk-container-id-55 label.sk-toggleable__label-arrow:hover:before {color: black;}#sk-container-id-55 div.sk-estimator:hover label.sk-toggleable__label-arrow:before {color: black;}#sk-container-id-55 div.sk-toggleable__content {max-height: 0;max-width: 0;overflow: hidden;text-align: left;background-color: #f0f8ff;}#sk-container-id-55 div.sk-toggleable__content pre {margin: 0.2em;color: black;border-radius: 0.25em;background-color: #f0f8ff;}#sk-container-id-55 input.sk-toggleable__control:checked~div.sk-toggleable__content {max-height: 200px;max-width: 100%;overflow: auto;}#sk-container-id-55 input.sk-toggleable__control:checked~label.sk-toggleable__label-arrow:before {content: \"▾\";}#sk-container-id-55 div.sk-estimator input.sk-toggleable__control:checked~label.sk-toggleable__label {background-color: #d4ebff;}#sk-container-id-55 div.sk-label input.sk-toggleable__control:checked~label.sk-toggleable__label {background-color: #d4ebff;}#sk-container-id-55 input.sk-hidden--visually {border: 0;clip: rect(1px 1px 1px 1px);clip: rect(1px, 1px, 1px, 1px);height: 1px;margin: -1px;overflow: hidden;padding: 0;position: absolute;width: 1px;}#sk-container-id-55 div.sk-estimator {font-family: monospace;background-color: #f0f8ff;border: 1px dotted black;border-radius: 0.25em;box-sizing: border-box;margin-bottom: 0.5em;}#sk-container-id-55 div.sk-estimator:hover {background-color: #d4ebff;}#sk-container-id-55 div.sk-parallel-item::after {content: \"\";width: 100%;border-bottom: 1px solid gray;flex-grow: 1;}#sk-container-id-55 div.sk-label:hover label.sk-toggleable__label {background-color: #d4ebff;}#sk-container-id-55 div.sk-serial::before {content: \"\";position: absolute;border-left: 1px solid gray;box-sizing: border-box;top: 0;bottom: 0;left: 50%;z-index: 0;}#sk-container-id-55 div.sk-serial {display: flex;flex-direction: column;align-items: center;background-color: white;padding-right: 0.2em;padding-left: 0.2em;position: relative;}#sk-container-id-55 div.sk-item {position: relative;z-index: 1;}#sk-container-id-55 div.sk-parallel {display: flex;align-items: stretch;justify-content: center;background-color: white;position: relative;}#sk-container-id-55 div.sk-item::before, #sk-container-id-55 div.sk-parallel-item::before {content: \"\";position: absolute;border-left: 1px solid gray;box-sizing: border-box;top: 0;bottom: 0;left: 50%;z-index: -1;}#sk-container-id-55 div.sk-parallel-item {display: flex;flex-direction: column;z-index: 1;position: relative;background-color: white;}#sk-container-id-55 div.sk-parallel-item:first-child::after {align-self: flex-end;width: 50%;}#sk-container-id-55 div.sk-parallel-item:last-child::after {align-self: flex-start;width: 50%;}#sk-container-id-55 div.sk-parallel-item:only-child::after {width: 0;}#sk-container-id-55 div.sk-dashed-wrapped {border: 1px dashed gray;margin: 0 0.4em 0.5em 0.4em;box-sizing: border-box;padding-bottom: 0.4em;background-color: white;}#sk-container-id-55 div.sk-label label {font-family: monospace;font-weight: bold;display: inline-block;line-height: 1.2em;}#sk-container-id-55 div.sk-label-container {text-align: center;}#sk-container-id-55 div.sk-container {/* jupyter's `normalize.less` sets `[hidden] { display: none; }` but bootstrap.min.css set `[hidden] { display: none !important; }` so we also need the `!important` here to be able to override the default hidden behavior on the sphinx rendered scikit-learn.org. See: https://github.com/scikit-learn/scikit-learn/issues/21755 */display: inline-block !important;position: relative;}#sk-container-id-55 div.sk-text-repr-fallback {display: none;}</style><div id=\"sk-container-id-55\" class=\"sk-top-container\"><div class=\"sk-text-repr-fallback\"><pre>SVC(kernel=&#x27;linear&#x27;, random_state=0)</pre><b>In a Jupyter environment, please rerun this cell to show the HTML representation or trust the notebook. <br />On GitHub, the HTML representation is unable to render, please try loading this page with nbviewer.org.</b></div><div class=\"sk-container\" hidden><div class=\"sk-item\"><div class=\"sk-estimator sk-toggleable\"><input class=\"sk-toggleable__control sk-hidden--visually\" id=\"sk-estimator-id-55\" type=\"checkbox\" checked><label for=\"sk-estimator-id-55\" class=\"sk-toggleable__label sk-toggleable__label-arrow\">SVC</label><div class=\"sk-toggleable__content\"><pre>SVC(kernel=&#x27;linear&#x27;, random_state=0)</pre></div></div></div></div></div>"
      ]
     },
     "metadata": {},
     "execution_count": 909
    }
   ]
  },
  {
   "cell_type": "markdown",
   "source": [
    "### Predicting the Test set results"
   ],
   "metadata": {
    "id": "OzaUL10dTX1I"
   }
  },
  {
   "cell_type": "code",
   "source": [
    "y_pred = classifier.predict(X_test)\n",
    "prediction = np.concatenate((y_pred.reshape(len(y_pred), 1), y_test.reshape(len(y_test), 1)), 1)"
   ],
   "metadata": {
    "id": "k6fv8HWNTX1J"
   },
   "execution_count": null,
   "outputs": []
  },
  {
   "cell_type": "code",
   "source": [
    "print(prediction)"
   ],
   "metadata": {
    "colab": {
     "base_uri": "https://localhost:8080/"
    },
    "outputId": "b82b1de1-7c37-4e09-a79c-6805b065ff1d",
    "id": "QAzBDhjzTX1J"
   },
   "execution_count": null,
   "outputs": [
    {
     "output_type": "stream",
     "name": "stdout",
     "text": [
      "[[0 0]\n",
      " [0 0]\n",
      " [0 0]\n",
      " [0 0]\n",
      " [0 0]\n",
      " [0 0]\n",
      " [1 1]\n",
      " [0 0]\n",
      " [0 0]\n",
      " [1 1]\n",
      " [1 1]\n",
      " [1 1]\n",
      " [1 0]\n",
      " [1 1]\n",
      " [1 1]\n",
      " [1 1]\n",
      " [0 0]\n",
      " [0 0]\n",
      " [0 0]\n",
      " [1 1]\n",
      " [1 0]\n",
      " [1 1]\n",
      " [1 1]\n",
      " [1 0]\n",
      " [1 0]\n",
      " [1 1]\n",
      " [0 1]\n",
      " [1 1]\n",
      " [1 1]\n",
      " [0 0]\n",
      " [1 1]\n",
      " [0 1]\n",
      " [0 1]\n",
      " [0 1]\n",
      " [1 1]\n",
      " [0 0]\n",
      " [0 0]\n",
      " [0 0]\n",
      " [0 0]\n",
      " [1 1]\n",
      " [1 1]\n",
      " [1 0]\n",
      " [1 1]\n",
      " [0 0]\n",
      " [0 0]\n",
      " [0 0]\n",
      " [1 0]\n",
      " [1 0]\n",
      " [1 0]\n",
      " [0 0]\n",
      " [1 1]\n",
      " [1 1]\n",
      " [1 1]\n",
      " [1 1]\n",
      " [0 0]\n",
      " [0 0]\n",
      " [0 1]\n",
      " [0 1]\n",
      " [0 0]\n",
      " [1 1]\n",
      " [0 0]\n",
      " [0 0]\n",
      " [0 0]\n",
      " [1 0]\n",
      " [1 1]\n",
      " [0 0]\n",
      " [1 1]\n",
      " [0 1]\n",
      " [0 1]\n",
      " [0 0]\n",
      " [1 1]\n",
      " [1 1]\n",
      " [0 1]\n",
      " [1 1]\n",
      " [0 0]\n",
      " [1 0]\n",
      " [1 1]\n",
      " [1 1]\n",
      " [0 0]\n",
      " [1 1]\n",
      " [0 0]\n",
      " [1 1]\n",
      " [1 1]\n",
      " [0 0]\n",
      " [1 1]\n",
      " [1 1]\n",
      " [1 0]\n",
      " [0 0]\n",
      " [1 1]\n",
      " [1 0]\n",
      " [0 0]\n",
      " [1 1]\n",
      " [0 0]\n",
      " [0 0]\n",
      " [0 0]\n",
      " [0 1]\n",
      " [0 0]\n",
      " [0 1]\n",
      " [0 1]\n",
      " [1 0]\n",
      " [0 1]\n",
      " [1 1]\n",
      " [1 1]\n",
      " [1 0]\n",
      " [1 1]\n",
      " [0 0]\n",
      " [1 1]\n",
      " [1 1]\n",
      " [0 0]\n",
      " [0 1]\n",
      " [0 1]\n",
      " [1 1]\n",
      " [0 0]\n",
      " [1 0]\n",
      " [0 1]\n",
      " [0 0]\n",
      " [1 1]\n",
      " [1 1]\n",
      " [1 1]\n",
      " [1 1]\n",
      " [1 1]\n",
      " [0 0]\n",
      " [1 1]\n",
      " [0 0]\n",
      " [0 0]\n",
      " [0 0]\n",
      " [1 1]\n",
      " [0 0]\n",
      " [0 0]\n",
      " [0 1]\n",
      " [0 0]\n",
      " [1 1]\n",
      " [0 0]\n",
      " [0 0]\n",
      " [1 1]\n",
      " [1 1]\n",
      " [1 1]\n",
      " [1 1]\n",
      " [1 1]\n",
      " [0 0]\n",
      " [0 1]\n",
      " [1 1]\n",
      " [1 1]\n",
      " [0 0]\n",
      " [0 0]\n",
      " [0 0]\n",
      " [0 0]\n",
      " [0 1]\n",
      " [0 1]\n",
      " [1 1]\n",
      " [0 1]\n",
      " [1 1]\n",
      " [1 1]\n",
      " [1 1]\n",
      " [1 0]\n",
      " [0 0]\n",
      " [1 1]\n",
      " [1 1]\n",
      " [1 1]\n",
      " [0 0]\n",
      " [0 0]\n",
      " [0 0]\n",
      " [1 1]\n",
      " [1 1]\n",
      " [1 0]\n",
      " [0 0]\n",
      " [0 0]\n",
      " [0 0]\n",
      " [0 0]\n",
      " [0 1]\n",
      " [0 0]\n",
      " [1 1]\n",
      " [1 1]\n",
      " [0 0]\n",
      " [0 0]\n",
      " [0 1]\n",
      " [0 0]\n",
      " [1 1]\n",
      " [0 0]\n",
      " [0 1]\n",
      " [1 1]\n",
      " [1 0]\n",
      " [0 0]\n",
      " [0 0]\n",
      " [0 0]\n",
      " [1 1]\n",
      " [0 0]\n",
      " [1 1]\n",
      " [0 0]\n",
      " [1 1]\n",
      " [1 1]\n",
      " [0 0]\n",
      " [0 0]\n",
      " [0 0]\n",
      " [1 1]\n",
      " [0 0]\n",
      " [1 1]\n",
      " [1 1]\n",
      " [0 0]\n",
      " [1 1]]\n"
     ]
    }
   ]
  },
  {
   "cell_type": "markdown",
   "source": [
    "### Evaluating Performance"
   ],
   "metadata": {
    "id": "mBY2FRo4TX1J"
   }
  },
  {
   "cell_type": "code",
   "source": [
    "model = 'SVM'\n",
    "cm = confusion_matrix(y_test, y_pred)\n",
    "ac = round(accuracy_score(y_test, y_pred), 3)\n",
    "ps = round(precision_score(y_test, y_pred), 3)\n",
    "rs = round(recall_score(y_test, y_pred), 3)\n",
    "fs = round(f1_score(y_test, y_pred), 3)"
   ],
   "metadata": {
    "id": "aCjv_MmfTX1K"
   },
   "execution_count": null,
   "outputs": []
  },
  {
   "cell_type": "code",
   "source": [
    "print(cm)"
   ],
   "metadata": {
    "colab": {
     "base_uri": "https://localhost:8080/"
    },
    "outputId": "88084ddb-31c3-4b84-fd1b-d534209f5512",
    "id": "bCrbaxxXTX1K"
   },
   "execution_count": null,
   "outputs": [
    {
     "output_type": "stream",
     "name": "stdout",
     "text": [
      "[[79 18]\n",
      " [24 79]]\n"
     ]
    }
   ]
  },
  {
   "cell_type": "code",
   "source": [
    "print(ac)"
   ],
   "metadata": {
    "colab": {
     "base_uri": "https://localhost:8080/"
    },
    "outputId": "583bc39a-cae3-4976-f0de-01be2d03a8d8",
    "id": "-dPPfSk8TX1L"
   },
   "execution_count": null,
   "outputs": [
    {
     "output_type": "stream",
     "name": "stdout",
     "text": [
      "0.79\n"
     ]
    }
   ]
  },
  {
   "cell_type": "code",
   "source": [
    "print(ps)"
   ],
   "metadata": {
    "colab": {
     "base_uri": "https://localhost:8080/"
    },
    "outputId": "83dddc5d-16f4-46e0-dd97-cbb655567468",
    "id": "Fcy81s9mTX1L"
   },
   "execution_count": null,
   "outputs": [
    {
     "output_type": "stream",
     "name": "stdout",
     "text": [
      "0.814\n"
     ]
    }
   ]
  },
  {
   "cell_type": "code",
   "source": [
    "print(rs)"
   ],
   "metadata": {
    "colab": {
     "base_uri": "https://localhost:8080/"
    },
    "outputId": "962df740-b568-461c-d0fc-00befbaf37c1",
    "id": "1c_q-2G4TX1M"
   },
   "execution_count": null,
   "outputs": [
    {
     "output_type": "stream",
     "name": "stdout",
     "text": [
      "0.767\n"
     ]
    }
   ]
  },
  {
   "cell_type": "code",
   "source": [
    "print(fs)"
   ],
   "metadata": {
    "colab": {
     "base_uri": "https://localhost:8080/"
    },
    "outputId": "d3c86de9-d2f1-4dcf-ed27-c6bb45923caa",
    "id": "Q1Fnojt-TX1M"
   },
   "execution_count": null,
   "outputs": [
    {
     "output_type": "stream",
     "name": "stdout",
     "text": [
      "0.79\n"
     ]
    }
   ]
  },
  {
   "cell_type": "code",
   "source": [
    "performance = np.concatenate((performance, [[model, ac, ps, rs, fs]]))"
   ],
   "metadata": {
    "id": "ZwDcw9XxTX1N"
   },
   "execution_count": null,
   "outputs": []
  },
  {
   "cell_type": "code",
   "source": [
    "print(performance)"
   ],
   "metadata": {
    "colab": {
     "base_uri": "https://localhost:8080/"
    },
    "id": "6LwcpxPmTX1N",
    "outputId": "82c40865-7f73-4b7e-dc73-7090c8cfe14a"
   },
   "execution_count": null,
   "outputs": [
    {
     "output_type": "stream",
     "name": "stdout",
     "text": [
      "[['Model' 'Accuracy' 'Precision' 'Recall' 'F1 Score']\n",
      " ['Logistic Regression' '0.775' '0.815' '0.728' '0.769']\n",
      " ['K-NN' '0.645' '0.678' '0.592' '0.632']\n",
      " ['SVM' '0.79' '0.814' '0.767' '0.79']]\n"
     ]
    }
   ]
  },
  {
   "cell_type": "markdown",
   "source": [
    "## Training the Kernel SVM model on the Training set"
   ],
   "metadata": {
    "id": "eZIwlgoJTYpz"
   }
  },
  {
   "cell_type": "code",
   "source": [
    "from sklearn.svm import SVC\n",
    "classifier = SVC(kernel = 'rbf', random_state = 0)\n",
    "classifier.fit(X_train, y_train)"
   ],
   "metadata": {
    "colab": {
     "base_uri": "https://localhost:8080/",
     "height": 74
    },
    "outputId": "8d713c7c-6284-4046-a552-0e1c2ef73ae1",
    "id": "-U3bVKq8TYp0"
   },
   "execution_count": null,
   "outputs": [
    {
     "output_type": "execute_result",
     "data": {
      "text/plain": [
       "SVC(random_state=0)"
      ],
      "text/html": [
       "<style>#sk-container-id-56 {color: black;background-color: white;}#sk-container-id-56 pre{padding: 0;}#sk-container-id-56 div.sk-toggleable {background-color: white;}#sk-container-id-56 label.sk-toggleable__label {cursor: pointer;display: block;width: 100%;margin-bottom: 0;padding: 0.3em;box-sizing: border-box;text-align: center;}#sk-container-id-56 label.sk-toggleable__label-arrow:before {content: \"▸\";float: left;margin-right: 0.25em;color: #696969;}#sk-container-id-56 label.sk-toggleable__label-arrow:hover:before {color: black;}#sk-container-id-56 div.sk-estimator:hover label.sk-toggleable__label-arrow:before {color: black;}#sk-container-id-56 div.sk-toggleable__content {max-height: 0;max-width: 0;overflow: hidden;text-align: left;background-color: #f0f8ff;}#sk-container-id-56 div.sk-toggleable__content pre {margin: 0.2em;color: black;border-radius: 0.25em;background-color: #f0f8ff;}#sk-container-id-56 input.sk-toggleable__control:checked~div.sk-toggleable__content {max-height: 200px;max-width: 100%;overflow: auto;}#sk-container-id-56 input.sk-toggleable__control:checked~label.sk-toggleable__label-arrow:before {content: \"▾\";}#sk-container-id-56 div.sk-estimator input.sk-toggleable__control:checked~label.sk-toggleable__label {background-color: #d4ebff;}#sk-container-id-56 div.sk-label input.sk-toggleable__control:checked~label.sk-toggleable__label {background-color: #d4ebff;}#sk-container-id-56 input.sk-hidden--visually {border: 0;clip: rect(1px 1px 1px 1px);clip: rect(1px, 1px, 1px, 1px);height: 1px;margin: -1px;overflow: hidden;padding: 0;position: absolute;width: 1px;}#sk-container-id-56 div.sk-estimator {font-family: monospace;background-color: #f0f8ff;border: 1px dotted black;border-radius: 0.25em;box-sizing: border-box;margin-bottom: 0.5em;}#sk-container-id-56 div.sk-estimator:hover {background-color: #d4ebff;}#sk-container-id-56 div.sk-parallel-item::after {content: \"\";width: 100%;border-bottom: 1px solid gray;flex-grow: 1;}#sk-container-id-56 div.sk-label:hover label.sk-toggleable__label {background-color: #d4ebff;}#sk-container-id-56 div.sk-serial::before {content: \"\";position: absolute;border-left: 1px solid gray;box-sizing: border-box;top: 0;bottom: 0;left: 50%;z-index: 0;}#sk-container-id-56 div.sk-serial {display: flex;flex-direction: column;align-items: center;background-color: white;padding-right: 0.2em;padding-left: 0.2em;position: relative;}#sk-container-id-56 div.sk-item {position: relative;z-index: 1;}#sk-container-id-56 div.sk-parallel {display: flex;align-items: stretch;justify-content: center;background-color: white;position: relative;}#sk-container-id-56 div.sk-item::before, #sk-container-id-56 div.sk-parallel-item::before {content: \"\";position: absolute;border-left: 1px solid gray;box-sizing: border-box;top: 0;bottom: 0;left: 50%;z-index: -1;}#sk-container-id-56 div.sk-parallel-item {display: flex;flex-direction: column;z-index: 1;position: relative;background-color: white;}#sk-container-id-56 div.sk-parallel-item:first-child::after {align-self: flex-end;width: 50%;}#sk-container-id-56 div.sk-parallel-item:last-child::after {align-self: flex-start;width: 50%;}#sk-container-id-56 div.sk-parallel-item:only-child::after {width: 0;}#sk-container-id-56 div.sk-dashed-wrapped {border: 1px dashed gray;margin: 0 0.4em 0.5em 0.4em;box-sizing: border-box;padding-bottom: 0.4em;background-color: white;}#sk-container-id-56 div.sk-label label {font-family: monospace;font-weight: bold;display: inline-block;line-height: 1.2em;}#sk-container-id-56 div.sk-label-container {text-align: center;}#sk-container-id-56 div.sk-container {/* jupyter's `normalize.less` sets `[hidden] { display: none; }` but bootstrap.min.css set `[hidden] { display: none !important; }` so we also need the `!important` here to be able to override the default hidden behavior on the sphinx rendered scikit-learn.org. See: https://github.com/scikit-learn/scikit-learn/issues/21755 */display: inline-block !important;position: relative;}#sk-container-id-56 div.sk-text-repr-fallback {display: none;}</style><div id=\"sk-container-id-56\" class=\"sk-top-container\"><div class=\"sk-text-repr-fallback\"><pre>SVC(random_state=0)</pre><b>In a Jupyter environment, please rerun this cell to show the HTML representation or trust the notebook. <br />On GitHub, the HTML representation is unable to render, please try loading this page with nbviewer.org.</b></div><div class=\"sk-container\" hidden><div class=\"sk-item\"><div class=\"sk-estimator sk-toggleable\"><input class=\"sk-toggleable__control sk-hidden--visually\" id=\"sk-estimator-id-56\" type=\"checkbox\" checked><label for=\"sk-estimator-id-56\" class=\"sk-toggleable__label sk-toggleable__label-arrow\">SVC</label><div class=\"sk-toggleable__content\"><pre>SVC(random_state=0)</pre></div></div></div></div></div>"
      ]
     },
     "metadata": {},
     "execution_count": 920
    }
   ]
  },
  {
   "cell_type": "markdown",
   "source": [
    "### Predicting the Test set results"
   ],
   "metadata": {
    "id": "yHf4GLoPTYp1"
   }
  },
  {
   "cell_type": "code",
   "source": [
    "y_pred = classifier.predict(X_test)\n",
    "prediction = np.concatenate((y_pred.reshape(len(y_pred), 1), y_test.reshape(len(y_test), 1)), 1)"
   ],
   "metadata": {
    "id": "Go3z42EeTYp1"
   },
   "execution_count": null,
   "outputs": []
  },
  {
   "cell_type": "code",
   "source": [
    "print(prediction)"
   ],
   "metadata": {
    "colab": {
     "base_uri": "https://localhost:8080/"
    },
    "outputId": "4db6e8a6-d5b2-486d-ed91-86d5a7ba3dc2",
    "id": "6RuoaRuJTYp2"
   },
   "execution_count": null,
   "outputs": [
    {
     "output_type": "stream",
     "name": "stdout",
     "text": [
      "[[0 0]\n",
      " [0 0]\n",
      " [0 0]\n",
      " [0 0]\n",
      " [0 0]\n",
      " [0 0]\n",
      " [1 1]\n",
      " [0 0]\n",
      " [0 0]\n",
      " [1 1]\n",
      " [1 1]\n",
      " [1 1]\n",
      " [1 0]\n",
      " [1 1]\n",
      " [1 1]\n",
      " [1 1]\n",
      " [0 0]\n",
      " [0 0]\n",
      " [0 0]\n",
      " [1 1]\n",
      " [0 0]\n",
      " [0 1]\n",
      " [1 1]\n",
      " [0 0]\n",
      " [0 0]\n",
      " [1 1]\n",
      " [0 1]\n",
      " [1 1]\n",
      " [1 1]\n",
      " [0 0]\n",
      " [0 1]\n",
      " [0 1]\n",
      " [0 1]\n",
      " [0 1]\n",
      " [1 1]\n",
      " [0 0]\n",
      " [0 0]\n",
      " [0 0]\n",
      " [0 0]\n",
      " [1 1]\n",
      " [1 1]\n",
      " [0 0]\n",
      " [0 1]\n",
      " [0 0]\n",
      " [0 0]\n",
      " [0 0]\n",
      " [1 0]\n",
      " [1 0]\n",
      " [0 0]\n",
      " [0 0]\n",
      " [1 1]\n",
      " [0 1]\n",
      " [1 1]\n",
      " [1 1]\n",
      " [0 0]\n",
      " [0 0]\n",
      " [0 1]\n",
      " [0 1]\n",
      " [0 0]\n",
      " [1 1]\n",
      " [0 0]\n",
      " [0 0]\n",
      " [0 0]\n",
      " [1 0]\n",
      " [0 1]\n",
      " [0 0]\n",
      " [1 1]\n",
      " [0 1]\n",
      " [0 1]\n",
      " [0 0]\n",
      " [1 1]\n",
      " [1 1]\n",
      " [1 1]\n",
      " [0 1]\n",
      " [0 0]\n",
      " [0 0]\n",
      " [0 1]\n",
      " [1 1]\n",
      " [0 0]\n",
      " [1 1]\n",
      " [0 0]\n",
      " [1 1]\n",
      " [1 1]\n",
      " [0 0]\n",
      " [1 1]\n",
      " [1 1]\n",
      " [0 0]\n",
      " [0 0]\n",
      " [1 1]\n",
      " [0 0]\n",
      " [0 0]\n",
      " [1 1]\n",
      " [0 0]\n",
      " [0 0]\n",
      " [0 0]\n",
      " [0 1]\n",
      " [1 0]\n",
      " [0 1]\n",
      " [0 1]\n",
      " [0 0]\n",
      " [0 1]\n",
      " [1 1]\n",
      " [1 1]\n",
      " [1 0]\n",
      " [0 1]\n",
      " [0 0]\n",
      " [1 1]\n",
      " [1 1]\n",
      " [0 0]\n",
      " [0 1]\n",
      " [0 1]\n",
      " [1 1]\n",
      " [0 0]\n",
      " [1 0]\n",
      " [0 1]\n",
      " [0 0]\n",
      " [1 1]\n",
      " [1 1]\n",
      " [1 1]\n",
      " [1 1]\n",
      " [0 1]\n",
      " [0 0]\n",
      " [1 1]\n",
      " [0 0]\n",
      " [0 0]\n",
      " [0 0]\n",
      " [0 1]\n",
      " [0 0]\n",
      " [0 0]\n",
      " [0 1]\n",
      " [0 0]\n",
      " [1 1]\n",
      " [0 0]\n",
      " [0 0]\n",
      " [1 1]\n",
      " [1 1]\n",
      " [1 1]\n",
      " [1 1]\n",
      " [1 1]\n",
      " [0 0]\n",
      " [1 1]\n",
      " [1 1]\n",
      " [1 1]\n",
      " [0 0]\n",
      " [0 0]\n",
      " [0 0]\n",
      " [0 0]\n",
      " [0 1]\n",
      " [0 1]\n",
      " [0 1]\n",
      " [0 1]\n",
      " [0 1]\n",
      " [1 1]\n",
      " [1 1]\n",
      " [0 0]\n",
      " [0 0]\n",
      " [1 1]\n",
      " [0 1]\n",
      " [1 1]\n",
      " [0 0]\n",
      " [0 0]\n",
      " [0 0]\n",
      " [1 1]\n",
      " [1 1]\n",
      " [1 0]\n",
      " [0 0]\n",
      " [0 0]\n",
      " [0 0]\n",
      " [0 0]\n",
      " [0 1]\n",
      " [0 0]\n",
      " [1 1]\n",
      " [1 1]\n",
      " [0 0]\n",
      " [0 0]\n",
      " [0 1]\n",
      " [0 0]\n",
      " [1 1]\n",
      " [0 0]\n",
      " [1 1]\n",
      " [1 1]\n",
      " [0 0]\n",
      " [0 0]\n",
      " [0 0]\n",
      " [0 0]\n",
      " [0 1]\n",
      " [0 0]\n",
      " [1 1]\n",
      " [0 0]\n",
      " [1 1]\n",
      " [1 1]\n",
      " [0 0]\n",
      " [0 0]\n",
      " [0 0]\n",
      " [1 1]\n",
      " [0 0]\n",
      " [1 1]\n",
      " [1 1]\n",
      " [0 0]\n",
      " [0 1]]\n"
     ]
    }
   ]
  },
  {
   "cell_type": "markdown",
   "source": [
    "### Evaluating Performance"
   ],
   "metadata": {
    "id": "W3fRhTyKTYp3"
   }
  },
  {
   "cell_type": "code",
   "source": [
    "model = 'Kernel SVM'\n",
    "cm = confusion_matrix(y_test, y_pred)\n",
    "ac = round(accuracy_score(y_test, y_pred), 3)\n",
    "ps = round(precision_score(y_test, y_pred), 3)\n",
    "rs = round(recall_score(y_test, y_pred), 3)\n",
    "fs = round(f1_score(y_test, y_pred), 3)"
   ],
   "metadata": {
    "id": "jCRpF2ATTYp3"
   },
   "execution_count": null,
   "outputs": []
  },
  {
   "cell_type": "code",
   "source": [
    "print(cm)"
   ],
   "metadata": {
    "colab": {
     "base_uri": "https://localhost:8080/"
    },
    "outputId": "ba863195-9138-4a9d-9737-7049dd7f6886",
    "id": "LZADu1heTYp4"
   },
   "execution_count": null,
   "outputs": [
    {
     "output_type": "stream",
     "name": "stdout",
     "text": [
      "[[89  8]\n",
      " [36 67]]\n"
     ]
    }
   ]
  },
  {
   "cell_type": "code",
   "source": [
    "print(ac)"
   ],
   "metadata": {
    "colab": {
     "base_uri": "https://localhost:8080/"
    },
    "outputId": "4a728652-d1c7-4f91-b000-b80dc1bafd4c",
    "id": "1ygc90ChTYp4"
   },
   "execution_count": null,
   "outputs": [
    {
     "output_type": "stream",
     "name": "stdout",
     "text": [
      "0.78\n"
     ]
    }
   ]
  },
  {
   "cell_type": "code",
   "source": [
    "print(ps)"
   ],
   "metadata": {
    "colab": {
     "base_uri": "https://localhost:8080/"
    },
    "outputId": "8e8581ad-d0ed-4419-ab97-8ccb69aa418e",
    "id": "PJ1Su69TTYp5"
   },
   "execution_count": null,
   "outputs": [
    {
     "output_type": "stream",
     "name": "stdout",
     "text": [
      "0.893\n"
     ]
    }
   ]
  },
  {
   "cell_type": "code",
   "source": [
    "print(rs)"
   ],
   "metadata": {
    "colab": {
     "base_uri": "https://localhost:8080/"
    },
    "outputId": "38bae311-5ced-4aac-8583-c81d2cbf768c",
    "id": "gMGTp_J7TYp6"
   },
   "execution_count": null,
   "outputs": [
    {
     "output_type": "stream",
     "name": "stdout",
     "text": [
      "0.65\n"
     ]
    }
   ]
  },
  {
   "cell_type": "code",
   "source": [
    "print(fs)"
   ],
   "metadata": {
    "colab": {
     "base_uri": "https://localhost:8080/"
    },
    "outputId": "680128a6-aecd-42d2-ba4c-38c0b479242e",
    "id": "aeL1XTOaTYp7"
   },
   "execution_count": null,
   "outputs": [
    {
     "output_type": "stream",
     "name": "stdout",
     "text": [
      "0.753\n"
     ]
    }
   ]
  },
  {
   "cell_type": "code",
   "source": [
    "performance = np.concatenate((performance, [[model, ac, ps, rs, fs]]))"
   ],
   "metadata": {
    "id": "hWbnzC3hTYp8"
   },
   "execution_count": null,
   "outputs": []
  },
  {
   "cell_type": "code",
   "source": [
    "print(performance)"
   ],
   "metadata": {
    "colab": {
     "base_uri": "https://localhost:8080/"
    },
    "id": "G1KbbRKRTYp8",
    "outputId": "6f29f14f-f216-4216-d138-97a1b77195b0"
   },
   "execution_count": null,
   "outputs": [
    {
     "output_type": "stream",
     "name": "stdout",
     "text": [
      "[['Model' 'Accuracy' 'Precision' 'Recall' 'F1 Score']\n",
      " ['Logistic Regression' '0.775' '0.815' '0.728' '0.769']\n",
      " ['K-NN' '0.645' '0.678' '0.592' '0.632']\n",
      " ['SVM' '0.79' '0.814' '0.767' '0.79']\n",
      " ['Kernel SVM' '0.78' '0.893' '0.65' '0.753']]\n"
     ]
    }
   ]
  },
  {
   "cell_type": "markdown",
   "source": [
    "## Training the Naive Bayes model on the Training set"
   ],
   "metadata": {
    "id": "g0yWVoBMTZF0"
   }
  },
  {
   "cell_type": "code",
   "source": [
    "from sklearn.naive_bayes import GaussianNB\n",
    "classifier = GaussianNB()\n",
    "classifier.fit(X_train, y_train)"
   ],
   "metadata": {
    "colab": {
     "base_uri": "https://localhost:8080/",
     "height": 74
    },
    "outputId": "b9807ae5-d82d-4766-e00b-3d0af40f0cd4",
    "id": "YUcQfqGXTZF1"
   },
   "execution_count": null,
   "outputs": [
    {
     "output_type": "execute_result",
     "data": {
      "text/plain": [
       "GaussianNB()"
      ],
      "text/html": [
       "<style>#sk-container-id-57 {color: black;background-color: white;}#sk-container-id-57 pre{padding: 0;}#sk-container-id-57 div.sk-toggleable {background-color: white;}#sk-container-id-57 label.sk-toggleable__label {cursor: pointer;display: block;width: 100%;margin-bottom: 0;padding: 0.3em;box-sizing: border-box;text-align: center;}#sk-container-id-57 label.sk-toggleable__label-arrow:before {content: \"▸\";float: left;margin-right: 0.25em;color: #696969;}#sk-container-id-57 label.sk-toggleable__label-arrow:hover:before {color: black;}#sk-container-id-57 div.sk-estimator:hover label.sk-toggleable__label-arrow:before {color: black;}#sk-container-id-57 div.sk-toggleable__content {max-height: 0;max-width: 0;overflow: hidden;text-align: left;background-color: #f0f8ff;}#sk-container-id-57 div.sk-toggleable__content pre {margin: 0.2em;color: black;border-radius: 0.25em;background-color: #f0f8ff;}#sk-container-id-57 input.sk-toggleable__control:checked~div.sk-toggleable__content {max-height: 200px;max-width: 100%;overflow: auto;}#sk-container-id-57 input.sk-toggleable__control:checked~label.sk-toggleable__label-arrow:before {content: \"▾\";}#sk-container-id-57 div.sk-estimator input.sk-toggleable__control:checked~label.sk-toggleable__label {background-color: #d4ebff;}#sk-container-id-57 div.sk-label input.sk-toggleable__control:checked~label.sk-toggleable__label {background-color: #d4ebff;}#sk-container-id-57 input.sk-hidden--visually {border: 0;clip: rect(1px 1px 1px 1px);clip: rect(1px, 1px, 1px, 1px);height: 1px;margin: -1px;overflow: hidden;padding: 0;position: absolute;width: 1px;}#sk-container-id-57 div.sk-estimator {font-family: monospace;background-color: #f0f8ff;border: 1px dotted black;border-radius: 0.25em;box-sizing: border-box;margin-bottom: 0.5em;}#sk-container-id-57 div.sk-estimator:hover {background-color: #d4ebff;}#sk-container-id-57 div.sk-parallel-item::after {content: \"\";width: 100%;border-bottom: 1px solid gray;flex-grow: 1;}#sk-container-id-57 div.sk-label:hover label.sk-toggleable__label {background-color: #d4ebff;}#sk-container-id-57 div.sk-serial::before {content: \"\";position: absolute;border-left: 1px solid gray;box-sizing: border-box;top: 0;bottom: 0;left: 50%;z-index: 0;}#sk-container-id-57 div.sk-serial {display: flex;flex-direction: column;align-items: center;background-color: white;padding-right: 0.2em;padding-left: 0.2em;position: relative;}#sk-container-id-57 div.sk-item {position: relative;z-index: 1;}#sk-container-id-57 div.sk-parallel {display: flex;align-items: stretch;justify-content: center;background-color: white;position: relative;}#sk-container-id-57 div.sk-item::before, #sk-container-id-57 div.sk-parallel-item::before {content: \"\";position: absolute;border-left: 1px solid gray;box-sizing: border-box;top: 0;bottom: 0;left: 50%;z-index: -1;}#sk-container-id-57 div.sk-parallel-item {display: flex;flex-direction: column;z-index: 1;position: relative;background-color: white;}#sk-container-id-57 div.sk-parallel-item:first-child::after {align-self: flex-end;width: 50%;}#sk-container-id-57 div.sk-parallel-item:last-child::after {align-self: flex-start;width: 50%;}#sk-container-id-57 div.sk-parallel-item:only-child::after {width: 0;}#sk-container-id-57 div.sk-dashed-wrapped {border: 1px dashed gray;margin: 0 0.4em 0.5em 0.4em;box-sizing: border-box;padding-bottom: 0.4em;background-color: white;}#sk-container-id-57 div.sk-label label {font-family: monospace;font-weight: bold;display: inline-block;line-height: 1.2em;}#sk-container-id-57 div.sk-label-container {text-align: center;}#sk-container-id-57 div.sk-container {/* jupyter's `normalize.less` sets `[hidden] { display: none; }` but bootstrap.min.css set `[hidden] { display: none !important; }` so we also need the `!important` here to be able to override the default hidden behavior on the sphinx rendered scikit-learn.org. See: https://github.com/scikit-learn/scikit-learn/issues/21755 */display: inline-block !important;position: relative;}#sk-container-id-57 div.sk-text-repr-fallback {display: none;}</style><div id=\"sk-container-id-57\" class=\"sk-top-container\"><div class=\"sk-text-repr-fallback\"><pre>GaussianNB()</pre><b>In a Jupyter environment, please rerun this cell to show the HTML representation or trust the notebook. <br />On GitHub, the HTML representation is unable to render, please try loading this page with nbviewer.org.</b></div><div class=\"sk-container\" hidden><div class=\"sk-item\"><div class=\"sk-estimator sk-toggleable\"><input class=\"sk-toggleable__control sk-hidden--visually\" id=\"sk-estimator-id-57\" type=\"checkbox\" checked><label for=\"sk-estimator-id-57\" class=\"sk-toggleable__label sk-toggleable__label-arrow\">GaussianNB</label><div class=\"sk-toggleable__content\"><pre>GaussianNB()</pre></div></div></div></div></div>"
      ]
     },
     "metadata": {},
     "execution_count": 931
    }
   ]
  },
  {
   "cell_type": "markdown",
   "source": [
    "### Predicting the Test set results"
   ],
   "metadata": {
    "id": "QyULdlW4TZF1"
   }
  },
  {
   "cell_type": "code",
   "source": [
    "y_pred = classifier.predict(X_test)\n",
    "prediction = np.concatenate((y_pred.reshape(len(y_pred), 1), y_test.reshape(len(y_test), 1)), 1)"
   ],
   "metadata": {
    "id": "AtNf2tOUTZF2"
   },
   "execution_count": null,
   "outputs": []
  },
  {
   "cell_type": "code",
   "source": [
    "print(prediction)"
   ],
   "metadata": {
    "colab": {
     "base_uri": "https://localhost:8080/"
    },
    "outputId": "0db46b45-f439-4b72-e563-12b9f77268f9",
    "id": "0ZsCb-YVTZF2"
   },
   "execution_count": null,
   "outputs": [
    {
     "output_type": "stream",
     "name": "stdout",
     "text": [
      "[[1 0]\n",
      " [1 0]\n",
      " [1 0]\n",
      " [0 0]\n",
      " [0 0]\n",
      " [1 0]\n",
      " [1 1]\n",
      " [1 0]\n",
      " [1 0]\n",
      " [1 1]\n",
      " [1 1]\n",
      " [1 1]\n",
      " [1 0]\n",
      " [1 1]\n",
      " [1 1]\n",
      " [1 1]\n",
      " [0 0]\n",
      " [0 0]\n",
      " [0 0]\n",
      " [1 1]\n",
      " [0 0]\n",
      " [0 1]\n",
      " [1 1]\n",
      " [1 0]\n",
      " [1 0]\n",
      " [0 1]\n",
      " [1 1]\n",
      " [1 1]\n",
      " [1 1]\n",
      " [0 0]\n",
      " [1 1]\n",
      " [1 1]\n",
      " [1 1]\n",
      " [1 1]\n",
      " [1 1]\n",
      " [0 0]\n",
      " [1 0]\n",
      " [0 0]\n",
      " [1 0]\n",
      " [1 1]\n",
      " [1 1]\n",
      " [1 0]\n",
      " [1 1]\n",
      " [0 0]\n",
      " [0 0]\n",
      " [0 0]\n",
      " [1 0]\n",
      " [1 0]\n",
      " [0 0]\n",
      " [0 0]\n",
      " [1 1]\n",
      " [1 1]\n",
      " [1 1]\n",
      " [1 1]\n",
      " [1 0]\n",
      " [0 0]\n",
      " [1 1]\n",
      " [1 1]\n",
      " [0 0]\n",
      " [1 1]\n",
      " [1 0]\n",
      " [0 0]\n",
      " [1 0]\n",
      " [1 0]\n",
      " [1 1]\n",
      " [0 0]\n",
      " [1 1]\n",
      " [1 1]\n",
      " [1 1]\n",
      " [1 0]\n",
      " [1 1]\n",
      " [1 1]\n",
      " [1 1]\n",
      " [1 1]\n",
      " [0 0]\n",
      " [1 0]\n",
      " [1 1]\n",
      " [0 1]\n",
      " [0 0]\n",
      " [1 1]\n",
      " [0 0]\n",
      " [1 1]\n",
      " [1 1]\n",
      " [0 0]\n",
      " [1 1]\n",
      " [1 1]\n",
      " [1 0]\n",
      " [0 0]\n",
      " [1 1]\n",
      " [1 0]\n",
      " [0 0]\n",
      " [1 1]\n",
      " [0 0]\n",
      " [0 0]\n",
      " [1 0]\n",
      " [1 1]\n",
      " [1 0]\n",
      " [1 1]\n",
      " [1 1]\n",
      " [1 0]\n",
      " [0 1]\n",
      " [1 1]\n",
      " [1 1]\n",
      " [1 0]\n",
      " [0 1]\n",
      " [1 0]\n",
      " [1 1]\n",
      " [1 1]\n",
      " [0 0]\n",
      " [0 1]\n",
      " [0 1]\n",
      " [1 1]\n",
      " [0 0]\n",
      " [1 0]\n",
      " [1 1]\n",
      " [0 0]\n",
      " [1 1]\n",
      " [1 1]\n",
      " [1 1]\n",
      " [1 1]\n",
      " [1 1]\n",
      " [0 0]\n",
      " [1 1]\n",
      " [1 0]\n",
      " [0 0]\n",
      " [0 0]\n",
      " [1 1]\n",
      " [1 0]\n",
      " [0 0]\n",
      " [1 1]\n",
      " [1 0]\n",
      " [1 1]\n",
      " [0 0]\n",
      " [0 0]\n",
      " [1 1]\n",
      " [1 1]\n",
      " [1 1]\n",
      " [1 1]\n",
      " [1 1]\n",
      " [1 0]\n",
      " [0 1]\n",
      " [1 1]\n",
      " [1 1]\n",
      " [0 0]\n",
      " [1 0]\n",
      " [0 0]\n",
      " [1 0]\n",
      " [1 1]\n",
      " [1 1]\n",
      " [1 1]\n",
      " [1 1]\n",
      " [0 1]\n",
      " [1 1]\n",
      " [1 1]\n",
      " [1 0]\n",
      " [0 0]\n",
      " [1 1]\n",
      " [1 1]\n",
      " [1 1]\n",
      " [1 0]\n",
      " [1 0]\n",
      " [0 0]\n",
      " [0 1]\n",
      " [1 1]\n",
      " [0 0]\n",
      " [0 0]\n",
      " [1 0]\n",
      " [0 0]\n",
      " [0 0]\n",
      " [0 1]\n",
      " [0 0]\n",
      " [1 1]\n",
      " [1 1]\n",
      " [0 0]\n",
      " [0 0]\n",
      " [1 1]\n",
      " [0 0]\n",
      " [1 1]\n",
      " [0 0]\n",
      " [0 1]\n",
      " [1 1]\n",
      " [0 0]\n",
      " [0 0]\n",
      " [1 0]\n",
      " [0 0]\n",
      " [1 1]\n",
      " [0 0]\n",
      " [1 1]\n",
      " [0 0]\n",
      " [1 1]\n",
      " [1 1]\n",
      " [0 0]\n",
      " [1 0]\n",
      " [1 0]\n",
      " [1 1]\n",
      " [0 0]\n",
      " [1 1]\n",
      " [1 1]\n",
      " [1 0]\n",
      " [1 1]]\n"
     ]
    }
   ]
  },
  {
   "cell_type": "markdown",
   "source": [
    "### Evaluating Performance"
   ],
   "metadata": {
    "id": "zgT-deDNTZF2"
   }
  },
  {
   "cell_type": "code",
   "source": [
    "model = 'Naive Bayes'\n",
    "cm = confusion_matrix(y_test, y_pred)\n",
    "ac = round(accuracy_score(y_test, y_pred), 3)\n",
    "ps = round(precision_score(y_test, y_pred), 3)\n",
    "rs = round(recall_score(y_test, y_pred), 3)\n",
    "fs = round(f1_score(y_test, y_pred), 3)"
   ],
   "metadata": {
    "id": "wRk_r-xcTZF2"
   },
   "execution_count": null,
   "outputs": []
  },
  {
   "cell_type": "code",
   "source": [
    "print(cm)"
   ],
   "metadata": {
    "colab": {
     "base_uri": "https://localhost:8080/"
    },
    "outputId": "d5514c59-9e7a-4f95-c790-41e54e03422d",
    "id": "m9kWSkikTZF3"
   },
   "execution_count": null,
   "outputs": [
    {
     "output_type": "stream",
     "name": "stdout",
     "text": [
      "[[55 42]\n",
      " [12 91]]\n"
     ]
    }
   ]
  },
  {
   "cell_type": "code",
   "source": [
    "print(ac)"
   ],
   "metadata": {
    "colab": {
     "base_uri": "https://localhost:8080/"
    },
    "outputId": "c815d4e4-3f32-46d0-f721-04c31047a086",
    "id": "4eee5rKhTZF3"
   },
   "execution_count": null,
   "outputs": [
    {
     "output_type": "stream",
     "name": "stdout",
     "text": [
      "0.73\n"
     ]
    }
   ]
  },
  {
   "cell_type": "code",
   "source": [
    "print(ps)"
   ],
   "metadata": {
    "colab": {
     "base_uri": "https://localhost:8080/"
    },
    "outputId": "bb5a454a-da5a-4074-a270-2332468a4f88",
    "id": "9_LLk1y6TZF4"
   },
   "execution_count": null,
   "outputs": [
    {
     "output_type": "stream",
     "name": "stdout",
     "text": [
      "0.684\n"
     ]
    }
   ]
  },
  {
   "cell_type": "code",
   "source": [
    "print(rs)"
   ],
   "metadata": {
    "colab": {
     "base_uri": "https://localhost:8080/"
    },
    "outputId": "69119c6c-11ad-46c5-930a-04244a530f2a",
    "id": "CwBv5eB-TZF4"
   },
   "execution_count": null,
   "outputs": [
    {
     "output_type": "stream",
     "name": "stdout",
     "text": [
      "0.883\n"
     ]
    }
   ]
  },
  {
   "cell_type": "code",
   "source": [
    "print(fs)"
   ],
   "metadata": {
    "colab": {
     "base_uri": "https://localhost:8080/"
    },
    "outputId": "ae26612e-4b01-4fc7-efe9-b28a62960f35",
    "id": "T-hnJuWmTZF4"
   },
   "execution_count": null,
   "outputs": [
    {
     "output_type": "stream",
     "name": "stdout",
     "text": [
      "0.771\n"
     ]
    }
   ]
  },
  {
   "cell_type": "code",
   "source": [
    "performance = np.concatenate((performance, [[model, ac, ps, rs, fs]]))"
   ],
   "metadata": {
    "id": "UDuUok0oTZF5"
   },
   "execution_count": null,
   "outputs": []
  },
  {
   "cell_type": "code",
   "source": [
    "print(performance)"
   ],
   "metadata": {
    "colab": {
     "base_uri": "https://localhost:8080/"
    },
    "id": "j-ok8lpuTZF5",
    "outputId": "c962fcba-7ae9-47ac-e4a3-d8dfd78633ee"
   },
   "execution_count": null,
   "outputs": [
    {
     "output_type": "stream",
     "name": "stdout",
     "text": [
      "[['Model' 'Accuracy' 'Precision' 'Recall' 'F1 Score']\n",
      " ['Logistic Regression' '0.775' '0.815' '0.728' '0.769']\n",
      " ['K-NN' '0.645' '0.678' '0.592' '0.632']\n",
      " ['SVM' '0.79' '0.814' '0.767' '0.79']\n",
      " ['Kernel SVM' '0.78' '0.893' '0.65' '0.753']\n",
      " ['Naive Bayes' '0.73' '0.684' '0.883' '0.771']]\n"
     ]
    }
   ]
  },
  {
   "cell_type": "markdown",
   "source": [
    "## Training the Decision Tree Classification model on the Training set"
   ],
   "metadata": {
    "id": "g1epUfHMTb8R"
   }
  },
  {
   "cell_type": "code",
   "source": [
    "from sklearn.tree import DecisionTreeClassifier\n",
    "classifier = DecisionTreeClassifier(criterion = 'entropy', random_state = 0)\n",
    "classifier.fit(X_train, y_train)"
   ],
   "metadata": {
    "colab": {
     "base_uri": "https://localhost:8080/",
     "height": 74
    },
    "outputId": "e8fc3df0-8ebd-43f3-a717-66c857ff6cba",
    "id": "xkmKqG5OTb8S"
   },
   "execution_count": null,
   "outputs": [
    {
     "output_type": "execute_result",
     "data": {
      "text/plain": [
       "DecisionTreeClassifier(criterion='entropy', random_state=0)"
      ],
      "text/html": [
       "<style>#sk-container-id-58 {color: black;background-color: white;}#sk-container-id-58 pre{padding: 0;}#sk-container-id-58 div.sk-toggleable {background-color: white;}#sk-container-id-58 label.sk-toggleable__label {cursor: pointer;display: block;width: 100%;margin-bottom: 0;padding: 0.3em;box-sizing: border-box;text-align: center;}#sk-container-id-58 label.sk-toggleable__label-arrow:before {content: \"▸\";float: left;margin-right: 0.25em;color: #696969;}#sk-container-id-58 label.sk-toggleable__label-arrow:hover:before {color: black;}#sk-container-id-58 div.sk-estimator:hover label.sk-toggleable__label-arrow:before {color: black;}#sk-container-id-58 div.sk-toggleable__content {max-height: 0;max-width: 0;overflow: hidden;text-align: left;background-color: #f0f8ff;}#sk-container-id-58 div.sk-toggleable__content pre {margin: 0.2em;color: black;border-radius: 0.25em;background-color: #f0f8ff;}#sk-container-id-58 input.sk-toggleable__control:checked~div.sk-toggleable__content {max-height: 200px;max-width: 100%;overflow: auto;}#sk-container-id-58 input.sk-toggleable__control:checked~label.sk-toggleable__label-arrow:before {content: \"▾\";}#sk-container-id-58 div.sk-estimator input.sk-toggleable__control:checked~label.sk-toggleable__label {background-color: #d4ebff;}#sk-container-id-58 div.sk-label input.sk-toggleable__control:checked~label.sk-toggleable__label {background-color: #d4ebff;}#sk-container-id-58 input.sk-hidden--visually {border: 0;clip: rect(1px 1px 1px 1px);clip: rect(1px, 1px, 1px, 1px);height: 1px;margin: -1px;overflow: hidden;padding: 0;position: absolute;width: 1px;}#sk-container-id-58 div.sk-estimator {font-family: monospace;background-color: #f0f8ff;border: 1px dotted black;border-radius: 0.25em;box-sizing: border-box;margin-bottom: 0.5em;}#sk-container-id-58 div.sk-estimator:hover {background-color: #d4ebff;}#sk-container-id-58 div.sk-parallel-item::after {content: \"\";width: 100%;border-bottom: 1px solid gray;flex-grow: 1;}#sk-container-id-58 div.sk-label:hover label.sk-toggleable__label {background-color: #d4ebff;}#sk-container-id-58 div.sk-serial::before {content: \"\";position: absolute;border-left: 1px solid gray;box-sizing: border-box;top: 0;bottom: 0;left: 50%;z-index: 0;}#sk-container-id-58 div.sk-serial {display: flex;flex-direction: column;align-items: center;background-color: white;padding-right: 0.2em;padding-left: 0.2em;position: relative;}#sk-container-id-58 div.sk-item {position: relative;z-index: 1;}#sk-container-id-58 div.sk-parallel {display: flex;align-items: stretch;justify-content: center;background-color: white;position: relative;}#sk-container-id-58 div.sk-item::before, #sk-container-id-58 div.sk-parallel-item::before {content: \"\";position: absolute;border-left: 1px solid gray;box-sizing: border-box;top: 0;bottom: 0;left: 50%;z-index: -1;}#sk-container-id-58 div.sk-parallel-item {display: flex;flex-direction: column;z-index: 1;position: relative;background-color: white;}#sk-container-id-58 div.sk-parallel-item:first-child::after {align-self: flex-end;width: 50%;}#sk-container-id-58 div.sk-parallel-item:last-child::after {align-self: flex-start;width: 50%;}#sk-container-id-58 div.sk-parallel-item:only-child::after {width: 0;}#sk-container-id-58 div.sk-dashed-wrapped {border: 1px dashed gray;margin: 0 0.4em 0.5em 0.4em;box-sizing: border-box;padding-bottom: 0.4em;background-color: white;}#sk-container-id-58 div.sk-label label {font-family: monospace;font-weight: bold;display: inline-block;line-height: 1.2em;}#sk-container-id-58 div.sk-label-container {text-align: center;}#sk-container-id-58 div.sk-container {/* jupyter's `normalize.less` sets `[hidden] { display: none; }` but bootstrap.min.css set `[hidden] { display: none !important; }` so we also need the `!important` here to be able to override the default hidden behavior on the sphinx rendered scikit-learn.org. See: https://github.com/scikit-learn/scikit-learn/issues/21755 */display: inline-block !important;position: relative;}#sk-container-id-58 div.sk-text-repr-fallback {display: none;}</style><div id=\"sk-container-id-58\" class=\"sk-top-container\"><div class=\"sk-text-repr-fallback\"><pre>DecisionTreeClassifier(criterion=&#x27;entropy&#x27;, random_state=0)</pre><b>In a Jupyter environment, please rerun this cell to show the HTML representation or trust the notebook. <br />On GitHub, the HTML representation is unable to render, please try loading this page with nbviewer.org.</b></div><div class=\"sk-container\" hidden><div class=\"sk-item\"><div class=\"sk-estimator sk-toggleable\"><input class=\"sk-toggleable__control sk-hidden--visually\" id=\"sk-estimator-id-58\" type=\"checkbox\" checked><label for=\"sk-estimator-id-58\" class=\"sk-toggleable__label sk-toggleable__label-arrow\">DecisionTreeClassifier</label><div class=\"sk-toggleable__content\"><pre>DecisionTreeClassifier(criterion=&#x27;entropy&#x27;, random_state=0)</pre></div></div></div></div></div>"
      ]
     },
     "metadata": {},
     "execution_count": 942
    }
   ]
  },
  {
   "cell_type": "markdown",
   "source": [
    "### Predicting the Test set results"
   ],
   "metadata": {
    "id": "BJjOWLRlTb8T"
   }
  },
  {
   "cell_type": "code",
   "source": [
    "y_pred = classifier.predict(X_test)\n",
    "prediction = np.concatenate((y_pred.reshape(len(y_pred), 1), y_test.reshape(len(y_test), 1)), 1)"
   ],
   "metadata": {
    "id": "o_nqqLf7Tb8U"
   },
   "execution_count": null,
   "outputs": []
  },
  {
   "cell_type": "code",
   "source": [
    "print(prediction)"
   ],
   "metadata": {
    "colab": {
     "base_uri": "https://localhost:8080/"
    },
    "outputId": "88712a17-1773-44e9-b761-bfddc6ccc207",
    "id": "ZdbB7CYBTb8U"
   },
   "execution_count": null,
   "outputs": [
    {
     "output_type": "stream",
     "name": "stdout",
     "text": [
      "[[0 0]\n",
      " [0 0]\n",
      " [1 0]\n",
      " [0 0]\n",
      " [1 0]\n",
      " [0 0]\n",
      " [1 1]\n",
      " [0 0]\n",
      " [0 0]\n",
      " [0 1]\n",
      " [1 1]\n",
      " [1 1]\n",
      " [1 0]\n",
      " [1 1]\n",
      " [1 1]\n",
      " [1 1]\n",
      " [0 0]\n",
      " [0 0]\n",
      " [0 0]\n",
      " [1 1]\n",
      " [0 0]\n",
      " [1 1]\n",
      " [1 1]\n",
      " [0 0]\n",
      " [0 0]\n",
      " [1 1]\n",
      " [0 1]\n",
      " [1 1]\n",
      " [1 1]\n",
      " [0 0]\n",
      " [1 1]\n",
      " [1 1]\n",
      " [0 1]\n",
      " [1 1]\n",
      " [1 1]\n",
      " [0 0]\n",
      " [0 0]\n",
      " [0 0]\n",
      " [0 0]\n",
      " [1 1]\n",
      " [1 1]\n",
      " [1 0]\n",
      " [1 1]\n",
      " [0 0]\n",
      " [0 0]\n",
      " [1 0]\n",
      " [1 0]\n",
      " [1 0]\n",
      " [1 0]\n",
      " [0 0]\n",
      " [1 1]\n",
      " [0 1]\n",
      " [0 1]\n",
      " [1 1]\n",
      " [0 0]\n",
      " [0 0]\n",
      " [0 1]\n",
      " [0 1]\n",
      " [0 0]\n",
      " [0 1]\n",
      " [0 0]\n",
      " [0 0]\n",
      " [0 0]\n",
      " [0 0]\n",
      " [1 1]\n",
      " [0 0]\n",
      " [0 1]\n",
      " [0 1]\n",
      " [0 1]\n",
      " [0 0]\n",
      " [1 1]\n",
      " [1 1]\n",
      " [1 1]\n",
      " [0 1]\n",
      " [0 0]\n",
      " [0 0]\n",
      " [0 1]\n",
      " [1 1]\n",
      " [0 0]\n",
      " [1 1]\n",
      " [0 0]\n",
      " [0 1]\n",
      " [0 1]\n",
      " [0 0]\n",
      " [1 1]\n",
      " [1 1]\n",
      " [0 0]\n",
      " [0 0]\n",
      " [1 1]\n",
      " [0 0]\n",
      " [1 0]\n",
      " [1 1]\n",
      " [0 0]\n",
      " [0 0]\n",
      " [0 0]\n",
      " [0 1]\n",
      " [0 0]\n",
      " [0 1]\n",
      " [0 1]\n",
      " [1 0]\n",
      " [0 1]\n",
      " [1 1]\n",
      " [1 1]\n",
      " [1 0]\n",
      " [1 1]\n",
      " [0 0]\n",
      " [0 1]\n",
      " [1 1]\n",
      " [0 0]\n",
      " [0 1]\n",
      " [0 1]\n",
      " [1 1]\n",
      " [0 0]\n",
      " [1 0]\n",
      " [0 1]\n",
      " [1 0]\n",
      " [1 1]\n",
      " [1 1]\n",
      " [1 1]\n",
      " [1 1]\n",
      " [0 1]\n",
      " [0 0]\n",
      " [1 1]\n",
      " [0 0]\n",
      " [0 0]\n",
      " [1 0]\n",
      " [1 1]\n",
      " [0 0]\n",
      " [0 0]\n",
      " [1 1]\n",
      " [0 0]\n",
      " [1 1]\n",
      " [0 0]\n",
      " [0 0]\n",
      " [1 1]\n",
      " [1 1]\n",
      " [0 1]\n",
      " [1 1]\n",
      " [1 1]\n",
      " [0 0]\n",
      " [1 1]\n",
      " [1 1]\n",
      " [1 1]\n",
      " [0 0]\n",
      " [0 0]\n",
      " [0 0]\n",
      " [1 0]\n",
      " [0 1]\n",
      " [0 1]\n",
      " [1 1]\n",
      " [0 1]\n",
      " [1 1]\n",
      " [1 1]\n",
      " [1 1]\n",
      " [0 0]\n",
      " [0 0]\n",
      " [1 1]\n",
      " [0 1]\n",
      " [1 1]\n",
      " [0 0]\n",
      " [0 0]\n",
      " [0 0]\n",
      " [1 1]\n",
      " [1 1]\n",
      " [1 0]\n",
      " [0 0]\n",
      " [0 0]\n",
      " [1 0]\n",
      " [0 0]\n",
      " [1 1]\n",
      " [0 0]\n",
      " [1 1]\n",
      " [1 1]\n",
      " [0 0]\n",
      " [0 0]\n",
      " [0 1]\n",
      " [0 0]\n",
      " [1 1]\n",
      " [0 0]\n",
      " [1 1]\n",
      " [1 1]\n",
      " [1 0]\n",
      " [0 0]\n",
      " [0 0]\n",
      " [0 0]\n",
      " [0 1]\n",
      " [0 0]\n",
      " [1 1]\n",
      " [0 0]\n",
      " [1 1]\n",
      " [1 1]\n",
      " [1 0]\n",
      " [0 0]\n",
      " [0 0]\n",
      " [1 1]\n",
      " [0 0]\n",
      " [1 1]\n",
      " [1 1]\n",
      " [0 0]\n",
      " [1 1]]\n"
     ]
    }
   ]
  },
  {
   "cell_type": "markdown",
   "source": [
    "### Evaluating Performance"
   ],
   "metadata": {
    "id": "-3d9CZ_FTb8V"
   }
  },
  {
   "cell_type": "code",
   "source": [
    "model = 'Decision Tree'\n",
    "cm = confusion_matrix(y_test, y_pred)\n",
    "ac = round(accuracy_score(y_test, y_pred), 3)\n",
    "ps = round(precision_score(y_test, y_pred), 3)\n",
    "rs = round(recall_score(y_test, y_pred), 3)\n",
    "fs = round(f1_score(y_test, y_pred), 3)"
   ],
   "metadata": {
    "id": "kuuJ81hiTb8V"
   },
   "execution_count": null,
   "outputs": []
  },
  {
   "cell_type": "code",
   "source": [
    "print(cm)"
   ],
   "metadata": {
    "colab": {
     "base_uri": "https://localhost:8080/"
    },
    "outputId": "443e64f7-703e-4517-c5f0-cb96ad7123a4",
    "id": "qvUlvGMfTb8V"
   },
   "execution_count": null,
   "outputs": [
    {
     "output_type": "stream",
     "name": "stdout",
     "text": [
      "[[78 19]\n",
      " [31 72]]\n"
     ]
    }
   ]
  },
  {
   "cell_type": "code",
   "source": [
    "print(ac)"
   ],
   "metadata": {
    "colab": {
     "base_uri": "https://localhost:8080/"
    },
    "outputId": "dc4760c1-17e6-4e3e-9ad7-83b54a59b59d",
    "id": "fITauXcrTb8W"
   },
   "execution_count": null,
   "outputs": [
    {
     "output_type": "stream",
     "name": "stdout",
     "text": [
      "0.75\n"
     ]
    }
   ]
  },
  {
   "cell_type": "code",
   "source": [
    "print(ps)"
   ],
   "metadata": {
    "colab": {
     "base_uri": "https://localhost:8080/"
    },
    "outputId": "91d4a385-5a6c-49d7-ea6c-a99b5a990821",
    "id": "CtvYHoNrTb8W"
   },
   "execution_count": null,
   "outputs": [
    {
     "output_type": "stream",
     "name": "stdout",
     "text": [
      "0.791\n"
     ]
    }
   ]
  },
  {
   "cell_type": "code",
   "source": [
    "print(rs)"
   ],
   "metadata": {
    "colab": {
     "base_uri": "https://localhost:8080/"
    },
    "outputId": "f2de716e-c840-43b1-e32d-b3f26dab77d2",
    "id": "KtMMZCQ8Tb8Y"
   },
   "execution_count": null,
   "outputs": [
    {
     "output_type": "stream",
     "name": "stdout",
     "text": [
      "0.699\n"
     ]
    }
   ]
  },
  {
   "cell_type": "code",
   "source": [
    "print(fs)"
   ],
   "metadata": {
    "colab": {
     "base_uri": "https://localhost:8080/"
    },
    "outputId": "2ca5b0bb-54d3-4467-a7ba-c158ca74ad7b",
    "id": "j9HtPyYYTb8Y"
   },
   "execution_count": null,
   "outputs": [
    {
     "output_type": "stream",
     "name": "stdout",
     "text": [
      "0.742\n"
     ]
    }
   ]
  },
  {
   "cell_type": "code",
   "source": [
    "performance = np.concatenate((performance, [[model, ac, ps, rs, fs]]))"
   ],
   "metadata": {
    "id": "cXF5oHqPTb8Y"
   },
   "execution_count": null,
   "outputs": []
  },
  {
   "cell_type": "code",
   "source": [
    "print(performance)"
   ],
   "metadata": {
    "colab": {
     "base_uri": "https://localhost:8080/"
    },
    "id": "QqkQt3nuTb8Z",
    "outputId": "35832887-5f5e-4874-d0c4-33cbfd5ab9c1"
   },
   "execution_count": null,
   "outputs": [
    {
     "output_type": "stream",
     "name": "stdout",
     "text": [
      "[['Model' 'Accuracy' 'Precision' 'Recall' 'F1 Score']\n",
      " ['Logistic Regression' '0.775' '0.815' '0.728' '0.769']\n",
      " ['K-NN' '0.645' '0.678' '0.592' '0.632']\n",
      " ['SVM' '0.79' '0.814' '0.767' '0.79']\n",
      " ['Kernel SVM' '0.78' '0.893' '0.65' '0.753']\n",
      " ['Naive Bayes' '0.73' '0.684' '0.883' '0.771']\n",
      " ['Decision Tree' '0.75' '0.791' '0.699' '0.742']]\n"
     ]
    }
   ]
  },
  {
   "cell_type": "markdown",
   "source": [
    "## Training the Random Fores Classification model on the Training set"
   ],
   "metadata": {
    "id": "eqO7B9-RTcUA"
   }
  },
  {
   "cell_type": "code",
   "source": [
    "from sklearn.ensemble import RandomForestClassifier\n",
    "classifier = RandomForestClassifier(n_estimators = 10, criterion = 'entropy', random_state = 0)\n",
    "classifier.fit(X_train, y_train)"
   ],
   "metadata": {
    "colab": {
     "base_uri": "https://localhost:8080/",
     "height": 74
    },
    "outputId": "b7e525b6-1ab9-4b20-8897-9ffe8a4f3864",
    "id": "9-ctyHPYTcUA"
   },
   "execution_count": null,
   "outputs": [
    {
     "output_type": "execute_result",
     "data": {
      "text/plain": [
       "RandomForestClassifier(criterion='entropy', n_estimators=10, random_state=0)"
      ],
      "text/html": [
       "<style>#sk-container-id-59 {color: black;background-color: white;}#sk-container-id-59 pre{padding: 0;}#sk-container-id-59 div.sk-toggleable {background-color: white;}#sk-container-id-59 label.sk-toggleable__label {cursor: pointer;display: block;width: 100%;margin-bottom: 0;padding: 0.3em;box-sizing: border-box;text-align: center;}#sk-container-id-59 label.sk-toggleable__label-arrow:before {content: \"▸\";float: left;margin-right: 0.25em;color: #696969;}#sk-container-id-59 label.sk-toggleable__label-arrow:hover:before {color: black;}#sk-container-id-59 div.sk-estimator:hover label.sk-toggleable__label-arrow:before {color: black;}#sk-container-id-59 div.sk-toggleable__content {max-height: 0;max-width: 0;overflow: hidden;text-align: left;background-color: #f0f8ff;}#sk-container-id-59 div.sk-toggleable__content pre {margin: 0.2em;color: black;border-radius: 0.25em;background-color: #f0f8ff;}#sk-container-id-59 input.sk-toggleable__control:checked~div.sk-toggleable__content {max-height: 200px;max-width: 100%;overflow: auto;}#sk-container-id-59 input.sk-toggleable__control:checked~label.sk-toggleable__label-arrow:before {content: \"▾\";}#sk-container-id-59 div.sk-estimator input.sk-toggleable__control:checked~label.sk-toggleable__label {background-color: #d4ebff;}#sk-container-id-59 div.sk-label input.sk-toggleable__control:checked~label.sk-toggleable__label {background-color: #d4ebff;}#sk-container-id-59 input.sk-hidden--visually {border: 0;clip: rect(1px 1px 1px 1px);clip: rect(1px, 1px, 1px, 1px);height: 1px;margin: -1px;overflow: hidden;padding: 0;position: absolute;width: 1px;}#sk-container-id-59 div.sk-estimator {font-family: monospace;background-color: #f0f8ff;border: 1px dotted black;border-radius: 0.25em;box-sizing: border-box;margin-bottom: 0.5em;}#sk-container-id-59 div.sk-estimator:hover {background-color: #d4ebff;}#sk-container-id-59 div.sk-parallel-item::after {content: \"\";width: 100%;border-bottom: 1px solid gray;flex-grow: 1;}#sk-container-id-59 div.sk-label:hover label.sk-toggleable__label {background-color: #d4ebff;}#sk-container-id-59 div.sk-serial::before {content: \"\";position: absolute;border-left: 1px solid gray;box-sizing: border-box;top: 0;bottom: 0;left: 50%;z-index: 0;}#sk-container-id-59 div.sk-serial {display: flex;flex-direction: column;align-items: center;background-color: white;padding-right: 0.2em;padding-left: 0.2em;position: relative;}#sk-container-id-59 div.sk-item {position: relative;z-index: 1;}#sk-container-id-59 div.sk-parallel {display: flex;align-items: stretch;justify-content: center;background-color: white;position: relative;}#sk-container-id-59 div.sk-item::before, #sk-container-id-59 div.sk-parallel-item::before {content: \"\";position: absolute;border-left: 1px solid gray;box-sizing: border-box;top: 0;bottom: 0;left: 50%;z-index: -1;}#sk-container-id-59 div.sk-parallel-item {display: flex;flex-direction: column;z-index: 1;position: relative;background-color: white;}#sk-container-id-59 div.sk-parallel-item:first-child::after {align-self: flex-end;width: 50%;}#sk-container-id-59 div.sk-parallel-item:last-child::after {align-self: flex-start;width: 50%;}#sk-container-id-59 div.sk-parallel-item:only-child::after {width: 0;}#sk-container-id-59 div.sk-dashed-wrapped {border: 1px dashed gray;margin: 0 0.4em 0.5em 0.4em;box-sizing: border-box;padding-bottom: 0.4em;background-color: white;}#sk-container-id-59 div.sk-label label {font-family: monospace;font-weight: bold;display: inline-block;line-height: 1.2em;}#sk-container-id-59 div.sk-label-container {text-align: center;}#sk-container-id-59 div.sk-container {/* jupyter's `normalize.less` sets `[hidden] { display: none; }` but bootstrap.min.css set `[hidden] { display: none !important; }` so we also need the `!important` here to be able to override the default hidden behavior on the sphinx rendered scikit-learn.org. See: https://github.com/scikit-learn/scikit-learn/issues/21755 */display: inline-block !important;position: relative;}#sk-container-id-59 div.sk-text-repr-fallback {display: none;}</style><div id=\"sk-container-id-59\" class=\"sk-top-container\"><div class=\"sk-text-repr-fallback\"><pre>RandomForestClassifier(criterion=&#x27;entropy&#x27;, n_estimators=10, random_state=0)</pre><b>In a Jupyter environment, please rerun this cell to show the HTML representation or trust the notebook. <br />On GitHub, the HTML representation is unable to render, please try loading this page with nbviewer.org.</b></div><div class=\"sk-container\" hidden><div class=\"sk-item\"><div class=\"sk-estimator sk-toggleable\"><input class=\"sk-toggleable__control sk-hidden--visually\" id=\"sk-estimator-id-59\" type=\"checkbox\" checked><label for=\"sk-estimator-id-59\" class=\"sk-toggleable__label sk-toggleable__label-arrow\">RandomForestClassifier</label><div class=\"sk-toggleable__content\"><pre>RandomForestClassifier(criterion=&#x27;entropy&#x27;, n_estimators=10, random_state=0)</pre></div></div></div></div></div>"
      ]
     },
     "metadata": {},
     "execution_count": 953
    }
   ]
  },
  {
   "cell_type": "markdown",
   "source": [
    "### Predicting the Test set results"
   ],
   "metadata": {
    "id": "Kmpnbd8YTcUA"
   }
  },
  {
   "cell_type": "code",
   "source": [
    "y_pred = classifier.predict(X_test)\n",
    "prediction = np.concatenate((y_pred.reshape(len(y_pred), 1), y_test.reshape(len(y_test), 1)), 1)"
   ],
   "metadata": {
    "id": "UTh84pNhTcUB"
   },
   "execution_count": null,
   "outputs": []
  },
  {
   "cell_type": "code",
   "source": [
    "print(prediction)"
   ],
   "metadata": {
    "colab": {
     "base_uri": "https://localhost:8080/"
    },
    "outputId": "cbeed1ad-60c5-4694-82bb-d20cb2f52473",
    "id": "tzbjUtX7TcUB"
   },
   "execution_count": null,
   "outputs": [
    {
     "output_type": "stream",
     "name": "stdout",
     "text": [
      "[[0 0]\n",
      " [0 0]\n",
      " [0 0]\n",
      " [0 0]\n",
      " [1 0]\n",
      " [0 0]\n",
      " [1 1]\n",
      " [0 0]\n",
      " [0 0]\n",
      " [1 1]\n",
      " [1 1]\n",
      " [1 1]\n",
      " [1 0]\n",
      " [0 1]\n",
      " [1 1]\n",
      " [1 1]\n",
      " [1 0]\n",
      " [0 0]\n",
      " [0 0]\n",
      " [1 1]\n",
      " [0 0]\n",
      " [1 1]\n",
      " [1 1]\n",
      " [0 0]\n",
      " [0 0]\n",
      " [1 1]\n",
      " [0 1]\n",
      " [1 1]\n",
      " [1 1]\n",
      " [0 0]\n",
      " [0 1]\n",
      " [0 1]\n",
      " [0 1]\n",
      " [1 1]\n",
      " [1 1]\n",
      " [0 0]\n",
      " [0 0]\n",
      " [0 0]\n",
      " [0 0]\n",
      " [1 1]\n",
      " [1 1]\n",
      " [0 0]\n",
      " [0 1]\n",
      " [0 0]\n",
      " [0 0]\n",
      " [0 0]\n",
      " [1 0]\n",
      " [1 0]\n",
      " [1 0]\n",
      " [0 0]\n",
      " [1 1]\n",
      " [0 1]\n",
      " [0 1]\n",
      " [1 1]\n",
      " [0 0]\n",
      " [1 0]\n",
      " [0 1]\n",
      " [0 1]\n",
      " [0 0]\n",
      " [0 1]\n",
      " [0 0]\n",
      " [0 0]\n",
      " [0 0]\n",
      " [1 0]\n",
      " [1 1]\n",
      " [0 0]\n",
      " [0 1]\n",
      " [1 1]\n",
      " [0 1]\n",
      " [0 0]\n",
      " [1 1]\n",
      " [1 1]\n",
      " [1 1]\n",
      " [0 1]\n",
      " [0 0]\n",
      " [0 0]\n",
      " [0 1]\n",
      " [1 1]\n",
      " [0 0]\n",
      " [1 1]\n",
      " [0 0]\n",
      " [1 1]\n",
      " [1 1]\n",
      " [0 0]\n",
      " [1 1]\n",
      " [0 1]\n",
      " [0 0]\n",
      " [1 0]\n",
      " [1 1]\n",
      " [0 0]\n",
      " [0 0]\n",
      " [0 1]\n",
      " [0 0]\n",
      " [0 0]\n",
      " [0 0]\n",
      " [0 1]\n",
      " [0 0]\n",
      " [0 1]\n",
      " [0 1]\n",
      " [1 0]\n",
      " [0 1]\n",
      " [0 1]\n",
      " [1 1]\n",
      " [0 0]\n",
      " [1 1]\n",
      " [0 0]\n",
      " [0 1]\n",
      " [1 1]\n",
      " [0 0]\n",
      " [0 1]\n",
      " [0 1]\n",
      " [0 1]\n",
      " [0 0]\n",
      " [0 0]\n",
      " [0 1]\n",
      " [0 0]\n",
      " [1 1]\n",
      " [0 1]\n",
      " [1 1]\n",
      " [0 1]\n",
      " [0 1]\n",
      " [0 0]\n",
      " [1 1]\n",
      " [0 0]\n",
      " [0 0]\n",
      " [0 0]\n",
      " [1 1]\n",
      " [0 0]\n",
      " [0 0]\n",
      " [0 1]\n",
      " [0 0]\n",
      " [1 1]\n",
      " [0 0]\n",
      " [0 0]\n",
      " [1 1]\n",
      " [1 1]\n",
      " [1 1]\n",
      " [1 1]\n",
      " [1 1]\n",
      " [0 0]\n",
      " [1 1]\n",
      " [1 1]\n",
      " [0 1]\n",
      " [0 0]\n",
      " [0 0]\n",
      " [0 0]\n",
      " [0 0]\n",
      " [0 1]\n",
      " [0 1]\n",
      " [1 1]\n",
      " [0 1]\n",
      " [0 1]\n",
      " [1 1]\n",
      " [1 1]\n",
      " [0 0]\n",
      " [0 0]\n",
      " [1 1]\n",
      " [0 1]\n",
      " [1 1]\n",
      " [0 0]\n",
      " [0 0]\n",
      " [0 0]\n",
      " [1 1]\n",
      " [0 1]\n",
      " [0 0]\n",
      " [0 0]\n",
      " [0 0]\n",
      " [0 0]\n",
      " [0 0]\n",
      " [0 1]\n",
      " [0 0]\n",
      " [1 1]\n",
      " [1 1]\n",
      " [0 0]\n",
      " [0 0]\n",
      " [0 1]\n",
      " [0 0]\n",
      " [1 1]\n",
      " [0 0]\n",
      " [1 1]\n",
      " [1 1]\n",
      " [0 0]\n",
      " [0 0]\n",
      " [0 0]\n",
      " [0 0]\n",
      " [0 1]\n",
      " [0 0]\n",
      " [0 1]\n",
      " [0 0]\n",
      " [1 1]\n",
      " [0 1]\n",
      " [0 0]\n",
      " [0 0]\n",
      " [0 0]\n",
      " [0 1]\n",
      " [0 0]\n",
      " [1 1]\n",
      " [1 1]\n",
      " [0 0]\n",
      " [0 1]]\n"
     ]
    }
   ]
  },
  {
   "cell_type": "markdown",
   "source": [
    "### Evaluating Performance"
   ],
   "metadata": {
    "id": "ja2dyQcyTcUB"
   }
  },
  {
   "cell_type": "code",
   "source": [
    "model = 'Random Forest'\n",
    "cm = confusion_matrix(y_test, y_pred)\n",
    "ac = round(accuracy_score(y_test, y_pred), 3)\n",
    "ps = round(precision_score(y_test, y_pred), 3)\n",
    "rs = round(recall_score(y_test, y_pred), 3)\n",
    "fs = round(f1_score(y_test, y_pred), 3)"
   ],
   "metadata": {
    "id": "83ImL95sTcUC"
   },
   "execution_count": null,
   "outputs": []
  },
  {
   "cell_type": "code",
   "source": [
    "print(cm)"
   ],
   "metadata": {
    "colab": {
     "base_uri": "https://localhost:8080/"
    },
    "outputId": "09f334e7-9692-4adc-e296-1865314f0bc7",
    "id": "8JJs5PxJTcUC"
   },
   "execution_count": null,
   "outputs": [
    {
     "output_type": "stream",
     "name": "stdout",
     "text": [
      "[[87 10]\n",
      " [45 58]]\n"
     ]
    }
   ]
  },
  {
   "cell_type": "code",
   "source": [
    "print(ac)"
   ],
   "metadata": {
    "colab": {
     "base_uri": "https://localhost:8080/"
    },
    "outputId": "d16e1bf5-6680-47dc-e21e-049bdf6cda95",
    "id": "FUCuIJizTcUC"
   },
   "execution_count": null,
   "outputs": [
    {
     "output_type": "stream",
     "name": "stdout",
     "text": [
      "0.725\n"
     ]
    }
   ]
  },
  {
   "cell_type": "code",
   "source": [
    "print(ps)"
   ],
   "metadata": {
    "colab": {
     "base_uri": "https://localhost:8080/"
    },
    "outputId": "9cb6b9d2-7895-44c2-a4d8-23e50f7dfcda",
    "id": "ogPEUH0FTcUD"
   },
   "execution_count": null,
   "outputs": [
    {
     "output_type": "stream",
     "name": "stdout",
     "text": [
      "0.853\n"
     ]
    }
   ]
  },
  {
   "cell_type": "code",
   "source": [
    "print(rs)"
   ],
   "metadata": {
    "colab": {
     "base_uri": "https://localhost:8080/"
    },
    "outputId": "6382229d-58e0-4b42-fa11-4b9e095cb7f7",
    "id": "JM3NYj09TcUD"
   },
   "execution_count": null,
   "outputs": [
    {
     "output_type": "stream",
     "name": "stdout",
     "text": [
      "0.563\n"
     ]
    }
   ]
  },
  {
   "cell_type": "code",
   "source": [
    "print(fs)"
   ],
   "metadata": {
    "colab": {
     "base_uri": "https://localhost:8080/"
    },
    "outputId": "ecd7bdec-76e3-4425-f73e-a18aa0bd5140",
    "id": "6xmSxtpvTcUD"
   },
   "execution_count": null,
   "outputs": [
    {
     "output_type": "stream",
     "name": "stdout",
     "text": [
      "0.678\n"
     ]
    }
   ]
  },
  {
   "cell_type": "code",
   "source": [
    "performance = np.concatenate((performance, [[model, ac, ps, rs, fs]]))"
   ],
   "metadata": {
    "id": "MBogGEfrTcUD"
   },
   "execution_count": null,
   "outputs": []
  },
  {
   "cell_type": "code",
   "source": [
    "print(performance)"
   ],
   "metadata": {
    "colab": {
     "base_uri": "https://localhost:8080/"
    },
    "id": "gEXCmAxITcUE",
    "outputId": "13771d2d-ef1c-4f0a-a55b-68f2137c182f"
   },
   "execution_count": null,
   "outputs": [
    {
     "output_type": "stream",
     "name": "stdout",
     "text": [
      "[['Model' 'Accuracy' 'Precision' 'Recall' 'F1 Score']\n",
      " ['Logistic Regression' '0.775' '0.815' '0.728' '0.769']\n",
      " ['K-NN' '0.645' '0.678' '0.592' '0.632']\n",
      " ['SVM' '0.79' '0.814' '0.767' '0.79']\n",
      " ['Kernel SVM' '0.78' '0.893' '0.65' '0.753']\n",
      " ['Naive Bayes' '0.73' '0.684' '0.883' '0.771']\n",
      " ['Decision Tree' '0.75' '0.791' '0.699' '0.742']\n",
      " ['Random Forest' '0.725' '0.853' '0.563' '0.678']]\n"
     ]
    }
   ]
  },
  {
   "cell_type": "markdown",
   "source": [
    "## Training the CART model on the Training set"
   ],
   "metadata": {
    "id": "5pSJH27VTc1Y"
   }
  },
  {
   "cell_type": "code",
   "source": [
    "from sklearn.tree import DecisionTreeClassifier\n",
    "classifier = DecisionTreeClassifier(criterion = 'gini', random_state = 0)\n",
    "classifier.fit(X_train, y_train)"
   ],
   "metadata": {
    "colab": {
     "base_uri": "https://localhost:8080/",
     "height": 74
    },
    "outputId": "716717fb-a441-4333-a045-3c8b5c85f393",
    "id": "cENw2o77Tc1Y"
   },
   "execution_count": null,
   "outputs": [
    {
     "output_type": "execute_result",
     "data": {
      "text/plain": [
       "DecisionTreeClassifier(random_state=0)"
      ],
      "text/html": [
       "<style>#sk-container-id-60 {color: black;background-color: white;}#sk-container-id-60 pre{padding: 0;}#sk-container-id-60 div.sk-toggleable {background-color: white;}#sk-container-id-60 label.sk-toggleable__label {cursor: pointer;display: block;width: 100%;margin-bottom: 0;padding: 0.3em;box-sizing: border-box;text-align: center;}#sk-container-id-60 label.sk-toggleable__label-arrow:before {content: \"▸\";float: left;margin-right: 0.25em;color: #696969;}#sk-container-id-60 label.sk-toggleable__label-arrow:hover:before {color: black;}#sk-container-id-60 div.sk-estimator:hover label.sk-toggleable__label-arrow:before {color: black;}#sk-container-id-60 div.sk-toggleable__content {max-height: 0;max-width: 0;overflow: hidden;text-align: left;background-color: #f0f8ff;}#sk-container-id-60 div.sk-toggleable__content pre {margin: 0.2em;color: black;border-radius: 0.25em;background-color: #f0f8ff;}#sk-container-id-60 input.sk-toggleable__control:checked~div.sk-toggleable__content {max-height: 200px;max-width: 100%;overflow: auto;}#sk-container-id-60 input.sk-toggleable__control:checked~label.sk-toggleable__label-arrow:before {content: \"▾\";}#sk-container-id-60 div.sk-estimator input.sk-toggleable__control:checked~label.sk-toggleable__label {background-color: #d4ebff;}#sk-container-id-60 div.sk-label input.sk-toggleable__control:checked~label.sk-toggleable__label {background-color: #d4ebff;}#sk-container-id-60 input.sk-hidden--visually {border: 0;clip: rect(1px 1px 1px 1px);clip: rect(1px, 1px, 1px, 1px);height: 1px;margin: -1px;overflow: hidden;padding: 0;position: absolute;width: 1px;}#sk-container-id-60 div.sk-estimator {font-family: monospace;background-color: #f0f8ff;border: 1px dotted black;border-radius: 0.25em;box-sizing: border-box;margin-bottom: 0.5em;}#sk-container-id-60 div.sk-estimator:hover {background-color: #d4ebff;}#sk-container-id-60 div.sk-parallel-item::after {content: \"\";width: 100%;border-bottom: 1px solid gray;flex-grow: 1;}#sk-container-id-60 div.sk-label:hover label.sk-toggleable__label {background-color: #d4ebff;}#sk-container-id-60 div.sk-serial::before {content: \"\";position: absolute;border-left: 1px solid gray;box-sizing: border-box;top: 0;bottom: 0;left: 50%;z-index: 0;}#sk-container-id-60 div.sk-serial {display: flex;flex-direction: column;align-items: center;background-color: white;padding-right: 0.2em;padding-left: 0.2em;position: relative;}#sk-container-id-60 div.sk-item {position: relative;z-index: 1;}#sk-container-id-60 div.sk-parallel {display: flex;align-items: stretch;justify-content: center;background-color: white;position: relative;}#sk-container-id-60 div.sk-item::before, #sk-container-id-60 div.sk-parallel-item::before {content: \"\";position: absolute;border-left: 1px solid gray;box-sizing: border-box;top: 0;bottom: 0;left: 50%;z-index: -1;}#sk-container-id-60 div.sk-parallel-item {display: flex;flex-direction: column;z-index: 1;position: relative;background-color: white;}#sk-container-id-60 div.sk-parallel-item:first-child::after {align-self: flex-end;width: 50%;}#sk-container-id-60 div.sk-parallel-item:last-child::after {align-self: flex-start;width: 50%;}#sk-container-id-60 div.sk-parallel-item:only-child::after {width: 0;}#sk-container-id-60 div.sk-dashed-wrapped {border: 1px dashed gray;margin: 0 0.4em 0.5em 0.4em;box-sizing: border-box;padding-bottom: 0.4em;background-color: white;}#sk-container-id-60 div.sk-label label {font-family: monospace;font-weight: bold;display: inline-block;line-height: 1.2em;}#sk-container-id-60 div.sk-label-container {text-align: center;}#sk-container-id-60 div.sk-container {/* jupyter's `normalize.less` sets `[hidden] { display: none; }` but bootstrap.min.css set `[hidden] { display: none !important; }` so we also need the `!important` here to be able to override the default hidden behavior on the sphinx rendered scikit-learn.org. See: https://github.com/scikit-learn/scikit-learn/issues/21755 */display: inline-block !important;position: relative;}#sk-container-id-60 div.sk-text-repr-fallback {display: none;}</style><div id=\"sk-container-id-60\" class=\"sk-top-container\"><div class=\"sk-text-repr-fallback\"><pre>DecisionTreeClassifier(random_state=0)</pre><b>In a Jupyter environment, please rerun this cell to show the HTML representation or trust the notebook. <br />On GitHub, the HTML representation is unable to render, please try loading this page with nbviewer.org.</b></div><div class=\"sk-container\" hidden><div class=\"sk-item\"><div class=\"sk-estimator sk-toggleable\"><input class=\"sk-toggleable__control sk-hidden--visually\" id=\"sk-estimator-id-60\" type=\"checkbox\" checked><label for=\"sk-estimator-id-60\" class=\"sk-toggleable__label sk-toggleable__label-arrow\">DecisionTreeClassifier</label><div class=\"sk-toggleable__content\"><pre>DecisionTreeClassifier(random_state=0)</pre></div></div></div></div></div>"
      ]
     },
     "metadata": {},
     "execution_count": 964
    }
   ]
  },
  {
   "cell_type": "markdown",
   "source": [
    "### Predicting the Test set results"
   ],
   "metadata": {
    "id": "U5WHXZ0qTc1Z"
   }
  },
  {
   "cell_type": "code",
   "source": [
    "y_pred = classifier.predict(X_test)\n",
    "prediction = np.concatenate((y_pred.reshape(len(y_pred), 1), y_test.reshape(len(y_test), 1)), 1)"
   ],
   "metadata": {
    "id": "IUaml4AmTc1Z"
   },
   "execution_count": null,
   "outputs": []
  },
  {
   "cell_type": "code",
   "source": [
    "print(prediction)"
   ],
   "metadata": {
    "colab": {
     "base_uri": "https://localhost:8080/"
    },
    "outputId": "e5d9ffc4-a8a5-4a95-f923-5fb01d82103a",
    "id": "FR7XEKs3Tc1Z"
   },
   "execution_count": null,
   "outputs": [
    {
     "output_type": "stream",
     "name": "stdout",
     "text": [
      "[[0 0]\n",
      " [0 0]\n",
      " [1 0]\n",
      " [0 0]\n",
      " [1 0]\n",
      " [1 0]\n",
      " [1 1]\n",
      " [1 0]\n",
      " [0 0]\n",
      " [0 1]\n",
      " [1 1]\n",
      " [1 1]\n",
      " [1 0]\n",
      " [1 1]\n",
      " [1 1]\n",
      " [1 1]\n",
      " [0 0]\n",
      " [0 0]\n",
      " [0 0]\n",
      " [1 1]\n",
      " [0 0]\n",
      " [1 1]\n",
      " [1 1]\n",
      " [0 0]\n",
      " [0 0]\n",
      " [1 1]\n",
      " [0 1]\n",
      " [1 1]\n",
      " [1 1]\n",
      " [0 0]\n",
      " [0 1]\n",
      " [1 1]\n",
      " [0 1]\n",
      " [1 1]\n",
      " [1 1]\n",
      " [1 0]\n",
      " [0 0]\n",
      " [0 0]\n",
      " [0 0]\n",
      " [1 1]\n",
      " [1 1]\n",
      " [1 0]\n",
      " [0 1]\n",
      " [0 0]\n",
      " [0 0]\n",
      " [0 0]\n",
      " [1 0]\n",
      " [1 0]\n",
      " [1 0]\n",
      " [0 0]\n",
      " [1 1]\n",
      " [0 1]\n",
      " [0 1]\n",
      " [1 1]\n",
      " [0 0]\n",
      " [0 0]\n",
      " [0 1]\n",
      " [0 1]\n",
      " [0 0]\n",
      " [1 1]\n",
      " [0 0]\n",
      " [0 0]\n",
      " [1 0]\n",
      " [0 0]\n",
      " [1 1]\n",
      " [0 0]\n",
      " [0 1]\n",
      " [1 1]\n",
      " [0 1]\n",
      " [1 0]\n",
      " [1 1]\n",
      " [1 1]\n",
      " [1 1]\n",
      " [1 1]\n",
      " [0 0]\n",
      " [0 0]\n",
      " [0 1]\n",
      " [1 1]\n",
      " [0 0]\n",
      " [0 1]\n",
      " [0 0]\n",
      " [0 1]\n",
      " [0 1]\n",
      " [0 0]\n",
      " [1 1]\n",
      " [1 1]\n",
      " [0 0]\n",
      " [0 0]\n",
      " [1 1]\n",
      " [0 0]\n",
      " [0 0]\n",
      " [1 1]\n",
      " [0 0]\n",
      " [0 0]\n",
      " [0 0]\n",
      " [0 1]\n",
      " [0 0]\n",
      " [0 1]\n",
      " [0 1]\n",
      " [1 0]\n",
      " [0 1]\n",
      " [1 1]\n",
      " [1 1]\n",
      " [0 0]\n",
      " [1 1]\n",
      " [1 0]\n",
      " [0 1]\n",
      " [1 1]\n",
      " [0 0]\n",
      " [0 1]\n",
      " [0 1]\n",
      " [1 1]\n",
      " [0 0]\n",
      " [1 0]\n",
      " [0 1]\n",
      " [1 0]\n",
      " [1 1]\n",
      " [1 1]\n",
      " [1 1]\n",
      " [1 1]\n",
      " [0 1]\n",
      " [0 0]\n",
      " [1 1]\n",
      " [0 0]\n",
      " [0 0]\n",
      " [1 0]\n",
      " [1 1]\n",
      " [0 0]\n",
      " [0 0]\n",
      " [1 1]\n",
      " [0 0]\n",
      " [1 1]\n",
      " [0 0]\n",
      " [0 0]\n",
      " [1 1]\n",
      " [1 1]\n",
      " [0 1]\n",
      " [1 1]\n",
      " [1 1]\n",
      " [0 0]\n",
      " [1 1]\n",
      " [1 1]\n",
      " [1 1]\n",
      " [0 0]\n",
      " [0 0]\n",
      " [0 0]\n",
      " [1 0]\n",
      " [0 1]\n",
      " [0 1]\n",
      " [0 1]\n",
      " [0 1]\n",
      " [1 1]\n",
      " [1 1]\n",
      " [1 1]\n",
      " [0 0]\n",
      " [0 0]\n",
      " [1 1]\n",
      " [0 1]\n",
      " [1 1]\n",
      " [0 0]\n",
      " [0 0]\n",
      " [0 0]\n",
      " [1 1]\n",
      " [1 1]\n",
      " [1 0]\n",
      " [0 0]\n",
      " [0 0]\n",
      " [0 0]\n",
      " [0 0]\n",
      " [1 1]\n",
      " [0 0]\n",
      " [1 1]\n",
      " [1 1]\n",
      " [0 0]\n",
      " [0 0]\n",
      " [0 1]\n",
      " [0 0]\n",
      " [1 1]\n",
      " [0 0]\n",
      " [1 1]\n",
      " [1 1]\n",
      " [1 0]\n",
      " [0 0]\n",
      " [0 0]\n",
      " [0 0]\n",
      " [0 1]\n",
      " [0 0]\n",
      " [1 1]\n",
      " [0 0]\n",
      " [1 1]\n",
      " [1 1]\n",
      " [0 0]\n",
      " [0 0]\n",
      " [0 0]\n",
      " [1 1]\n",
      " [0 0]\n",
      " [1 1]\n",
      " [1 1]\n",
      " [0 0]\n",
      " [0 1]]\n"
     ]
    }
   ]
  },
  {
   "cell_type": "markdown",
   "source": [
    "### Evaluating Performance"
   ],
   "metadata": {
    "id": "GF3lVOH5Tc1a"
   }
  },
  {
   "cell_type": "code",
   "source": [
    "model = 'CART'\n",
    "cm = confusion_matrix(y_test, y_pred)\n",
    "ac = round(accuracy_score(y_test, y_pred), 3)\n",
    "ps = round(precision_score(y_test, y_pred), 3)\n",
    "rs = round(recall_score(y_test, y_pred), 3)\n",
    "fs = round(f1_score(y_test, y_pred), 3)"
   ],
   "metadata": {
    "id": "zmIjG4bbTc1a"
   },
   "execution_count": null,
   "outputs": []
  },
  {
   "cell_type": "code",
   "source": [
    "print(cm)"
   ],
   "metadata": {
    "colab": {
     "base_uri": "https://localhost:8080/"
    },
    "outputId": "8fcbcc9b-4860-4731-bb94-e5907d386286",
    "id": "b7gHuKvtTc1a"
   },
   "execution_count": null,
   "outputs": [
    {
     "output_type": "stream",
     "name": "stdout",
     "text": [
      "[[77 20]\n",
      " [33 70]]\n"
     ]
    }
   ]
  },
  {
   "cell_type": "code",
   "source": [
    "print(ac)"
   ],
   "metadata": {
    "colab": {
     "base_uri": "https://localhost:8080/"
    },
    "outputId": "04014c4a-b4ae-4571-95ba-a4bdf211d0dc",
    "id": "YRtn7HygTc1b"
   },
   "execution_count": null,
   "outputs": [
    {
     "output_type": "stream",
     "name": "stdout",
     "text": [
      "0.735\n"
     ]
    }
   ]
  },
  {
   "cell_type": "code",
   "source": [
    "print(ps)"
   ],
   "metadata": {
    "colab": {
     "base_uri": "https://localhost:8080/"
    },
    "outputId": "615dc4dc-b232-4389-97a1-4551d124b22d",
    "id": "5B80wNYpTc1b"
   },
   "execution_count": null,
   "outputs": [
    {
     "output_type": "stream",
     "name": "stdout",
     "text": [
      "0.778\n"
     ]
    }
   ]
  },
  {
   "cell_type": "code",
   "source": [
    "print(rs)"
   ],
   "metadata": {
    "colab": {
     "base_uri": "https://localhost:8080/"
    },
    "outputId": "7f138c6d-7710-4a47-863a-74b64e04e815",
    "id": "gBr6vCPnTc1c"
   },
   "execution_count": null,
   "outputs": [
    {
     "output_type": "stream",
     "name": "stdout",
     "text": [
      "0.68\n"
     ]
    }
   ]
  },
  {
   "cell_type": "code",
   "source": [
    "print(fs)"
   ],
   "metadata": {
    "colab": {
     "base_uri": "https://localhost:8080/"
    },
    "outputId": "7c2d86b6-ffff-49c8-abff-1f2b8a925a3e",
    "id": "Xtt762KZTc1c"
   },
   "execution_count": null,
   "outputs": [
    {
     "output_type": "stream",
     "name": "stdout",
     "text": [
      "0.725\n"
     ]
    }
   ]
  },
  {
   "cell_type": "code",
   "source": [
    "performance = np.concatenate((performance, [[model, ac, ps, rs, fs]]))"
   ],
   "metadata": {
    "id": "6Rquf_fuTc1c"
   },
   "execution_count": null,
   "outputs": []
  },
  {
   "cell_type": "code",
   "source": [
    "print(performance)"
   ],
   "metadata": {
    "colab": {
     "base_uri": "https://localhost:8080/"
    },
    "id": "zoMU7VjETc1d",
    "outputId": "37586932-0091-4a72-873e-d63b8af11f2f"
   },
   "execution_count": null,
   "outputs": [
    {
     "output_type": "stream",
     "name": "stdout",
     "text": [
      "[['Model' 'Accuracy' 'Precision' 'Recall' 'F1 Score']\n",
      " ['Logistic Regression' '0.775' '0.815' '0.728' '0.769']\n",
      " ['K-NN' '0.645' '0.678' '0.592' '0.632']\n",
      " ['SVM' '0.79' '0.814' '0.767' '0.79']\n",
      " ['Kernel SVM' '0.78' '0.893' '0.65' '0.753']\n",
      " ['Naive Bayes' '0.73' '0.684' '0.883' '0.771']\n",
      " ['Decision Tree' '0.75' '0.791' '0.699' '0.742']\n",
      " ['Random Forest' '0.725' '0.853' '0.563' '0.678']\n",
      " ['CART' '0.735' '0.778' '0.68' '0.725']]\n"
     ]
    }
   ]
  },
  {
   "cell_type": "markdown",
   "source": [
    "## Training the Maximum Entropy model on the Training set"
   ],
   "metadata": {
    "id": "-Tr4nSPXU6fK"
   }
  },
  {
   "cell_type": "code",
   "source": [
    "from sklearn.linear_model import LogisticRegression\n",
    "classifier = LogisticRegression(penalty='l2', C = 1.0)\n",
    "classifier.fit(X_train, y_train)"
   ],
   "metadata": {
    "colab": {
     "base_uri": "https://localhost:8080/",
     "height": 74
    },
    "outputId": "d2405487-8830-42e3-b8a0-fc7dc9c249e5",
    "id": "d-OleeW4U6fL"
   },
   "execution_count": null,
   "outputs": [
    {
     "output_type": "execute_result",
     "data": {
      "text/plain": [
       "LogisticRegression()"
      ],
      "text/html": [
       "<style>#sk-container-id-61 {color: black;background-color: white;}#sk-container-id-61 pre{padding: 0;}#sk-container-id-61 div.sk-toggleable {background-color: white;}#sk-container-id-61 label.sk-toggleable__label {cursor: pointer;display: block;width: 100%;margin-bottom: 0;padding: 0.3em;box-sizing: border-box;text-align: center;}#sk-container-id-61 label.sk-toggleable__label-arrow:before {content: \"▸\";float: left;margin-right: 0.25em;color: #696969;}#sk-container-id-61 label.sk-toggleable__label-arrow:hover:before {color: black;}#sk-container-id-61 div.sk-estimator:hover label.sk-toggleable__label-arrow:before {color: black;}#sk-container-id-61 div.sk-toggleable__content {max-height: 0;max-width: 0;overflow: hidden;text-align: left;background-color: #f0f8ff;}#sk-container-id-61 div.sk-toggleable__content pre {margin: 0.2em;color: black;border-radius: 0.25em;background-color: #f0f8ff;}#sk-container-id-61 input.sk-toggleable__control:checked~div.sk-toggleable__content {max-height: 200px;max-width: 100%;overflow: auto;}#sk-container-id-61 input.sk-toggleable__control:checked~label.sk-toggleable__label-arrow:before {content: \"▾\";}#sk-container-id-61 div.sk-estimator input.sk-toggleable__control:checked~label.sk-toggleable__label {background-color: #d4ebff;}#sk-container-id-61 div.sk-label input.sk-toggleable__control:checked~label.sk-toggleable__label {background-color: #d4ebff;}#sk-container-id-61 input.sk-hidden--visually {border: 0;clip: rect(1px 1px 1px 1px);clip: rect(1px, 1px, 1px, 1px);height: 1px;margin: -1px;overflow: hidden;padding: 0;position: absolute;width: 1px;}#sk-container-id-61 div.sk-estimator {font-family: monospace;background-color: #f0f8ff;border: 1px dotted black;border-radius: 0.25em;box-sizing: border-box;margin-bottom: 0.5em;}#sk-container-id-61 div.sk-estimator:hover {background-color: #d4ebff;}#sk-container-id-61 div.sk-parallel-item::after {content: \"\";width: 100%;border-bottom: 1px solid gray;flex-grow: 1;}#sk-container-id-61 div.sk-label:hover label.sk-toggleable__label {background-color: #d4ebff;}#sk-container-id-61 div.sk-serial::before {content: \"\";position: absolute;border-left: 1px solid gray;box-sizing: border-box;top: 0;bottom: 0;left: 50%;z-index: 0;}#sk-container-id-61 div.sk-serial {display: flex;flex-direction: column;align-items: center;background-color: white;padding-right: 0.2em;padding-left: 0.2em;position: relative;}#sk-container-id-61 div.sk-item {position: relative;z-index: 1;}#sk-container-id-61 div.sk-parallel {display: flex;align-items: stretch;justify-content: center;background-color: white;position: relative;}#sk-container-id-61 div.sk-item::before, #sk-container-id-61 div.sk-parallel-item::before {content: \"\";position: absolute;border-left: 1px solid gray;box-sizing: border-box;top: 0;bottom: 0;left: 50%;z-index: -1;}#sk-container-id-61 div.sk-parallel-item {display: flex;flex-direction: column;z-index: 1;position: relative;background-color: white;}#sk-container-id-61 div.sk-parallel-item:first-child::after {align-self: flex-end;width: 50%;}#sk-container-id-61 div.sk-parallel-item:last-child::after {align-self: flex-start;width: 50%;}#sk-container-id-61 div.sk-parallel-item:only-child::after {width: 0;}#sk-container-id-61 div.sk-dashed-wrapped {border: 1px dashed gray;margin: 0 0.4em 0.5em 0.4em;box-sizing: border-box;padding-bottom: 0.4em;background-color: white;}#sk-container-id-61 div.sk-label label {font-family: monospace;font-weight: bold;display: inline-block;line-height: 1.2em;}#sk-container-id-61 div.sk-label-container {text-align: center;}#sk-container-id-61 div.sk-container {/* jupyter's `normalize.less` sets `[hidden] { display: none; }` but bootstrap.min.css set `[hidden] { display: none !important; }` so we also need the `!important` here to be able to override the default hidden behavior on the sphinx rendered scikit-learn.org. See: https://github.com/scikit-learn/scikit-learn/issues/21755 */display: inline-block !important;position: relative;}#sk-container-id-61 div.sk-text-repr-fallback {display: none;}</style><div id=\"sk-container-id-61\" class=\"sk-top-container\"><div class=\"sk-text-repr-fallback\"><pre>LogisticRegression()</pre><b>In a Jupyter environment, please rerun this cell to show the HTML representation or trust the notebook. <br />On GitHub, the HTML representation is unable to render, please try loading this page with nbviewer.org.</b></div><div class=\"sk-container\" hidden><div class=\"sk-item\"><div class=\"sk-estimator sk-toggleable\"><input class=\"sk-toggleable__control sk-hidden--visually\" id=\"sk-estimator-id-61\" type=\"checkbox\" checked><label for=\"sk-estimator-id-61\" class=\"sk-toggleable__label sk-toggleable__label-arrow\">LogisticRegression</label><div class=\"sk-toggleable__content\"><pre>LogisticRegression()</pre></div></div></div></div></div>"
      ]
     },
     "metadata": {},
     "execution_count": 975
    }
   ]
  },
  {
   "cell_type": "markdown",
   "source": [
    "### Predicting the Test set results"
   ],
   "metadata": {
    "id": "Syfd3VXBU6fL"
   }
  },
  {
   "cell_type": "code",
   "source": [
    "y_pred = classifier.predict(X_test)\n",
    "prediction = np.concatenate((y_pred.reshape(len(y_pred), 1), y_test.reshape(len(y_test), 1)), 1)"
   ],
   "metadata": {
    "id": "IL0Cyh7VU6fM"
   },
   "execution_count": null,
   "outputs": []
  },
  {
   "cell_type": "code",
   "source": [
    "print(prediction)"
   ],
   "metadata": {
    "colab": {
     "base_uri": "https://localhost:8080/"
    },
    "outputId": "587c5348-c268-485c-f7e8-17e570928ce3",
    "id": "qMomoJrJU6fM"
   },
   "execution_count": null,
   "outputs": [
    {
     "output_type": "stream",
     "name": "stdout",
     "text": [
      "[[0 0]\n",
      " [0 0]\n",
      " [0 0]\n",
      " [0 0]\n",
      " [0 0]\n",
      " [0 0]\n",
      " [1 1]\n",
      " [0 0]\n",
      " [0 0]\n",
      " [1 1]\n",
      " [1 1]\n",
      " [1 1]\n",
      " [1 0]\n",
      " [1 1]\n",
      " [1 1]\n",
      " [1 1]\n",
      " [0 0]\n",
      " [0 0]\n",
      " [0 0]\n",
      " [1 1]\n",
      " [0 0]\n",
      " [0 1]\n",
      " [1 1]\n",
      " [1 0]\n",
      " [1 0]\n",
      " [1 1]\n",
      " [0 1]\n",
      " [1 1]\n",
      " [1 1]\n",
      " [0 0]\n",
      " [1 1]\n",
      " [1 1]\n",
      " [0 1]\n",
      " [0 1]\n",
      " [1 1]\n",
      " [0 0]\n",
      " [0 0]\n",
      " [0 0]\n",
      " [0 0]\n",
      " [1 1]\n",
      " [1 1]\n",
      " [1 0]\n",
      " [1 1]\n",
      " [0 0]\n",
      " [0 0]\n",
      " [0 0]\n",
      " [1 0]\n",
      " [1 0]\n",
      " [1 0]\n",
      " [0 0]\n",
      " [1 1]\n",
      " [1 1]\n",
      " [1 1]\n",
      " [1 1]\n",
      " [0 0]\n",
      " [0 0]\n",
      " [0 1]\n",
      " [0 1]\n",
      " [0 0]\n",
      " [1 1]\n",
      " [1 0]\n",
      " [0 0]\n",
      " [0 0]\n",
      " [1 0]\n",
      " [0 1]\n",
      " [0 0]\n",
      " [1 1]\n",
      " [0 1]\n",
      " [1 1]\n",
      " [0 0]\n",
      " [1 1]\n",
      " [1 1]\n",
      " [1 1]\n",
      " [0 1]\n",
      " [0 0]\n",
      " [0 0]\n",
      " [0 1]\n",
      " [1 1]\n",
      " [0 0]\n",
      " [1 1]\n",
      " [0 0]\n",
      " [1 1]\n",
      " [1 1]\n",
      " [0 0]\n",
      " [1 1]\n",
      " [1 1]\n",
      " [1 0]\n",
      " [0 0]\n",
      " [1 1]\n",
      " [1 0]\n",
      " [0 0]\n",
      " [1 1]\n",
      " [0 0]\n",
      " [0 0]\n",
      " [0 0]\n",
      " [0 1]\n",
      " [0 0]\n",
      " [0 1]\n",
      " [0 1]\n",
      " [1 0]\n",
      " [0 1]\n",
      " [1 1]\n",
      " [1 1]\n",
      " [1 0]\n",
      " [1 1]\n",
      " [0 0]\n",
      " [1 1]\n",
      " [1 1]\n",
      " [0 0]\n",
      " [0 1]\n",
      " [0 1]\n",
      " [1 1]\n",
      " [0 0]\n",
      " [1 0]\n",
      " [0 1]\n",
      " [1 0]\n",
      " [1 1]\n",
      " [1 1]\n",
      " [1 1]\n",
      " [1 1]\n",
      " [0 1]\n",
      " [0 0]\n",
      " [1 1]\n",
      " [0 0]\n",
      " [0 0]\n",
      " [0 0]\n",
      " [0 1]\n",
      " [0 0]\n",
      " [0 0]\n",
      " [0 1]\n",
      " [0 0]\n",
      " [1 1]\n",
      " [0 0]\n",
      " [0 0]\n",
      " [1 1]\n",
      " [1 1]\n",
      " [1 1]\n",
      " [1 1]\n",
      " [1 1]\n",
      " [0 0]\n",
      " [1 1]\n",
      " [1 1]\n",
      " [1 1]\n",
      " [0 0]\n",
      " [0 0]\n",
      " [0 0]\n",
      " [0 0]\n",
      " [0 1]\n",
      " [0 1]\n",
      " [1 1]\n",
      " [0 1]\n",
      " [0 1]\n",
      " [1 1]\n",
      " [1 1]\n",
      " [0 0]\n",
      " [0 0]\n",
      " [1 1]\n",
      " [0 1]\n",
      " [1 1]\n",
      " [0 0]\n",
      " [0 0]\n",
      " [0 0]\n",
      " [1 1]\n",
      " [1 1]\n",
      " [1 0]\n",
      " [0 0]\n",
      " [0 0]\n",
      " [0 0]\n",
      " [0 0]\n",
      " [0 1]\n",
      " [0 0]\n",
      " [1 1]\n",
      " [1 1]\n",
      " [0 0]\n",
      " [0 0]\n",
      " [0 1]\n",
      " [0 0]\n",
      " [1 1]\n",
      " [0 0]\n",
      " [1 1]\n",
      " [1 1]\n",
      " [1 0]\n",
      " [0 0]\n",
      " [0 0]\n",
      " [0 0]\n",
      " [0 1]\n",
      " [0 0]\n",
      " [1 1]\n",
      " [0 0]\n",
      " [1 1]\n",
      " [1 1]\n",
      " [0 0]\n",
      " [0 0]\n",
      " [0 0]\n",
      " [1 1]\n",
      " [0 0]\n",
      " [1 1]\n",
      " [1 1]\n",
      " [0 0]\n",
      " [1 1]]\n"
     ]
    }
   ]
  },
  {
   "cell_type": "markdown",
   "source": [
    "### Evaluating Performance"
   ],
   "metadata": {
    "id": "riKTqN9IU6fM"
   }
  },
  {
   "cell_type": "code",
   "source": [
    "model = 'Maximum Entropy'\n",
    "cm = confusion_matrix(y_test, y_pred)\n",
    "ac = round(accuracy_score(y_test, y_pred), 3)\n",
    "ps = round(precision_score(y_test, y_pred), 3)\n",
    "rs = round(recall_score(y_test, y_pred), 3)\n",
    "fs = round(f1_score(y_test, y_pred), 3)"
   ],
   "metadata": {
    "id": "Xke9LFmTU6fM"
   },
   "execution_count": null,
   "outputs": []
  },
  {
   "cell_type": "code",
   "source": [
    "print(cm)"
   ],
   "metadata": {
    "colab": {
     "base_uri": "https://localhost:8080/"
    },
    "outputId": "b8cf793b-edaf-4d9a-d56e-806090d36fa2",
    "id": "s9TnGpg8U6fN"
   },
   "execution_count": null,
   "outputs": [
    {
     "output_type": "stream",
     "name": "stdout",
     "text": [
      "[[80 17]\n",
      " [28 75]]\n"
     ]
    }
   ]
  },
  {
   "cell_type": "code",
   "source": [
    "print(ac)"
   ],
   "metadata": {
    "colab": {
     "base_uri": "https://localhost:8080/"
    },
    "outputId": "f15ea182-a04d-4ee6-dd8a-7cba4a147e5c",
    "id": "9wFylpDHU6fN"
   },
   "execution_count": null,
   "outputs": [
    {
     "output_type": "stream",
     "name": "stdout",
     "text": [
      "0.775\n"
     ]
    }
   ]
  },
  {
   "cell_type": "code",
   "source": [
    "print(ps)"
   ],
   "metadata": {
    "colab": {
     "base_uri": "https://localhost:8080/"
    },
    "outputId": "707d6f11-e572-40aa-9252-0aa4e2115444",
    "id": "2mmYbjFaU6fN"
   },
   "execution_count": null,
   "outputs": [
    {
     "output_type": "stream",
     "name": "stdout",
     "text": [
      "0.815\n"
     ]
    }
   ]
  },
  {
   "cell_type": "code",
   "source": [
    "print(rs)"
   ],
   "metadata": {
    "colab": {
     "base_uri": "https://localhost:8080/"
    },
    "outputId": "ee041166-8bf4-4fee-99d0-3456720ef3c4",
    "id": "HXBdn9GxU6fO"
   },
   "execution_count": null,
   "outputs": [
    {
     "output_type": "stream",
     "name": "stdout",
     "text": [
      "0.728\n"
     ]
    }
   ]
  },
  {
   "cell_type": "code",
   "source": [
    "print(fs)"
   ],
   "metadata": {
    "colab": {
     "base_uri": "https://localhost:8080/"
    },
    "outputId": "deed3e9e-fe9c-4368-d1ba-a688b9970d31",
    "id": "bAdkY5OpU6fO"
   },
   "execution_count": null,
   "outputs": [
    {
     "output_type": "stream",
     "name": "stdout",
     "text": [
      "0.769\n"
     ]
    }
   ]
  },
  {
   "cell_type": "code",
   "source": [
    "performance = np.concatenate((performance, [[model, ac, ps, rs, fs]]))"
   ],
   "metadata": {
    "id": "eKSH3eQgU6fO"
   },
   "execution_count": null,
   "outputs": []
  },
  {
   "cell_type": "code",
   "source": [
    "print(performance)"
   ],
   "metadata": {
    "colab": {
     "base_uri": "https://localhost:8080/"
    },
    "id": "5sFrn1dUU6fP",
    "outputId": "6d96ab3d-fff7-489b-8376-94014b52cdfb"
   },
   "execution_count": null,
   "outputs": [
    {
     "output_type": "stream",
     "name": "stdout",
     "text": [
      "[['Model' 'Accuracy' 'Precision' 'Recall' 'F1 Score']\n",
      " ['Logistic Regression' '0.775' '0.815' '0.728' '0.769']\n",
      " ['K-NN' '0.645' '0.678' '0.592' '0.632']\n",
      " ['SVM' '0.79' '0.814' '0.767' '0.79']\n",
      " ['Kernel SVM' '0.78' '0.893' '0.65' '0.753']\n",
      " ['Naive Bayes' '0.73' '0.684' '0.883' '0.771']\n",
      " ['Decision Tree' '0.75' '0.791' '0.699' '0.742']\n",
      " ['Random Forest' '0.725' '0.853' '0.563' '0.678']\n",
      " ['CART' '0.735' '0.778' '0.68' '0.725']\n",
      " ['Maximum Entropy' '0.775' '0.815' '0.728' '0.769']]\n"
     ]
    }
   ]
  },
  {
   "cell_type": "markdown",
   "source": [
    "## Comparing the Model Performances"
   ],
   "metadata": {
    "id": "iIwM5jA-VMf4"
   }
  },
  {
   "cell_type": "markdown",
   "source": [
    "TP = # True Positives, TN = # True Negatives, FP = # False Positives, FN = # False Negatives\n",
    "\n",
    "- Accuracy measures how model did predicting values in comparison to real data.\n",
    "\n",
    "Accuracy = (TP + TN) / (TP + TN + FP + FN)\n",
    "\n",
    "\n",
    "- Precission measures the exactness of predicted data in comparison to real data.\n",
    "\n",
    "Precision = TP / (TP + FP)\n",
    "\n",
    "- Recall measures completness of predicted data in comparison to real data\n",
    "\n",
    "Recall = TP / (TP + FN)\n",
    "\n",
    "- F1 Score is compromise between Precision and Recall\n",
    "\n",
    "F1 Score = 2 * Precision * Recall / (Precision + Recall)"
   ],
   "metadata": {
    "id": "vJ8c4mnViwF7"
   }
  },
  {
   "cell_type": "code",
   "source": [
    "print(pd.DataFrame(performance))"
   ],
   "metadata": {
    "colab": {
     "base_uri": "https://localhost:8080/"
    },
    "id": "a6d7aPd2Vcev",
    "outputId": "e6602e69-ea1d-434f-9ec9-56fd5fe96128"
   },
   "execution_count": null,
   "outputs": [
    {
     "output_type": "stream",
     "name": "stdout",
     "text": [
      "                     0         1          2       3         4\n",
      "0                Model  Accuracy  Precision  Recall  F1 Score\n",
      "1  Logistic Regression     0.775      0.815   0.728     0.769\n",
      "2                 K-NN     0.645      0.678   0.592     0.632\n",
      "3                  SVM      0.79      0.814   0.767      0.79\n",
      "4           Kernel SVM      0.78      0.893    0.65     0.753\n",
      "5          Naive Bayes      0.73      0.684   0.883     0.771\n",
      "6        Decision Tree      0.75      0.791   0.699     0.742\n",
      "7        Random Forest     0.725      0.853   0.563     0.678\n",
      "8                 CART     0.735      0.778    0.68     0.725\n",
      "9      Maximum Entropy     0.775      0.815   0.728     0.769\n"
     ]
    }
   ]
  },
  {
   "cell_type": "markdown",
   "metadata": {
    "id": "NZcOJH_x9GSV"
   },
   "source": [
    "# Predicting if a single review is positive or negative"
   ]
  },
  {
   "cell_type": "markdown",
   "metadata": {
    "id": "4CiVD7lB-G4E"
   },
   "source": [
    "## Positive review"
   ]
  },
  {
   "cell_type": "markdown",
   "metadata": {
    "id": "P1o_pwhj9f3x"
   },
   "source": [
    "Use our model to predict if the following review:\n",
    "\n",
    "\"I love this restaurant so much\"\n",
    "\n",
    "is positive or negative."
   ]
  },
  {
   "cell_type": "markdown",
   "metadata": {
    "id": "hIPHW4zVEvKC"
   },
   "source": [
    "**Solution:** We just repeat the same text preprocessing process we did before, but this time with a single review."
   ]
  },
  {
   "cell_type": "code",
   "metadata": {
    "id": "4-jZEzWD49su",
    "outputId": "0ee03b69-07d3-4a8c-ce34-79c2fc556c4c",
    "colab": {
     "base_uri": "https://localhost:8080/"
    }
   },
   "source": [
    "new_review = 'I love this restaurant so much'\n",
    "new_review = re.sub('[^a-zA-Z]', ' ', new_review)\n",
    "new_review = new_review.lower()\n",
    "new_review = new_review.split()\n",
    "ps = PorterStemmer()\n",
    "all_stopwords = stopwords.words('english')\n",
    "all_stopwords.remove('not')\n",
    "new_review = [ps.stem(word) for word in new_review if not word in set(all_stopwords)]\n",
    "new_review = ' '.join(new_review)\n",
    "new_corpus = [new_review]\n",
    "new_X_test = cv.transform(new_corpus).toarray()\n",
    "new_y_pred = classifier.predict(new_X_test)\n",
    "print(new_y_pred)"
   ],
   "execution_count": null,
   "outputs": [
    {
     "output_type": "stream",
     "name": "stdout",
     "text": [
      "[1]\n"
     ]
    }
   ]
  },
  {
   "cell_type": "markdown",
   "metadata": {
    "id": "Rkorcoxm93kP"
   },
   "source": [
    "The review was correctly predicted as positive by our model."
   ]
  },
  {
   "cell_type": "markdown",
   "metadata": {
    "id": "9qztXT-i-K1j"
   },
   "source": [
    "## Negative review"
   ]
  },
  {
   "cell_type": "markdown",
   "metadata": {
    "id": "cesW_qiH-CO0"
   },
   "source": [
    "Use our model to predict if the following review:\n",
    "\n",
    "\"I hate this restaurant so much\"\n",
    "\n",
    "is positive or negative."
   ]
  },
  {
   "cell_type": "markdown",
   "metadata": {
    "id": "X1DsvzmVE9EK"
   },
   "source": [
    "**Solution:** We just repeat the same text preprocessing process we did before, but this time with a single review."
   ]
  },
  {
   "cell_type": "code",
   "metadata": {
    "id": "ySAblyR98J2s",
    "outputId": "8115ae3f-e48e-4922-e46e-dca3de92ea67",
    "colab": {
     "base_uri": "https://localhost:8080/"
    }
   },
   "source": [
    "new_review = 'I hate this restaurant so much'\n",
    "new_review = re.sub('[^a-zA-Z]', ' ', new_review)\n",
    "new_review = new_review.lower()\n",
    "new_review = new_review.split()\n",
    "ps = PorterStemmer()\n",
    "all_stopwords = stopwords.words('english')\n",
    "all_stopwords.remove('not')\n",
    "new_review = [ps.stem(word) for word in new_review if not word in set(all_stopwords)]\n",
    "new_review = ' '.join(new_review)\n",
    "new_corpus = [new_review]\n",
    "new_X_test = cv.transform(new_corpus).toarray()\n",
    "new_y_pred = classifier.predict(new_X_test)\n",
    "print(new_y_pred)"
   ],
   "execution_count": null,
   "outputs": [
    {
     "output_type": "stream",
     "name": "stdout",
     "text": [
      "[0]\n"
     ]
    }
   ]
  },
  {
   "cell_type": "markdown",
   "metadata": {
    "id": "d72teliY-PUQ"
   },
   "source": [
    "The review was correctly predicted as negative by our model."
   ]
  }
 ]
}
